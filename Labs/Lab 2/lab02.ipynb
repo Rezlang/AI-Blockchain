{
 "cells": [
  {
   "cell_type": "markdown",
   "metadata": {
    "colab_type": "text",
    "id": "gY-Z4kKG_DKz"
   },
   "source": [
    "# AI and Blockchain: Spring 2024\n",
    "## Lab 02 : Secure and Private AI \n",
    "\n",
    "<p><b>Instructions:</b> Complete the code in the designated cells, and upload the completed python notebook on LMS prefixed with your RCS ID, i.e., \"senevo_lab02.ipynb\". </p>\n",
    "\n",
    "<p>Total points: <b>100</b></p>\n",
    "\n",
    "<p>Assigned: <b>Feb 13, 2024</b></p>\n",
    "<p>Due: <b>1:59 PM Mar 01, 2024</b></p>\n",
    "\n",
    "<hr>"
   ]
  },
  {
   "cell_type": "markdown",
   "metadata": {},
   "source": [
    "### Task 0: Please Type Your Information\n",
    "\n",
    "RCS ID: \n",
    "\n",
    "Name: \n",
    "\n",
    "Level (4000/6000): "
   ]
  },
  {
   "cell_type": "markdown",
   "metadata": {},
   "source": [
    "Moskoj\n",
    "Josh Moskoff\n",
    "4000"
   ]
  },
  {
   "cell_type": "markdown",
   "metadata": {
    "colab_type": "text",
    "id": "ZlmjxhWcGFKe"
   },
   "source": [
    "## Differential Privacy with a Toy Dataset\n",
    "\n",
    "Step one is to create our dataset, i.e., \"database\" - we will do this by initializing a random list of 1s and 0s (the entries in our database). Note - the number of entries directly corresponds to the number of people in our database."
   ]
  },
  {
   "cell_type": "code",
   "execution_count": 1,
   "metadata": {
    "colab": {
     "base_uri": "https://localhost:8080/",
     "height": 34
    },
    "colab_type": "code",
    "id": "29sKX2k0DQ2y",
    "outputId": "bf3efde6-6350-44f7-d327-ee6cd7d0d2da"
   },
   "outputs": [
    {
     "data": {
      "text/plain": [
       "tensor([0, 0, 1, 0, 0, 0, 1, 1, 1, 0], dtype=torch.int32)"
      ]
     },
     "execution_count": 1,
     "metadata": {},
     "output_type": "execute_result"
    }
   ],
   "source": [
    "import torch\n",
    "\n",
    "num_entries = 5000\n",
    "db = torch.rand(5000) > 0.5\n",
    "db.int()[:10]"
   ]
  },
  {
   "cell_type": "code",
   "execution_count": 2,
   "metadata": {
    "colab": {
     "base_uri": "https://localhost:8080/",
     "height": 34
    },
    "colab_type": "code",
    "id": "PzzzOF6hJP2L",
    "outputId": "94346801-b98d-4488-9f11-9df661bd7608"
   },
   "outputs": [
    {
     "data": {
      "text/plain": [
       "torch.Size([5000])"
      ]
     },
     "execution_count": 2,
     "metadata": {},
     "output_type": "execute_result"
    }
   ],
   "source": [
    "db.shape"
   ]
  },
  {
   "cell_type": "markdown",
   "metadata": {
    "colab_type": "text",
    "id": "5CYNCtHwGWEF"
   },
   "source": [
    "Key to the definition of differential privacy is the ability to ask the question, \"When querying a database if I removed someone from the database, would the output of the query be any different?\". To check this, we must construct what we term \"parallel databases,\" which are simply databases with one entry removed.\n",
    "\n",
    "### Task 1: Create parallel databases (2 points)\n",
    "\n",
    "Create a list of every parallel database to the one currently in the \"db\" variable. The code to create a single parallel database is provided for you."
   ]
  },
  {
   "cell_type": "code",
   "execution_count": 3,
   "metadata": {
    "colab": {},
    "colab_type": "code",
    "id": "ZLGzhm2XG0dy"
   },
   "outputs": [],
   "source": [
    "def get_parallel_db(db, remove_index):\n",
    "\n",
    "    return torch.cat((db[0:remove_index],\n",
    "                      db[remove_index+1:]))\n",
    "\n",
    "\n",
    "def get_parallel_dbs(db):\n",
    "    parallel_dbs = list()\n",
    "\n",
    "    for i in range(len(db)):\n",
    "        parallel_db = get_parallel_db(db, i)\n",
    "        parallel_dbs.append(parallel_db)\n",
    "\n",
    "    return parallel_dbs"
   ]
  },
  {
   "cell_type": "markdown",
   "metadata": {},
   "source": [
    "Now, let's create the database and the parallels."
   ]
  },
  {
   "cell_type": "code",
   "execution_count": 4,
   "metadata": {
    "colab": {},
    "colab_type": "code",
    "id": "MwAb4_8aIIa_"
   },
   "outputs": [],
   "source": [
    "def create_db_and_parallels(num_entries):\n",
    "\n",
    "    db = torch.rand(num_entries) > 0.5\n",
    "    pdbs = get_parallel_dbs(db)\n",
    "    return db, pdbs"
   ]
  },
  {
   "cell_type": "markdown",
   "metadata": {
    "colab_type": "text",
    "id": "V87lcvnskkHk"
   },
   "source": [
    "## Evaluating The Differential Privacy of a Function\n",
    "\n",
    "Let's make our first \"database query\" a simple sum by counting the number of 1s in the database."
   ]
  },
  {
   "cell_type": "code",
   "execution_count": 5,
   "metadata": {
    "colab": {},
    "colab_type": "code",
    "id": "bmVkLlqfk63j"
   },
   "outputs": [],
   "source": [
    "db, pdbs = create_db_and_parallels(5000)"
   ]
  },
  {
   "cell_type": "code",
   "execution_count": 6,
   "metadata": {
    "colab": {},
    "colab_type": "code",
    "id": "LfITf2mUlF-B"
   },
   "outputs": [],
   "source": [
    "def query(db):\n",
    "    return db.sum()"
   ]
  },
  {
   "cell_type": "code",
   "execution_count": 7,
   "metadata": {
    "colab": {
     "base_uri": "https://localhost:8080/",
     "height": 34
    },
    "colab_type": "code",
    "id": "fyBWU-PFlIba",
    "outputId": "73cf4a64-6496-40c4-f311-89cd6b320ac5"
   },
   "outputs": [
    {
     "data": {
      "text/plain": [
       "tensor(2490)"
      ]
     },
     "execution_count": 7,
     "metadata": {},
     "output_type": "execute_result"
    }
   ],
   "source": [
    "full_db_result = query(db)\n",
    "full_db_result"
   ]
  },
  {
   "cell_type": "code",
   "execution_count": 8,
   "metadata": {
    "colab": {
     "base_uri": "https://localhost:8080/",
     "height": 34
    },
    "colab_type": "code",
    "id": "1bgsCBW6m6_X",
    "outputId": "5d6f46b2-544d-4862-a21b-6358ccb2d2a2"
   },
   "outputs": [
    {
     "data": {
      "text/plain": [
       "tensor(2489)"
      ]
     },
     "execution_count": 8,
     "metadata": {},
     "output_type": "execute_result"
    }
   ],
   "source": [
    "pdb0_result = query(pdbs[0])\n",
    "pdb0_result"
   ]
  },
  {
   "cell_type": "code",
   "execution_count": 9,
   "metadata": {
    "colab": {},
    "colab_type": "code",
    "id": "iHqgQMhflLOv"
   },
   "outputs": [],
   "source": [
    "sensitivity = 0\n",
    "for pdb in pdbs:\n",
    "    pdb_result = query(pdb)\n",
    "\n",
    "    db_distance = torch.abs(pdb_result - full_db_result)\n",
    "\n",
    "    if (db_distance > sensitivity):\n",
    "        sensitivity = db_distance"
   ]
  },
  {
   "cell_type": "code",
   "execution_count": 10,
   "metadata": {
    "colab": {
     "base_uri": "https://localhost:8080/",
     "height": 34
    },
    "colab_type": "code",
    "id": "sxYYVjOilNG5",
    "outputId": "50750935-9152-4cc7-d32d-9665cb3e3370"
   },
   "outputs": [
    {
     "data": {
      "text/plain": [
       "tensor(1)"
      ]
     },
     "execution_count": 10,
     "metadata": {},
     "output_type": "execute_result"
    }
   ],
   "source": [
    "sensitivity"
   ]
  },
  {
   "cell_type": "markdown",
   "metadata": {
    "colab_type": "text",
    "id": "0gPWNoKip_A6"
   },
   "source": [
    "## Evaluating the Privacy of a Function\n",
    "\n",
    "We can measure the difference between each parallel db's query result and the query result for the entire database by calculating the max value (1). This value is called \"sensitivity,\" corresponding to the function we chose for the query. The \"sum\" query will always have a sensitivity of exactly 1. We can also calculate sensitivity for other functions. The steps for evaluating the sensitivity include the following:\n",
    "\n",
    "* Initialize a database of the correct size\n",
    "* Initialize all parallel databases\n",
    "* Run the query over all databases\n",
    "* Correctly calculate sensitivity\n",
    "* Return the sensitivity"
   ]
  },
  {
   "cell_type": "code",
   "execution_count": 11,
   "metadata": {
    "colab": {},
    "colab_type": "code",
    "id": "hRdhVoQ07utx"
   },
   "outputs": [],
   "source": [
    "def sensitivity(query, n_entries=1000):\n",
    "\n",
    "    db, pdbs = create_db_and_parallels(n_entries)\n",
    "\n",
    "    full_db_result = query(db)\n",
    "\n",
    "    max_distance = 0\n",
    "    for pdb in pdbs:\n",
    "        pdb_result = query(pdb)\n",
    "\n",
    "        db_distance = torch.abs(pdb_result - full_db_result)\n",
    "\n",
    "        if (db_distance > max_distance):\n",
    "            max_distance = db_distance\n",
    "\n",
    "    return max_distance"
   ]
  },
  {
   "cell_type": "markdown",
   "metadata": {
    "colab_type": "text",
    "id": "ke_-72Dp8KnP"
   },
   "source": [
    "### Task 2: Calculate sensitivity for the \"mean\" function (3 points)"
   ]
  },
  {
   "cell_type": "code",
   "execution_count": 12,
   "metadata": {},
   "outputs": [
    {
     "data": {
      "text/plain": [
       "tensor(0.0005)"
      ]
     },
     "execution_count": 12,
     "metadata": {},
     "output_type": "execute_result"
    }
   ],
   "source": [
    "# Type your code here. You should print the sensitivity for mean\n",
    "def meanSensitivity(db, pdbs):\n",
    "    full_db_result = torch.mean(db)\n",
    "\n",
    "    max_distance = 0\n",
    "    for pdb in pdbs:\n",
    "        pdb_result = torch.mean(pdb)\n",
    "\n",
    "        db_distance = torch.abs(pdb_result - full_db_result)\n",
    "\n",
    "        if (db_distance > max_distance):\n",
    "            max_distance = db_distance\n",
    "\n",
    "    return max_distance\n",
    "\n",
    "\n",
    "num_entries = 1000\n",
    "dbMean = torch.rand(num_entries)\n",
    "pdbsMean = get_parallel_dbs(dbMean)\n",
    "meanSensitivity(dbMean, pdbsMean)"
   ]
  },
  {
   "cell_type": "markdown",
   "metadata": {
    "colab_type": "text",
    "id": "FnSEmL8n-8T1"
   },
   "source": [
    "## A Basic Differencing Attack\n",
    "\n",
    "Let's construct a database and then demonstrate how you can use two different sum queries to expose the value of the person represented by row 10 in the database (note, you'll need to use a database with at least 10 rows)"
   ]
  },
  {
   "cell_type": "code",
   "execution_count": 13,
   "metadata": {
    "colab": {},
    "colab_type": "code",
    "id": "AGijuH4pE7PO"
   },
   "outputs": [
    {
     "name": "stdout",
     "output_type": "stream",
     "text": [
      "tensor(0)\n"
     ]
    }
   ],
   "source": [
    "db, _ = create_db_and_parallels(100)\n",
    "pdb = get_parallel_db(db, remove_index=10)\n",
    "db[10].int()\n",
    "sum(db)\n",
    "# differencing attack using sum query\n",
    "print(sum(db) - sum(pdb))"
   ]
  },
  {
   "cell_type": "markdown",
   "metadata": {},
   "source": [
    "### Task 3: Demonstrate the differencing attack using the mean query (5 points)"
   ]
  },
  {
   "cell_type": "code",
   "execution_count": 14,
   "metadata": {
    "colab": {
     "base_uri": "https://localhost:8080/",
     "height": 34
    },
    "colab_type": "code",
    "id": "VxuCC4vIFKjK",
    "outputId": "27c1814a-5ff2-4417-d9e0-8c41e0dd5502"
   },
   "outputs": [
    {
     "name": "stdout",
     "output_type": "stream",
     "text": [
      "tensor(0.0020)\n"
     ]
    }
   ],
   "source": [
    "# Type your code here\n",
    "db = torch.rand(100)\n",
    "pdb = get_parallel_db(db, remove_index=10)\n",
    "# differencing attack using sum query\n",
    "print(torch.abs(torch.mean(db) - torch.mean(pdb)))"
   ]
  },
  {
   "cell_type": "markdown",
   "metadata": {
    "colab_type": "text",
    "id": "_kprAlJYHFR2"
   },
   "source": [
    "## Local Differential Privacy\n",
    "### Randomized Response\n",
    "\n",
    "Let's say we have a group of people we wish to survey about a taboo behavior (e.g., nose picking, drug addiction, criminal behavior, cheating on their spouse) that we think they will lie about. \n",
    "We are not law enforcement; we are just trying to collect statistics to understand the higher-level trend in society using AI. \n",
    "So, how do we do this?\n",
    "\n",
    "One technique is to add randomness to each person's response by giving each person the following instructions (assuming we are asking a simple yes/no question):\n",
    "\n",
    "* Flip a coin two times.\n",
    "* If the first coin flip is heads, answer honestly\n",
    "* If the first coin flip is tails, answer according to the second coin flip (heads for yes, tails for no)!\n",
    "\n",
    "Each person is now protected with \"plausible deniability.\" If they answer \"Yes\" to the question \"Have you committed X crime?\", it might be because they actually did or because they are answering according to a random coin flip. Each person has a high degree of protection. Furthermore, we can recover the underlying statistics with some accuracy, as the \"true statistics\" are averaged with a 50% probability. Thus, if we collect a bunch of samples and it turns out that 60% of people answer yes, then we know that the TRUE distribution is centered around 70% because 70% averaged with 50% (a coin flip) is 60%, which is the result we obtained.\n",
    "\n",
    "However, it should be noted that, especially when we only have a few samples, this comes at the cost of accuracy. This tradeoff exists across all of Differential Privacy. The greater the privacy protection (plausible deniability), the less accurate the results.\n",
    "\n",
    "Let's implement this local DP for our database before!"
   ]
  },
  {
   "cell_type": "code",
   "execution_count": 15,
   "metadata": {
    "colab": {},
    "colab_type": "code",
    "id": "iTrLAJjHRHMx"
   },
   "outputs": [],
   "source": [
    "def query(db):\n",
    "    print(db)\n",
    "    true_result = torch.mean(db.float())\n",
    "\n",
    "    first_coin_flip = (torch.rand(len(db)) < 0.5).float()\n",
    "    second_coin_flip = (torch.rand(len(db)) < 0.5).float()\n",
    "\n",
    "    augmented_database = db.float() * first_coin_flip + \\\n",
    "        (1 - first_coin_flip) * second_coin_flip\n",
    "\n",
    "    print(augmented_database)\n",
    "\n",
    "    private_result = torch.mean(augmented_database.float()) * 2 - 0.5\n",
    "\n",
    "    return private_result, true_result"
   ]
  },
  {
   "cell_type": "markdown",
   "metadata": {
    "colab_type": "text",
    "id": "hoECjzMldKtR"
   },
   "source": [
    "### Task 4: Show how the private result (with noise) and the true result (without noise) change for databases of size 10, 100, 1000, and 10000. (5 points)\n",
    "*Hint: Chart the results in a histogram for easy comparison.*"
   ]
  },
  {
   "cell_type": "code",
   "execution_count": 16,
   "metadata": {},
   "outputs": [
    {
     "name": "stdout",
     "output_type": "stream",
     "text": [
      "tensor([   10,   100,  1000, 10000])\n",
      "tensor([0.7384, 0.9973, 0.3118, 0.8882, 0.2073, 0.1322, 0.1373, 0.9166, 0.7290,\n",
      "        0.6957])\n",
      "tensor([0.7384, 1.0000, 0.3118, 0.0000, 0.2073, 0.1322, 0.1373, 1.0000, 1.0000,\n",
      "        0.6957])\n",
      "tensor([0.5322, 0.2146, 0.0785, 0.1108, 0.7930, 0.4022, 0.2426, 0.4166, 0.3568,\n",
      "        0.8565, 0.6354, 0.2640, 0.6483, 0.5467, 0.4185, 0.0783, 0.2250, 0.2492,\n",
      "        0.9862, 0.4428, 0.9469, 0.2693, 0.6901, 0.8866, 0.7292, 0.3553, 0.3749,\n",
      "        0.1632, 0.0697, 0.9073, 0.6955, 0.1338, 0.8953, 0.4142, 0.0921, 0.7901,\n",
      "        0.2859, 0.0525, 0.2218, 0.5405, 0.0016, 0.7255, 0.7960, 0.8034, 0.9208,\n",
      "        0.5129, 0.7581, 0.6594, 0.2792, 0.6255, 0.2552, 0.6234, 0.0279, 0.9942,\n",
      "        0.8680, 0.5279, 0.7780, 0.4237, 0.4526, 0.2483, 0.5325, 0.8724, 0.7162,\n",
      "        0.7027, 0.9989, 0.5500, 0.5155, 0.4752, 0.5418, 0.6727, 0.0190, 0.3080,\n",
      "        0.6139, 0.9611, 0.0391, 0.2125, 0.7759, 0.9426, 0.5469, 0.9422, 0.4784,\n",
      "        0.2502, 0.4831, 0.4884, 0.3432, 0.7968, 0.4746, 0.6439, 0.4276, 0.8959,\n",
      "        0.0759, 0.8646, 0.8786, 0.4734, 0.2098, 0.9729, 0.9495, 0.3970, 0.3313,\n",
      "        0.8916])\n",
      "tensor([0.5322, 0.0000, 0.0785, 0.0000, 0.7930, 0.4022, 0.2426, 1.0000, 0.0000,\n",
      "        0.8565, 1.0000, 1.0000, 0.6483, 0.0000, 0.0000, 0.0783, 0.2250, 1.0000,\n",
      "        0.9862, 0.4428, 1.0000, 0.2693, 1.0000, 0.8866, 0.0000, 1.0000, 1.0000,\n",
      "        1.0000, 0.0697, 0.0000, 0.6955, 0.1338, 1.0000, 0.0000, 0.0921, 0.0000,\n",
      "        0.0000, 0.0525, 0.2218, 0.5405, 0.0016, 0.7255, 0.7960, 0.0000, 0.0000,\n",
      "        1.0000, 0.0000, 1.0000, 0.2792, 1.0000, 0.0000, 0.0000, 0.0279, 0.9942,\n",
      "        0.0000, 0.5279, 0.7780, 1.0000, 1.0000, 0.0000, 1.0000, 0.8724, 1.0000,\n",
      "        0.0000, 0.0000, 0.0000, 0.5155, 0.4752, 0.5418, 0.6727, 0.0000, 0.0000,\n",
      "        0.6139, 0.9611, 0.0391, 0.0000, 0.7759, 0.9426, 0.5469, 0.9422, 1.0000,\n",
      "        1.0000, 0.4831, 0.4884, 0.3432, 1.0000, 0.0000, 0.6439, 0.0000, 0.8959,\n",
      "        0.0759, 0.0000, 1.0000, 1.0000, 0.2098, 0.9729, 1.0000, 0.3970, 0.3313,\n",
      "        0.8916])\n",
      "tensor([0.8503, 0.8823, 0.7369, 0.7019, 0.7673, 0.7819, 0.7214, 0.7157, 0.2462,\n",
      "        0.2571, 0.9580, 0.2369, 0.8602, 0.0079, 0.8954, 0.3679, 0.9022, 0.4408,\n",
      "        0.2828, 0.5988, 0.4236, 0.8882, 0.4444, 0.4734, 0.7293, 0.6589, 0.8087,\n",
      "        0.4306, 0.7971, 0.4360, 0.7408, 0.2514, 0.2780, 0.2420, 0.5268, 0.8202,\n",
      "        0.5564, 0.2301, 0.0260, 0.5450, 0.9727, 0.6394, 0.1022, 0.7705, 0.3402,\n",
      "        0.7939, 0.0740, 0.2343, 0.9513, 0.8184, 0.9216, 0.0758, 0.0114, 0.8035,\n",
      "        0.1510, 0.9431, 0.2738, 0.5978, 0.9966, 0.2447, 0.1129, 0.2570, 0.6607,\n",
      "        0.7184, 0.4404, 0.8022, 0.4805, 0.4172, 0.0994, 0.7627, 0.7361, 0.9931,\n",
      "        0.9913, 0.5421, 0.7355, 0.3962, 0.5482, 0.0725, 0.2270, 0.8697, 0.5496,\n",
      "        0.1853, 0.1517, 0.8181, 0.8951, 0.9942, 0.2430, 0.9501, 0.9014, 0.7208,\n",
      "        0.1608, 0.4564, 0.4484, 0.2937, 0.7599, 0.9366, 0.8777, 0.3519, 0.5775,\n",
      "        0.1271, 0.1130, 0.3554, 0.5076, 0.8913, 0.2000, 0.2480, 0.8764, 0.7434,\n",
      "        0.0171, 0.8467, 0.3685, 0.4705, 0.5923, 0.7140, 0.0738, 0.8892, 0.7535,\n",
      "        0.4567, 0.3156, 0.3784, 0.5599, 0.5900, 0.9204, 0.3792, 0.0935, 0.0997,\n",
      "        0.6438, 0.6513, 0.6700, 0.7928, 0.4699, 0.0160, 0.8942, 0.8555, 0.2371,\n",
      "        0.7577, 0.2384, 0.9197, 0.4625, 0.1927, 0.0647, 0.2366, 0.4205, 0.9242,\n",
      "        0.2788, 0.2864, 0.3914, 0.1282, 0.0200, 0.2152, 0.9756, 0.7403, 0.5838,\n",
      "        0.2973, 0.1451, 0.5626, 0.3534, 0.2563, 0.6591, 0.3528, 0.7889, 0.8175,\n",
      "        0.4035, 0.6333, 0.3112, 0.3628, 0.0774, 0.0760, 0.2099, 0.9533, 0.4735,\n",
      "        0.2015, 0.6741, 0.1584, 0.3360, 0.6864, 0.6859, 0.2510, 0.9792, 0.0608,\n",
      "        0.9462, 0.2842, 0.3612, 0.1378, 0.5524, 0.3239, 0.2292, 0.4009, 0.7477,\n",
      "        0.8980, 0.9037, 0.5518, 0.8698, 0.8770, 0.3818, 0.1338, 0.6113, 0.7249,\n",
      "        0.9593, 0.1999, 0.1417, 0.2172, 0.5369, 0.0977, 0.1926, 0.1504, 0.7585,\n",
      "        0.1685, 0.1616, 0.1997, 0.9217, 0.1020, 0.1093, 0.8720, 0.7332, 0.0111,\n",
      "        0.3336, 0.7487, 0.5274, 0.6107, 0.3750, 0.5347, 0.8692, 0.7575, 0.0646,\n",
      "        0.6287, 0.9606, 0.8297, 0.9906, 0.2583, 0.3649, 0.3366, 0.1373, 0.1323,\n",
      "        0.8424, 0.1593, 0.7086, 0.3012, 0.3504, 0.4472, 0.1842, 0.9100, 0.5805,\n",
      "        0.2871, 0.8398, 0.7514, 0.7443, 0.5520, 0.4804, 0.4467, 0.1747, 0.9249,\n",
      "        0.6645, 0.6725, 0.6051, 0.6761, 0.0662, 0.6774, 0.4896, 0.9497, 0.2356,\n",
      "        0.5608, 0.3729, 0.9201, 0.2283, 0.3894, 0.1437, 0.0414, 0.5067, 0.9120,\n",
      "        0.3020, 0.2135, 0.4006, 0.8319, 0.2501, 0.3053, 0.4870, 0.8589, 0.7866,\n",
      "        0.9163, 0.7652, 0.8722, 0.2723, 0.0586, 0.1328, 0.0041, 0.8036, 0.3243,\n",
      "        0.1031, 0.8581, 0.7654, 0.2188, 0.7599, 0.0896, 0.7741, 0.6282, 0.3233,\n",
      "        0.8198, 0.5674, 0.0273, 0.2157, 0.9319, 0.7620, 0.4038, 0.1735, 0.2127,\n",
      "        0.9347, 0.9603, 0.9029, 0.5816, 0.7359, 0.1374, 0.1222, 0.5898, 0.7269,\n",
      "        0.1837, 0.4505, 0.7627, 0.2003, 0.8482, 0.5651, 0.4705, 0.6413, 0.4002,\n",
      "        0.0394, 0.8314, 0.2563, 0.0045, 0.2143, 0.5377, 0.4358, 0.6378, 0.5089,\n",
      "        0.1877, 0.8557, 0.7927, 0.9237, 0.9151, 0.9367, 0.3264, 0.5345, 0.0937,\n",
      "        0.1774, 0.0511, 0.4129, 0.1089, 0.0805, 0.3713, 0.3912, 0.6173, 0.4543,\n",
      "        0.9083, 0.1107, 0.4272, 0.2379, 0.0710, 0.4917, 0.3820, 0.8212, 0.9745,\n",
      "        0.5897, 0.2644, 0.0584, 0.4713, 0.5437, 0.8141, 0.0465, 0.9378, 0.6299,\n",
      "        0.8990, 0.5541, 0.7878, 0.1917, 0.7237, 0.1467, 0.4118, 0.4550, 0.2806,\n",
      "        0.9878, 0.2827, 0.7861, 0.0148, 0.0622, 0.9843, 0.6741, 0.4296, 0.6810,\n",
      "        0.7203, 0.9349, 0.8788, 0.0113, 0.7696, 0.2513, 0.3779, 0.1583, 0.0045,\n",
      "        0.7704, 0.4039, 0.4667, 0.6798, 0.8392, 0.3288, 0.3772, 0.6436, 0.0391,\n",
      "        0.0713, 0.4720, 0.6666, 0.1395, 0.5672, 0.8250, 0.1337, 0.6166, 0.9951,\n",
      "        0.9321, 0.9191, 0.1056, 0.6413, 0.1504, 0.9915, 0.2887, 0.0521, 0.7471,\n",
      "        0.9802, 0.1859, 0.3199, 0.8664, 0.4836, 0.3788, 0.1830, 0.8872, 0.0189,\n",
      "        0.5616, 0.4111, 0.9339, 0.1834, 0.6151, 0.1610, 0.1025, 0.1844, 0.7321,\n",
      "        0.5529, 0.0071, 0.2938, 0.1499, 0.3423, 0.5935, 0.1922, 0.4935, 0.4940,\n",
      "        0.0762, 0.6375, 0.7571, 0.4816, 0.6362, 0.3584, 0.0124, 0.9331, 0.7509,\n",
      "        0.4083, 0.5242, 0.3739, 0.0330, 0.9692, 0.7929, 0.1766, 0.4556, 0.4267,\n",
      "        0.2729, 0.7961, 0.5869, 0.5997, 0.1003, 0.5120, 0.2857, 0.1782, 0.0793,\n",
      "        0.1336, 0.4496, 0.9238, 0.2599, 0.8236, 0.3789, 0.3732, 0.7855, 0.3227,\n",
      "        0.9166, 0.9242, 0.0743, 0.7826, 0.0545, 0.0116, 0.9942, 0.8534, 0.9059,\n",
      "        0.6063, 0.3990, 0.0027, 0.2852, 0.1644, 0.6861, 0.4393, 0.2171, 0.0767,\n",
      "        0.8559, 0.3873, 0.0348, 0.0811, 0.2142, 0.5645, 0.7191, 0.4931, 0.4713,\n",
      "        0.2962, 0.1825, 0.3396, 0.4774, 0.4836, 0.3712, 0.5154, 0.1343, 0.1782,\n",
      "        0.3518, 0.4675, 0.1744, 0.5838, 0.2906, 0.2802, 0.0848, 0.4935, 0.1864,\n",
      "        0.7953, 0.0422, 0.0141, 0.4033, 0.6669, 0.6690, 0.3673, 0.2209, 0.6847,\n",
      "        0.4720, 0.6562, 0.1554, 0.9238, 0.1318, 0.5458, 0.8132, 0.8775, 0.7743,\n",
      "        0.1670, 0.0900, 0.9466, 0.2465, 0.4077, 0.2758, 0.3286, 0.5628, 0.4744,\n",
      "        0.7739, 0.3461, 0.1292, 0.9990, 0.9192, 0.0312, 0.6159, 0.8363, 0.0446,\n",
      "        0.4436, 0.0143, 0.8035, 0.3626, 0.7898, 0.8142, 0.5123, 0.8708, 0.3571,\n",
      "        0.5741, 0.9759, 0.2266, 0.8059, 0.4871, 0.8929, 0.3796, 0.4042, 0.2208,\n",
      "        0.2448, 0.1682, 0.2558, 0.3135, 0.6569, 0.4688, 0.6579, 0.9237, 0.3309,\n",
      "        0.7642, 0.7009, 0.5168, 0.4675, 0.1171, 0.5682, 0.6847, 0.8364, 0.4165,\n",
      "        0.4428, 0.8732, 0.4056, 0.5825, 0.4932, 0.7757, 0.1928, 0.1110, 0.3798,\n",
      "        0.3947, 0.7201, 0.0858, 0.4246, 0.6509, 0.2916, 0.6739, 0.1753, 0.9118,\n",
      "        0.0969, 0.6207, 0.0479, 0.6629, 0.9266, 0.6890, 0.0111, 0.1262, 0.4814,\n",
      "        0.9931, 0.2811, 0.5219, 0.1485, 0.2159, 0.0814, 0.8223, 0.7915, 0.4744,\n",
      "        0.3504, 0.9464, 0.5316, 0.1644, 0.7419, 0.8070, 0.9282, 0.2839, 0.6417,\n",
      "        0.2339, 0.5950, 0.1298, 0.1124, 0.7976, 0.1192, 0.6466, 0.2374, 0.2668,\n",
      "        0.2078, 0.5148, 0.4972, 0.3368, 0.7518, 0.0930, 0.4877, 0.0256, 0.7254,\n",
      "        0.2367, 0.7443, 0.0333, 0.9918, 0.2812, 0.7267, 0.5532, 0.1234, 0.3842,\n",
      "        0.3486, 0.6045, 0.2688, 0.3180, 0.1631, 0.1378, 0.1561, 0.8436, 0.8294,\n",
      "        0.3711, 0.2259, 0.5784, 0.5907, 0.2355, 0.9035, 0.8111, 0.6118, 0.0928,\n",
      "        0.0545, 0.3772, 0.5910, 0.6243, 0.7453, 0.3638, 0.3532, 0.8832, 0.2717,\n",
      "        0.4535, 0.2105, 0.2498, 0.3445, 0.9531, 0.7648, 0.4781, 0.5648, 0.4915,\n",
      "        0.5489, 0.9328, 0.7406, 0.8935, 0.5445, 0.4782, 0.1114, 0.3734, 0.0490,\n",
      "        0.7538, 0.9276, 0.6371, 0.0593, 0.4887, 0.4750, 0.6001, 0.2430, 0.0085,\n",
      "        0.9436, 0.6169, 0.7167, 0.3389, 0.2223, 0.1799, 0.3233, 0.8491, 0.0901,\n",
      "        0.5765, 0.7375, 0.6558, 0.6290, 0.7638, 0.6443, 0.9886, 0.7597, 0.0602,\n",
      "        0.6827, 0.9219, 0.6466, 0.4126, 0.5822, 0.5668, 0.0355, 0.0838, 0.7828,\n",
      "        0.6963, 0.1576, 0.3141, 0.9529, 0.3220, 0.1596, 0.4097, 0.1477, 0.7864,\n",
      "        0.4851, 0.5759, 0.4778, 0.5627, 0.3142, 0.5659, 0.6655, 0.7343, 0.5338,\n",
      "        0.2373, 0.4816, 0.4060, 0.8003, 0.6574, 0.6068, 0.4263, 0.3065, 0.0036,\n",
      "        0.9772, 0.0964, 0.3911, 0.0506, 0.8102, 0.1523, 0.3843, 0.9618, 0.9890,\n",
      "        0.7575, 0.9074, 0.2465, 0.8311, 0.4558, 0.5515, 0.3913, 0.8856, 0.1847,\n",
      "        0.3698, 0.3570, 0.0024, 0.0454, 0.1784, 0.6156, 0.5234, 0.0399, 0.4958,\n",
      "        0.8255, 0.8907, 0.8124, 0.9746, 0.1622, 0.4671, 0.6614, 0.3068, 0.7960,\n",
      "        0.6829, 0.2012, 0.9467, 0.4174, 0.0597, 0.0999, 0.5003, 0.1728, 0.4473,\n",
      "        0.5384, 0.8478, 0.6330, 0.6028, 0.7865, 0.6443, 0.1700, 0.3305, 0.2055,\n",
      "        0.9852, 0.2139, 0.3728, 0.5139, 0.4599, 0.7202, 0.4005, 0.2492, 0.2027,\n",
      "        0.7925, 0.5749, 0.1513, 0.4071, 0.1690, 0.0393, 0.3042, 0.6192, 0.9109,\n",
      "        0.9163, 0.8840, 0.6623, 0.4058, 0.8331, 0.1773, 0.1723, 0.3171, 0.3341,\n",
      "        0.8884, 0.3798, 0.2113, 0.7297, 0.7155, 0.7080, 0.9293, 0.1200, 0.0687,\n",
      "        0.3172, 0.8626, 0.0485, 0.0897, 0.5382, 0.1625, 0.4733, 0.8735, 0.2960,\n",
      "        0.1427, 0.8600, 0.5091, 0.0472, 0.7298, 0.5620, 0.8600, 0.4865, 0.4363,\n",
      "        0.2588, 0.4762, 0.5046, 0.3603, 0.6963, 0.9856, 0.3982, 0.9117, 0.5862,\n",
      "        0.9367, 0.6227, 0.6491, 0.9108, 0.2240, 0.5656, 0.7576, 0.3247, 0.9825,\n",
      "        0.2427, 0.3167, 0.4663, 0.1774, 0.9936, 0.9676, 0.3798, 0.9644, 0.7512,\n",
      "        0.0472, 0.4419, 0.5478, 0.7575, 0.4656, 0.4105, 0.6914, 0.0984, 0.4285,\n",
      "        0.8897, 0.1220, 0.4611, 0.1274, 0.1382, 0.0338, 0.6061, 0.4618, 0.8591,\n",
      "        0.6772, 0.8641, 0.8249, 0.3889, 0.2344, 0.8671, 0.0896, 0.1727, 0.9848,\n",
      "        0.3431, 0.9145, 0.6699, 0.1538, 0.3495, 0.3363, 0.4769, 0.6530, 0.5702,\n",
      "        0.9579, 0.9169, 0.0635, 0.3902, 0.2407, 0.5898, 0.9686, 0.2928, 0.1273,\n",
      "        0.5804, 0.8591, 0.6881, 0.4495, 0.0792, 0.3859, 0.1697, 0.3162, 0.6217,\n",
      "        0.7976, 0.1623, 0.8114, 0.1578, 0.4910, 0.7705, 0.1483, 0.3072, 0.2825,\n",
      "        0.9494, 0.9610, 0.2254, 0.7704, 0.6839, 0.1080, 0.8323, 0.1093, 0.5220,\n",
      "        0.5728, 0.1802, 0.1184, 0.7875, 0.9260, 0.6644, 0.9559, 0.7022, 0.6647,\n",
      "        0.2207])\n",
      "tensor([0.8503, 0.8823, 0.7369, 1.0000, 1.0000, 0.7819, 0.7214, 1.0000, 0.0000,\n",
      "        1.0000, 0.0000, 0.2369, 0.0000, 0.0000, 0.8954, 0.0000, 0.0000, 0.0000,\n",
      "        1.0000, 0.5988, 0.4236, 0.8882, 1.0000, 0.0000, 0.7293, 1.0000, 0.8087,\n",
      "        0.4306, 0.7971, 0.4360, 0.7408, 1.0000, 0.2780, 1.0000, 0.5268, 0.8202,\n",
      "        0.0000, 0.2301, 0.0260, 0.0000, 0.9727, 0.6394, 0.0000, 0.7705, 1.0000,\n",
      "        0.7939, 0.0000, 0.2343, 0.0000, 0.8184, 0.9216, 0.0000, 0.0114, 0.0000,\n",
      "        0.1510, 0.9431, 0.2738, 0.5978, 0.9966, 0.2447, 0.0000, 0.2570, 1.0000,\n",
      "        0.7184, 0.4404, 0.8022, 0.0000, 0.4172, 0.0994, 0.7627, 0.7361, 0.9931,\n",
      "        0.9913, 0.5421, 0.7355, 0.3962, 1.0000, 0.0000, 0.0000, 0.0000, 0.5496,\n",
      "        0.0000, 0.0000, 1.0000, 0.8951, 0.9942, 0.0000, 0.0000, 1.0000, 1.0000,\n",
      "        0.0000, 0.4564, 0.4484, 0.2937, 0.7599, 0.9366, 0.8777, 1.0000, 1.0000,\n",
      "        0.0000, 0.1130, 0.3554, 1.0000, 0.8913, 0.0000, 0.2480, 0.0000, 1.0000,\n",
      "        0.0171, 1.0000, 1.0000, 0.4705, 0.0000, 1.0000, 0.0738, 1.0000, 0.7535,\n",
      "        0.0000, 0.3156, 1.0000, 0.5599, 1.0000, 0.0000, 0.3792, 0.0935, 0.0000,\n",
      "        0.6438, 0.6513, 1.0000, 0.7928, 0.4699, 0.0160, 0.8942, 0.8555, 0.2371,\n",
      "        0.7577, 0.2384, 0.0000, 1.0000, 0.1927, 0.0000, 0.2366, 0.4205, 0.9242,\n",
      "        1.0000, 1.0000, 0.3914, 0.1282, 1.0000, 0.2152, 1.0000, 0.7403, 0.0000,\n",
      "        0.2973, 0.1451, 1.0000, 1.0000, 0.2563, 0.0000, 0.3528, 0.0000, 0.0000,\n",
      "        1.0000, 1.0000, 0.3112, 0.3628, 1.0000, 0.0000, 0.2099, 0.0000, 0.4735,\n",
      "        0.2015, 1.0000, 1.0000, 1.0000, 0.0000, 0.0000, 1.0000, 1.0000, 1.0000,\n",
      "        0.0000, 0.2842, 0.0000, 0.1378, 1.0000, 0.3239, 0.0000, 1.0000, 0.7477,\n",
      "        0.0000, 0.0000, 0.5518, 0.8698, 1.0000, 1.0000, 0.1338, 0.0000, 0.7249,\n",
      "        1.0000, 0.1999, 0.1417, 0.2172, 0.0000, 0.0000, 1.0000, 0.0000, 0.7585,\n",
      "        0.0000, 1.0000, 1.0000, 0.9217, 0.1020, 0.0000, 0.0000, 0.0000, 0.0000,\n",
      "        0.0000, 1.0000, 0.0000, 0.6107, 0.3750, 0.0000, 0.8692, 0.7575, 0.0646,\n",
      "        0.6287, 0.0000, 0.8297, 1.0000, 0.2583, 0.3649, 1.0000, 1.0000, 0.1323,\n",
      "        0.8424, 0.1593, 0.7086, 1.0000, 0.3504, 0.4472, 1.0000, 0.9100, 1.0000,\n",
      "        0.2871, 0.0000, 0.0000, 0.0000, 1.0000, 1.0000, 0.4467, 0.1747, 0.9249,\n",
      "        0.6645, 0.6725, 0.6051, 0.6761, 1.0000, 0.6774, 0.4896, 0.0000, 0.2356,\n",
      "        0.5608, 1.0000, 0.0000, 0.2283, 1.0000, 1.0000, 0.0000, 0.5067, 1.0000,\n",
      "        0.0000, 0.2135, 0.4006, 0.0000, 0.2501, 0.3053, 0.4870, 0.0000, 0.7866,\n",
      "        0.9163, 0.0000, 0.0000, 1.0000, 0.0586, 0.1328, 0.0041, 1.0000, 0.3243,\n",
      "        0.0000, 0.8581, 0.0000, 0.2188, 0.0000, 0.0896, 0.0000, 0.0000, 0.3233,\n",
      "        0.8198, 1.0000, 0.0273, 0.2157, 0.9319, 0.0000, 0.0000, 0.1735, 1.0000,\n",
      "        0.9347, 0.9603, 0.0000, 0.5816, 1.0000, 0.0000, 0.1222, 0.0000, 1.0000,\n",
      "        1.0000, 0.4505, 0.7627, 0.2003, 0.8482, 1.0000, 0.0000, 0.6413, 0.4002,\n",
      "        0.0394, 1.0000, 1.0000, 0.0000, 0.2143, 0.0000, 1.0000, 0.0000, 0.0000,\n",
      "        0.1877, 0.8557, 0.7927, 0.9237, 0.9151, 1.0000, 0.0000, 1.0000, 0.0937,\n",
      "        1.0000, 0.0000, 1.0000, 0.1089, 0.0805, 0.3713, 0.0000, 0.6173, 0.4543,\n",
      "        0.9083, 0.1107, 0.4272, 0.2379, 1.0000, 1.0000, 0.0000, 0.0000, 0.0000,\n",
      "        0.5897, 0.2644, 0.0584, 1.0000, 1.0000, 0.0000, 0.0465, 1.0000, 0.0000,\n",
      "        1.0000, 0.5541, 0.7878, 0.0000, 0.0000, 1.0000, 0.4118, 0.0000, 1.0000,\n",
      "        0.9878, 0.2827, 0.7861, 0.0148, 0.0622, 0.0000, 0.0000, 0.0000, 0.6810,\n",
      "        1.0000, 0.9349, 0.8788, 0.0113, 0.7696, 1.0000, 1.0000, 0.1583, 1.0000,\n",
      "        0.7704, 0.4039, 0.4667, 1.0000, 0.8392, 0.3288, 0.0000, 0.6436, 0.0391,\n",
      "        0.0713, 1.0000, 0.6666, 0.1395, 0.0000, 0.8250, 1.0000, 0.6166, 0.0000,\n",
      "        1.0000, 1.0000, 0.1056, 1.0000, 0.1504, 0.0000, 0.0000, 1.0000, 0.7471,\n",
      "        1.0000, 0.1859, 0.3199, 0.0000, 0.4836, 0.0000, 0.0000, 1.0000, 0.0189,\n",
      "        1.0000, 0.4111, 0.9339, 1.0000, 0.6151, 0.1610, 0.1025, 0.1844, 0.7321,\n",
      "        0.5529, 0.0000, 0.2938, 0.1499, 0.3423, 0.0000, 1.0000, 0.0000, 0.4940,\n",
      "        1.0000, 0.6375, 0.7571, 0.0000, 0.6362, 0.0000, 0.0000, 1.0000, 0.7509,\n",
      "        0.0000, 0.0000, 0.0000, 1.0000, 1.0000, 1.0000, 0.0000, 0.4556, 0.4267,\n",
      "        0.2729, 0.7961, 1.0000, 1.0000, 0.0000, 0.5120, 0.0000, 0.1782, 1.0000,\n",
      "        0.1336, 0.0000, 0.9238, 0.0000, 1.0000, 0.0000, 1.0000, 0.0000, 0.0000,\n",
      "        0.0000, 1.0000, 0.0743, 0.7826, 0.0000, 1.0000, 1.0000, 0.8534, 0.9059,\n",
      "        0.6063, 0.3990, 0.0000, 0.0000, 0.1644, 0.6861, 1.0000, 0.2171, 0.0767,\n",
      "        1.0000, 0.0000, 0.0348, 0.0811, 0.2142, 1.0000, 0.7191, 0.0000, 0.0000,\n",
      "        0.0000, 1.0000, 0.3396, 1.0000, 0.4836, 0.3712, 0.0000, 0.0000, 1.0000,\n",
      "        0.0000, 0.4675, 0.1744, 0.5838, 1.0000, 0.0000, 0.0000, 1.0000, 0.0000,\n",
      "        0.0000, 0.0000, 0.0000, 1.0000, 0.6669, 0.0000, 0.3673, 0.2209, 1.0000,\n",
      "        1.0000, 0.0000, 1.0000, 0.0000, 0.0000, 0.0000, 0.0000, 0.8775, 0.7743,\n",
      "        0.0000, 1.0000, 0.0000, 0.0000, 0.0000, 0.0000, 1.0000, 0.5628, 0.4744,\n",
      "        0.7739, 1.0000, 0.1292, 0.9990, 1.0000, 0.0312, 1.0000, 0.0000, 0.0446,\n",
      "        0.4436, 1.0000, 0.8035, 1.0000, 0.0000, 0.8142, 0.5123, 0.8708, 0.3571,\n",
      "        0.5741, 0.0000, 0.2266, 1.0000, 0.4871, 0.0000, 0.0000, 1.0000, 1.0000,\n",
      "        1.0000, 1.0000, 0.0000, 1.0000, 1.0000, 1.0000, 0.0000, 0.0000, 1.0000,\n",
      "        0.7642, 0.0000, 1.0000, 0.4675, 1.0000, 0.0000, 0.0000, 0.0000, 0.0000,\n",
      "        1.0000, 1.0000, 0.0000, 0.0000, 1.0000, 0.7757, 0.1928, 0.0000, 0.0000,\n",
      "        0.3947, 1.0000, 0.0000, 0.0000, 0.0000, 0.0000, 0.6739, 0.0000, 0.0000,\n",
      "        0.0969, 0.0000, 0.0479, 0.0000, 0.0000, 0.0000, 1.0000, 1.0000, 0.4814,\n",
      "        0.9931, 1.0000, 1.0000, 1.0000, 0.2159, 0.0814, 0.8223, 0.0000, 0.0000,\n",
      "        0.0000, 1.0000, 0.5316, 1.0000, 0.0000, 1.0000, 0.9282, 0.2839, 0.0000,\n",
      "        0.2339, 0.5950, 1.0000, 1.0000, 0.0000, 1.0000, 0.6466, 0.2374, 0.2668,\n",
      "        0.2078, 0.5148, 0.4972, 0.3368, 0.7518, 0.0930, 0.0000, 0.0256, 0.0000,\n",
      "        0.0000, 0.0000, 0.0000, 0.9918, 0.2812, 1.0000, 0.5532, 1.0000, 1.0000,\n",
      "        1.0000, 0.6045, 0.2688, 0.0000, 1.0000, 0.1378, 0.0000, 0.8436, 0.0000,\n",
      "        0.0000, 0.2259, 1.0000, 1.0000, 1.0000, 1.0000, 0.0000, 0.6118, 0.0000,\n",
      "        0.0545, 0.0000, 1.0000, 0.6243, 0.7453, 0.3638, 0.3532, 0.8832, 0.2717,\n",
      "        0.4535, 0.0000, 0.0000, 1.0000, 1.0000, 0.7648, 1.0000, 1.0000, 0.4915,\n",
      "        0.5489, 0.0000, 0.0000, 0.8935, 0.5445, 0.4782, 1.0000, 0.3734, 0.0490,\n",
      "        0.7538, 0.9276, 0.6371, 0.0000, 0.4887, 0.4750, 1.0000, 1.0000, 1.0000,\n",
      "        1.0000, 0.6169, 0.7167, 1.0000, 1.0000, 0.1799, 0.0000, 0.8491, 0.0901,\n",
      "        1.0000, 1.0000, 1.0000, 0.0000, 0.0000, 0.6443, 0.9886, 1.0000, 0.0602,\n",
      "        0.0000, 0.9219, 0.0000, 1.0000, 0.5822, 0.0000, 0.0000, 0.0000, 0.7828,\n",
      "        0.0000, 0.1576, 0.0000, 1.0000, 1.0000, 0.1596, 0.0000, 0.1477, 0.0000,\n",
      "        0.0000, 0.5759, 1.0000, 0.5627, 0.3142, 0.5659, 0.6655, 1.0000, 0.0000,\n",
      "        0.0000, 0.0000, 0.4060, 1.0000, 0.0000, 0.6068, 0.4263, 0.3065, 1.0000,\n",
      "        1.0000, 0.0964, 0.3911, 1.0000, 0.0000, 1.0000, 0.3843, 0.9618, 0.9890,\n",
      "        0.7575, 1.0000, 0.2465, 0.8311, 0.0000, 0.5515, 0.3913, 1.0000, 0.1847,\n",
      "        0.0000, 0.0000, 0.0024, 1.0000, 0.1784, 0.6156, 1.0000, 1.0000, 0.0000,\n",
      "        0.8255, 0.8907, 0.0000, 0.9746, 0.0000, 0.4671, 0.6614, 0.3068, 0.7960,\n",
      "        0.6829, 0.2012, 0.9467, 0.4174, 0.0597, 0.0000, 0.5003, 0.0000, 0.0000,\n",
      "        0.5384, 0.8478, 1.0000, 1.0000, 0.7865, 0.6443, 1.0000, 1.0000, 0.2055,\n",
      "        0.9852, 0.2139, 0.3728, 1.0000, 0.4599, 0.7202, 0.4005, 0.0000, 1.0000,\n",
      "        1.0000, 0.0000, 1.0000, 0.4071, 0.1690, 1.0000, 0.3042, 1.0000, 0.9109,\n",
      "        0.9163, 0.8840, 0.6623, 0.0000, 1.0000, 0.0000, 0.1723, 0.0000, 0.3341,\n",
      "        0.8884, 0.3798, 0.2113, 0.7297, 0.0000, 0.7080, 1.0000, 0.1200, 0.0687,\n",
      "        0.0000, 0.8626, 0.0485, 0.0897, 0.0000, 0.1625, 0.4733, 0.0000, 0.0000,\n",
      "        1.0000, 0.8600, 1.0000, 0.0472, 0.7298, 0.0000, 0.8600, 0.4865, 0.4363,\n",
      "        0.2588, 0.0000, 0.5046, 0.3603, 0.6963, 0.0000, 0.3982, 0.9117, 0.5862,\n",
      "        0.9367, 0.6227, 0.6491, 0.9108, 1.0000, 0.5656, 1.0000, 0.3247, 0.9825,\n",
      "        0.2427, 1.0000, 0.4663, 1.0000, 0.9936, 0.9676, 0.3798, 0.9644, 0.7512,\n",
      "        1.0000, 1.0000, 0.5478, 0.7575, 0.4656, 1.0000, 0.0000, 0.0984, 1.0000,\n",
      "        0.8897, 0.1220, 0.4611, 1.0000, 0.1382, 0.0338, 0.0000, 0.4618, 0.8591,\n",
      "        0.0000, 0.8641, 0.0000, 0.0000, 1.0000, 0.0000, 0.0896, 0.1727, 1.0000,\n",
      "        0.3431, 0.9145, 0.6699, 0.0000, 0.3495, 0.3363, 0.0000, 0.6530, 0.0000,\n",
      "        1.0000, 0.0000, 0.0635, 0.0000, 0.2407, 0.0000, 0.0000, 1.0000, 0.0000,\n",
      "        0.0000, 0.8591, 0.0000, 0.0000, 0.0792, 0.3859, 0.1697, 1.0000, 0.6217,\n",
      "        0.0000, 0.1623, 0.0000, 0.1578, 0.4910, 1.0000, 1.0000, 1.0000, 0.2825,\n",
      "        0.9494, 0.9610, 0.0000, 0.7704, 1.0000, 0.1080, 0.8323, 0.1093, 0.0000,\n",
      "        0.5728, 0.0000, 0.0000, 0.0000, 1.0000, 0.6644, 0.0000, 1.0000, 0.0000,\n",
      "        0.0000])\n",
      "tensor([0.3974, 0.7293, 0.9404,  ..., 0.1220, 0.4611, 0.0687])\n",
      "tensor([0.0000, 1.0000, 0.9404,  ..., 1.0000, 0.4611, 0.0000])\n"
     ]
    },
    {
     "data": {
      "image/png": "[encoded data removed]",
      "text/plain": [
       "<Figure size 640x480 with 1 Axes>"
      ]
     },
     "metadata": {},
     "output_type": "display_data"
    }
   ],
   "source": [
    "import numpy as np\n",
    "import matplotlib.pyplot as plt\n",
    "# Type your code here\n",
    "sizes = torch.tensor([10, 100, 1000, 10000])\n",
    "print(sizes)\n",
    "privateResults = []\n",
    "trueResults = []\n",
    "for size in sizes:\n",
    "    db = torch.rand(size)\n",
    "    privateRes, trueRes = query(db)\n",
    "    privateResults.append(privateRes)\n",
    "    trueResults.append(trueRes)\n",
    "\n",
    "x = np.arange(len(sizes))\n",
    "width = 0.35\n",
    "\n",
    "fig, ax = plt.subplots()\n",
    "rects1 = ax.bar(x - width/2, privateResults, width, label='Private Result')\n",
    "rects2 = ax.bar(x + width/2, trueResults, width, label='True Result')\n",
    "\n",
    "ax.set_xlabel('Database Size')\n",
    "ax.set_ylabel('Result Value')\n",
    "ax.set_title('Private vs. True Results by Database Size')\n",
    "ax.set_xticks(x)\n",
    "ax.set_xticklabels(sizes.numpy())\n",
    "ax.legend()\n",
    "\n",
    "ax.bar_label(rects1, padding=3)\n",
    "ax.bar_label(rects2, padding=3)\n",
    "\n",
    "fig.tight_layout()\n",
    "\n",
    "plt.show()"
   ]
  },
  {
   "cell_type": "markdown",
   "metadata": {
    "colab_type": "text",
    "id": "XWBAzQfx7CI4"
   },
   "source": [
    "## Varying Amounts of Noise\n",
    "\n",
    "Let's augment the randomized response query (the one we just wrote) to allow for varying amounts of randomness to be added. Specifically, let's bias the coin flip to be higher or lower and then run the same experiment."
   ]
  },
  {
   "cell_type": "code",
   "execution_count": 17,
   "metadata": {
    "colab": {},
    "colab_type": "code",
    "id": "ySYXrNtf7RbN"
   },
   "outputs": [],
   "source": [
    "def query(db, noise=0.2):\n",
    "\n",
    "    true_result = torch.mean(db.float())\n",
    "\n",
    "    first_coin_flip = (torch.rand(len(db)) < noise).float()\n",
    "    second_coin_flip = (torch.rand(len(db)) < 0.5).float()\n",
    "\n",
    "    augmented_database = db.float() * first_coin_flip + \\\n",
    "        (1 - first_coin_flip) * second_coin_flip\n",
    "\n",
    "    sk_result = augmented_database.float().mean()\n",
    "\n",
    "    private_result = ((sk_result / noise) - 0.5) * noise / (1 - noise)\n",
    "\n",
    "    return private_result, true_result"
   ]
  },
  {
   "cell_type": "markdown",
   "metadata": {
    "colab_type": "text",
    "id": "3a4YrQey7Wzc"
   },
   "source": [
    "### Task 5: Show how the private result (with noise) and the true result (without noise) changes for databases of size 10, 100, 1000, and 10000 with varying noise levels (noise=[0.1, 0.2, ..., 0.9]). (5 points)\n",
    "*Hint: A convenience function for plotting results is provided for you.*"
   ]
  },
  {
   "cell_type": "code",
   "execution_count": 18,
   "metadata": {},
   "outputs": [],
   "source": [
    "import matplotlib.pyplot as plt\n",
    "\n",
    "\n",
    "def plot_results(db_size, noises, private_results, true_results):\n",
    "    # plots the results on varying noise levels on a specific database size\n",
    "\n",
    "    plt.scatter(noises, private_results, color=\"blue\", label=\"With Noise\")\n",
    "    plt.scatter(noises, true_results, color=\"red\", label=\"Without Noise\")\n",
    "\n",
    "    plt.xlabel(\"Noise\")\n",
    "    plt.ylabel(\"Results\")\n",
    "    plt.title(\"DB Size : \" + str(db_size))\n",
    "\n",
    "    plt.legend()\n",
    "\n",
    "    plt.show()"
   ]
  },
  {
   "cell_type": "code",
   "execution_count": 19,
   "metadata": {
    "colab": {
     "base_uri": "https://localhost:8080/",
     "height": 51
    },
    "colab_type": "code",
    "id": "nJ76qxNr7c11",
    "outputId": "cb55a376-8fee-4238-e3a2-62e8fd72aafd",
    "scrolled": false
   },
   "outputs": [
    {
     "data": {
      "image/png": "[encoded data removed]",
      "text/plain": [
       "<Figure size 640x480 with 1 Axes>"
      ]
     },
     "metadata": {},
     "output_type": "display_data"
    },
    {
     "data": {
      "image/png": "[encoded data removed]",
      "text/plain": [
       "<Figure size 640x480 with 1 Axes>"
      ]
     },
     "metadata": {},
     "output_type": "display_data"
    },
    {
     "data": {
      "image/png": "[encoded data removed]",
      "text/plain": [
       "<Figure size 640x480 with 1 Axes>"
      ]
     },
     "metadata": {},
     "output_type": "display_data"
    },
    {
     "data": {
      "image/png": "[encoded data removed]",
      "text/plain": [
       "<Figure size 640x480 with 1 Axes>"
      ]
     },
     "metadata": {},
     "output_type": "display_data"
    }
   ],
   "source": [
    "def noise(sizes, noises):\n",
    "    for size in sizes:\n",
    "        private_results = []\n",
    "        true_results = []\n",
    "        for noise in noises:\n",
    "            db = torch.rand(size)\n",
    "            private_result, true_result = query(db, noise)\n",
    "            private_results.append(private_result)\n",
    "            true_results.append(true_result)\n",
    "        plot_results(size, noises, private_results, true_results)\n",
    "\n",
    "\n",
    "noises = [(i + 1) / 10 for i in range(9)]\n",
    "sizes = [10, 100, 1000, 10000]\n",
    "noise(sizes, noises)"
   ]
  },
  {
   "cell_type": "markdown",
   "metadata": {
    "colab_type": "text",
    "id": "TYShe_kWDoX5"
   },
   "source": [
    "## The Formal Definition of Differential Privacy\n",
    "\n",
    "The previous method of adding noise was called \"Local Differential Privacy\" because we added noise to each data point individually. This is necessary for some situations wherein the data is so sensitive that individuals do not trust noise to be added later. However, it comes at a very high cost in terms of accuracy.\n",
    "\n",
    "However, alternatively, we can add noise after a function has aggregated data. This kind of noise can allow for similar levels of protection with a lower effect on accuracy. However, participants must be able to trust that no one looked at their data points before the aggregation took place. In some situations, this works out well, but it is less realistic in others (such as an individual hand-surveying a group of people).\n",
    "\n",
    "Nevertheless, global differential privacy is incredibly important because it allows us to perform differential privacy on smaller groups of individuals with lower amounts of noise. Let's revisit our sum functions."
   ]
  },
  {
   "cell_type": "code",
   "execution_count": 20,
   "metadata": {
    "colab": {
     "base_uri": "https://localhost:8080/",
     "height": 34
    },
    "colab_type": "code",
    "id": "995NcC99EiVs",
    "outputId": "79f83543-f65a-466d-c19a-6ad99d7d304a"
   },
   "outputs": [
    {
     "data": {
      "text/plain": [
       "tensor(54.)"
      ]
     },
     "execution_count": 20,
     "metadata": {},
     "output_type": "execute_result"
    }
   ],
   "source": [
    "db, pdbs = create_db_and_parallels(100)\n",
    "\n",
    "\n",
    "def query(db):\n",
    "    return torch.sum(db.float())\n",
    "\n",
    "\n",
    "def M(db):\n",
    "    query(db) + noise\n",
    "\n",
    "\n",
    "query(db)"
   ]
  },
  {
   "cell_type": "markdown",
   "metadata": {
    "colab_type": "text",
    "id": "atL-J0V7Es7e"
   },
   "source": [
    "The idea here is that we want to add noise to the output of our function. We can add two different kinds of noise - Laplacian Noise and Gaussian Noise. However, before we do so, we need to dive into the formal definition of Differential Privacy."
   ]
  },
  {
   "cell_type": "markdown",
   "metadata": {
    "colab_type": "text",
    "id": "Zbai8k1vKaE7"
   },
   "source": [
    "### Epsilon\n",
    "Let's unpack the intuition of this for a moment.\n",
    "\n",
    "**Epsilon Zero**: If a query satisfied this inequality where epsilon was set to 0, then that would mean that the query for all parallel databases outputs the same value as the full database. \n",
    "\n",
    "**Epsilon One**: If a query satisfied this inequality with epsilon 1, then the maximum distance between all queries would be 1 - or more precisely - the maximum distance between the two random distributions M(x) and M(y) is 1 (because all these queries have some amount of randomness in them, just like we observed in the last section).\n",
    "\n",
    "### Delta\n",
    "\n",
    "Delta is the probability that epsilon breaks. Namely, sometimes the epsilon is different for some queries than others. \n",
    "\n",
    "## How To Add Noise for Global Differential Privacy\n",
    "\n",
    "Let's learn how to take a query and add varying amounts of noise to satisfy a certain degree of differential privacy. In particular, we will leave behind the previously discussed Local Differential privacy and instead focus on Global differential privacy.\n",
    "\n",
    "To sum up, this is about adding noise to our query's output to satisfy a certain epsilon-delta differential privacy threshold.\n",
    "\n",
    "We can add two kinds of noise - Gaussian Noise and Laplacian Noise. Generally speaking, Laplacian is better, but both are still valid. \n",
    "\n",
    "How much noise should we add?\n",
    "The amount of noise necessary to add to the output of a query is a function of four things:\n",
    "1. the type of noise (Gaussian/Laplacian)\n",
    "2. the sensitivity of the query/function\n",
    "3. the desired epsilon (ε)\n",
    "4. the desired delta (δ)\n",
    "\n",
    "Laplacian noise is increased/decreased according to a \"scale\" parameter b. We choose \"b\" based on the following formula.\n",
    "\n",
    "b = sensitivity(query) / epsilon\n",
    "\n",
    "In other words, if we set b to be this value, we know we will have a privacy leakage <= epsilon. Furthermore, the nice thing about Laplace is that it guarantees this with delta == 0. However, we can tune the parameters such that we have very low epsilon where the delta is non-zero, but we'll ignore them for now.\n",
    "\n",
    "If we query the database multiple times - we can add the epsilons (even if we change the amount of noise and their epsilons are not the same)."
   ]
  },
  {
   "cell_type": "markdown",
   "metadata": {
    "colab_type": "text",
    "id": "aSynwpjnONRZ"
   },
   "source": [
    "## Create a Differentially Private Query\n",
    "\n",
    "Let's create a query function that sums over the database and adds just the right amount of noise to satisfy an epsilon constraint. "
   ]
  },
  {
   "cell_type": "code",
   "execution_count": 21,
   "metadata": {
    "colab": {},
    "colab_type": "code",
    "id": "91mr9BS3OZu6"
   },
   "outputs": [],
   "source": [
    "import numpy as np\n",
    "\n",
    "epsilon = 0.0001\n",
    "\n",
    "db, pdbs = create_db_and_parallels(100)\n",
    "\n",
    "\n",
    "def sum_query(db):\n",
    "    return db.sum()\n",
    "\n",
    "\n",
    "def mean_query(db):\n",
    "    return torch.mean(db.float())\n",
    "\n",
    "\n",
    "def laplacian_mechanism(db, query, sensitivity):\n",
    "\n",
    "    beta = sensitivity / epsilon\n",
    "    noise = torch.tensor(np.random.laplace(0, beta, 1))\n",
    "\n",
    "    return query(db) + noise"
   ]
  },
  {
   "cell_type": "code",
   "execution_count": 22,
   "metadata": {
    "colab": {
     "base_uri": "https://localhost:8080/",
     "height": 34
    },
    "colab_type": "code",
    "id": "zifNq2BtOG2o",
    "outputId": "255a0fdc-4fb8-4dc3-a116-9436331d1f6f"
   },
   "outputs": [
    {
     "data": {
      "text/plain": [
       "tensor([46868.2203], dtype=torch.float64)"
      ]
     },
     "execution_count": 22,
     "metadata": {},
     "output_type": "execute_result"
    }
   ],
   "source": [
    "laplacian_mechanism(db, sum_query, 1)"
   ]
  },
  {
   "cell_type": "code",
   "execution_count": 23,
   "metadata": {
    "colab": {
     "base_uri": "https://localhost:8080/",
     "height": 34
    },
    "colab_type": "code",
    "id": "kXcNAkW0O0Zy",
    "outputId": "92c13a6f-978d-414e-cb7a-03e2f59bde83"
   },
   "outputs": [
    {
     "data": {
      "text/plain": [
       "tensor([256.9493], dtype=torch.float64)"
      ]
     },
     "execution_count": 23,
     "metadata": {},
     "output_type": "execute_result"
    }
   ],
   "source": [
    "laplacian_mechanism(db, mean_query, 1/100)"
   ]
  },
  {
   "cell_type": "markdown",
   "metadata": {
    "colab_type": "text",
    "id": "FlURPqV8O-Ux"
   },
   "source": [
    "# Differential Privacy for Deep Learning\n",
    "\n",
    "## An Example Scenario: A Health Neural Network\n",
    "\n",
    "Let's consider a scenario - you work for a hospital and have a large collection of images of your patients. However, you do not know what's in them. You would like to use these images to develop a neural network to classify them automatically. However, since your images aren't labeled, they aren't sufficient to train a classifier.\n",
    "\n",
    "However, you realize you can reach out to 10 partner hospitals with annotated data. You plan to train your new classifier on their datasets so that you can automatically label your own. While these hospitals are interested in helping, they have privacy concerns regarding patient information. Thus, you will use the following technique to train a classifier that protects patients' privacy in the other hospitals.\n",
    "\n",
    "1. You ask each of the 10 hospitals to train a model on their datasets (all of which have the same labels).\n",
    "2. Use each of the 10 partner models on your local dataset, generating 10 labels for each of your data points.\n",
    "3. For each local data point (now with 10 labels), you perform a DP query to generate the final true label. This query is a \"max\" function, where \"max\" is the most frequent label across the 10 labels. You need to add laplacian noise to make this \"Differentially Private\" to a certain epsilon/delta constraint.\n",
    "4. Finally, you retrain a new model on your local dataset, which now has labels. This trained model will be our final \"Differentially Private\" model.\n",
    "\n",
    "Assuming you're already familiar with how to train/predict a deep neural network, we'll skip steps 1 and 2 and work with example data. We'll focus instead on step 3, namely how to perform the DP query for each example using toy data.\n",
    "\n",
    "So, let's say we have 10,000 training examples, and we've got 10 labels for each example (from our 10 \"teacher models,\" which were trained directly on private data). Each label is chosen from 10 possible labels (categories) for each image."
   ]
  },
  {
   "cell_type": "code",
   "execution_count": 24,
   "metadata": {
    "colab": {},
    "colab_type": "code",
    "id": "2VHw1KI2ZpBZ"
   },
   "outputs": [],
   "source": [
    "import numpy as np\n",
    "\n",
    "num_teachers = 10  # we're working with 10 partner hospitals\n",
    "num_examples = 10000  # the size of OUR dataset\n",
    "num_labels = 10  # number of lablels for our classifier"
   ]
  },
  {
   "cell_type": "code",
   "execution_count": 25,
   "metadata": {
    "colab": {
     "base_uri": "https://localhost:8080/",
     "height": 136
    },
    "colab_type": "code",
    "id": "-WpqqnUDc88O",
    "outputId": "0bc510c8-df17-4183-896a-b08e692bf30c"
   },
   "outputs": [
    {
     "data": {
      "text/plain": [
       "array([[1, 6, 4, ..., 5, 1, 4],\n",
       "       [5, 6, 1, ..., 4, 7, 0],\n",
       "       [0, 0, 3, ..., 5, 8, 3],\n",
       "       ...,\n",
       "       [5, 7, 2, ..., 9, 3, 2],\n",
       "       [9, 8, 9, ..., 0, 1, 1],\n",
       "       [7, 9, 2, ..., 3, 2, 4]])"
      ]
     },
     "execution_count": 25,
     "metadata": {},
     "output_type": "execute_result"
    }
   ],
   "source": [
    "preds = (np.random.rand(num_teachers, num_examples) *\n",
    "         num_labels).astype(int).transpose(1, 0)  # fake predictions\n",
    "preds"
   ]
  },
  {
   "cell_type": "markdown",
   "metadata": {
    "colab_type": "text",
    "id": "QblGI2fgdmXB"
   },
   "source": [
    "Prediction for the first data item from all the teachers."
   ]
  },
  {
   "cell_type": "code",
   "execution_count": 26,
   "metadata": {
    "colab": {
     "base_uri": "https://localhost:8080/",
     "height": 34
    },
    "colab_type": "code",
    "id": "TpHEt0XydVrM",
    "outputId": "e4a40444-3eb0-4d70-a966-72f88a06dccc"
   },
   "outputs": [
    {
     "data": {
      "text/plain": [
       "array([1, 6, 4, 4, 2, 2, 7, 5, 1, 4])"
      ]
     },
     "execution_count": 26,
     "metadata": {},
     "output_type": "execute_result"
    }
   ],
   "source": [
    "preds[0]"
   ]
  },
  {
   "cell_type": "markdown",
   "metadata": {
    "colab_type": "text",
    "id": "uNEssMDKdg8d"
   },
   "source": [
    "All the predictions from the first teacher."
   ]
  },
  {
   "cell_type": "code",
   "execution_count": 27,
   "metadata": {
    "colab": {
     "base_uri": "https://localhost:8080/",
     "height": 34
    },
    "colab_type": "code",
    "id": "gODrmYyRdYLe",
    "outputId": "c66b288e-fe6e-4af8-f331-821710f5f5c2"
   },
   "outputs": [
    {
     "data": {
      "text/plain": [
       "array([1, 5, 0, ..., 5, 9, 7])"
      ]
     },
     "execution_count": 27,
     "metadata": {},
     "output_type": "execute_result"
    }
   ],
   "source": [
    "preds[:, 0]"
   ]
  },
  {
   "cell_type": "markdown",
   "metadata": {
    "colab_type": "text",
    "id": "UCoooxS7dyZv"
   },
   "source": [
    "### Task 6: Combine these label predictions in a differentially private way. You may use an epsilon value of 0.1. (10 Points)"
   ]
  },
  {
   "cell_type": "code",
   "execution_count": 28,
   "metadata": {},
   "outputs": [
    {
     "name": "stdout",
     "output_type": "stream",
     "text": [
      "[0 9 1 ... 2 4 9]\n"
     ]
    }
   ],
   "source": [
    "from numpy.random import laplace\n",
    "from scipy.stats import mode\n",
    "import numpy as np\n",
    "\n",
    "epsilon = 0.1\n",
    "modes, _ = mode(preds, axis=1)\n",
    "initial_predictions = modes.flatten()\n",
    "\n",
    "noise = laplace(loc=0, scale=1/epsilon, size=initial_predictions.shape)\n",
    "noisy_predictions = initial_predictions + noise\n",
    "noisy_predictions = np.clip(noisy_predictions, 0, num_labels - 1).astype(int)\n",
    "print(noisy_predictions)"
   ]
  },
  {
   "cell_type": "markdown",
   "metadata": {},
   "source": [
    "# Federated Learning\n",
    "\n",
    "Federated Learning is a machine learning technique that allows multiple clients to collaborate on a model training task without sharing their data with a central server. Instead, the clients train their models locally and exchange model updates with each other or with a central aggregator to improve the global model.\n",
    "\n",
    "### Learning Objectives\n",
    "\n",
    "By completing this part of the lab, you will learn:\n",
    "\n",
    "* How to use PyTorch to implement a federated learning algorithm\n",
    "* How to distribute the training process across multiple clients\n",
    "* How to aggregate model weights from multiple clients to improve the global model performance\n",
    "* How to evaluate the performance of a federated learning algorithm\n"
   ]
  },
  {
   "cell_type": "markdown",
   "metadata": {},
   "source": [
    "### Set up the environment\n",
    "\n",
    "We start by installing the required packages and importing the necessary modules.\n",
    "It is highly recommended that you check out the [FedLab GitHub](https://github.com/SMILELab-FL/FedLab) repo and use the code directly from there.\n",
    "Alternatively, using the following command, you can install fedlab and torchvision.\n",
    "\n",
    "Reference: Tutorial for FedLab users (https://github.com/SMILELab-FL/FedLab/blob/master/tutorials/pipeline_tutorial.ipynb)"
   ]
  },
  {
   "cell_type": "code",
   "execution_count": 29,
   "metadata": {},
   "outputs": [
    {
     "name": "stdout",
     "output_type": "stream",
     "text": [
      "Requirement already satisfied: fedlab in /Users/joshmoskoff/anaconda3/envs/aiblock/lib/python3.8/site-packages (1.3.0)\n",
      "Requirement already satisfied: torch>=1.7.1 in /Users/joshmoskoff/anaconda3/envs/aiblock/lib/python3.8/site-packages (from fedlab) (2.2.1)\n",
      "Requirement already satisfied: torchvision>=0.8.2 in /Users/joshmoskoff/anaconda3/envs/aiblock/lib/python3.8/site-packages (from fedlab) (0.17.1)\n",
      "Requirement already satisfied: numpy in /Users/joshmoskoff/anaconda3/envs/aiblock/lib/python3.8/site-packages (from fedlab) (1.22.4)\n",
      "Requirement already satisfied: pandas in /Users/joshmoskoff/anaconda3/envs/aiblock/lib/python3.8/site-packages (from fedlab) (2.0.3)\n",
      "Requirement already satisfied: scikit-learn in /Users/joshmoskoff/anaconda3/envs/aiblock/lib/python3.8/site-packages (from fedlab) (1.3.2)\n",
      "Requirement already satisfied: pynvml in /Users/joshmoskoff/anaconda3/envs/aiblock/lib/python3.8/site-packages (from fedlab) (11.5.0)\n",
      "Requirement already satisfied: tqdm in /Users/joshmoskoff/anaconda3/envs/aiblock/lib/python3.8/site-packages (from fedlab) (4.66.2)\n",
      "Requirement already satisfied: munch in /Users/joshmoskoff/anaconda3/envs/aiblock/lib/python3.8/site-packages (from fedlab) (4.0.0)\n",
      "Requirement already satisfied: filelock in /Users/joshmoskoff/anaconda3/envs/aiblock/lib/python3.8/site-packages (from torch>=1.7.1->fedlab) (3.13.1)\n",
      "Requirement already satisfied: typing-extensions>=4.8.0 in /Users/joshmoskoff/anaconda3/envs/aiblock/lib/python3.8/site-packages (from torch>=1.7.1->fedlab) (4.10.0)\n",
      "Requirement already satisfied: sympy in /Users/joshmoskoff/anaconda3/envs/aiblock/lib/python3.8/site-packages (from torch>=1.7.1->fedlab) (1.12)\n",
      "Requirement already satisfied: networkx in /Users/joshmoskoff/anaconda3/envs/aiblock/lib/python3.8/site-packages (from torch>=1.7.1->fedlab) (3.1)\n",
      "Requirement already satisfied: jinja2 in /Users/joshmoskoff/anaconda3/envs/aiblock/lib/python3.8/site-packages (from torch>=1.7.1->fedlab) (3.1.3)\n",
      "Requirement already satisfied: fsspec in /Users/joshmoskoff/anaconda3/envs/aiblock/lib/python3.8/site-packages (from torch>=1.7.1->fedlab) (2024.2.0)\n",
      "Requirement already satisfied: pillow!=8.3.*,>=5.3.0 in /Users/joshmoskoff/anaconda3/envs/aiblock/lib/python3.8/site-packages (from torchvision>=0.8.2->fedlab) (10.2.0)\n",
      "Requirement already satisfied: python-dateutil>=2.8.2 in /Users/joshmoskoff/anaconda3/envs/aiblock/lib/python3.8/site-packages (from pandas->fedlab) (2.8.2)\n",
      "Requirement already satisfied: pytz>=2020.1 in /Users/joshmoskoff/anaconda3/envs/aiblock/lib/python3.8/site-packages (from pandas->fedlab) (2024.1)\n",
      "Requirement already satisfied: tzdata>=2022.1 in /Users/joshmoskoff/anaconda3/envs/aiblock/lib/python3.8/site-packages (from pandas->fedlab) (2024.1)\n",
      "Requirement already satisfied: scipy>=1.5.0 in /Users/joshmoskoff/anaconda3/envs/aiblock/lib/python3.8/site-packages (from scikit-learn->fedlab) (1.7.3)\n",
      "Requirement already satisfied: joblib>=1.1.1 in /Users/joshmoskoff/anaconda3/envs/aiblock/lib/python3.8/site-packages (from scikit-learn->fedlab) (1.3.2)\n",
      "Requirement already satisfied: threadpoolctl>=2.0.0 in /Users/joshmoskoff/anaconda3/envs/aiblock/lib/python3.8/site-packages (from scikit-learn->fedlab) (3.3.0)\n",
      "Requirement already satisfied: six>=1.5 in /Users/joshmoskoff/anaconda3/envs/aiblock/lib/python3.8/site-packages (from python-dateutil>=2.8.2->pandas->fedlab) (1.16.0)\n",
      "Requirement already satisfied: MarkupSafe>=2.0 in /Users/joshmoskoff/anaconda3/envs/aiblock/lib/python3.8/site-packages (from jinja2->torch>=1.7.1->fedlab) (2.1.5)\n",
      "Requirement already satisfied: mpmath>=0.19 in /Users/joshmoskoff/anaconda3/envs/aiblock/lib/python3.8/site-packages (from sympy->torch>=1.7.1->fedlab) (1.3.0)\n",
      "Note: you may need to restart the kernel to use updated packages.\n"
     ]
    }
   ],
   "source": [
    "%pip install fedlab"
   ]
  },
  {
   "cell_type": "markdown",
   "metadata": {},
   "source": [
    "If you clone the FedLab GitHub repo, here's an example code snippet on how you may configure your environment."
   ]
  },
  {
   "cell_type": "code",
   "execution_count": 49,
   "metadata": {},
   "outputs": [],
   "source": [
    "import sys\n",
    "# sys.path.append(\"../\")\n",
    "\n",
    "# configuration\n",
    "from munch import Munch\n",
    "from fedlab.models.mlp import MLP\n",
    "\n",
    "from fedlab.utils.functional import evaluate\n",
    "from fedlab.core.standalone import StandalonePipeline\n",
    "\n",
    "from torch import nn\n",
    "from torch.utils.data import DataLoader\n",
    "import torch\n",
    "import torchvision\n",
    "\n",
    "import matplotlib.pylab as plt"
   ]
  },
  {
   "cell_type": "markdown",
   "metadata": {},
   "source": [
    "### Task 7: Load the MNIST dataset [3 points]\n",
    "\n",
    "You will be using the MNIST dataset for this lab. You may load the dataset using the TorchVision API or use Fedlab's version of the dataset.\n",
    "FedLab provides the necessary module for users to partition their datasets. Additionally, various implementations of datasets partition for federated learning are available at the [URL](https://github.com/SMILELab-FL/FedLab/tree/master/datasets)."
   ]
  },
  {
   "cell_type": "code",
   "execution_count": 31,
   "metadata": {},
   "outputs": [
    {
     "name": "stdout",
     "output_type": "stream",
     "text": [
      "mkdir: ./datasets: File exists\n"
     ]
    }
   ],
   "source": [
    "!mkdir ./datasets"
   ]
  },
  {
   "cell_type": "code",
   "execution_count": 206,
   "metadata": {},
   "outputs": [
    {
     "name": "stderr",
     "output_type": "stream",
     "text": [
      "/Users/joshmoskoff/anaconda3/envs/aiblock/lib/python3.8/site-packages/fedlab/utils/dataset/partition.py:232: FutureWarning: The input object of type 'Tensor' is an array-like implementing one of the corresponding protocols (`__array__`, `__array_interface__` or `__array_struct__`); but not a sequence (or 0-D). In the future, this object will be coerced as if it was first converted using `np.array(obj)`. To retain the old behaviour, you have to either modify the type 'Tensor', or assign to an empty array created with `np.empty(correct_shape, dtype=object)`.\n",
      "  self.targets = np.array(targets)  # with shape (num_samples,)\n",
      "/Users/joshmoskoff/anaconda3/envs/aiblock/lib/python3.8/site-packages/fedlab/utils/dataset/partition.py:232: VisibleDeprecationWarning: Creating an ndarray from ragged nested sequences (which is a list-or-tuple of lists-or-tuples-or ndarrays with different lengths or shapes) is deprecated. If you meant to do this, you must specify 'dtype=object' when creating the ndarray.\n",
      "  self.targets = np.array(targets)  # with shape (num_samples,)\n"
     ]
    }
   ],
   "source": [
    "from torchvision import datasets, transforms\n",
    "from torch.utils.data import DataLoader, Subset\n",
    "from torchvision import datasets, transforms\n",
    "from fedlab.utils.dataset import MNISTPartitioner\n",
    "\n",
    "\n",
    "class DatasetManager:\n",
    "    def __init__(self, base_dataset, partition_indices, batch_size):\n",
    "        \"\"\"\n",
    "        Initializes the DatasetManager with the base dataset, partition indices, and a batch size.\n",
    "\n",
    "        :param base_dataset: The base dataset from which subsets are created.\n",
    "        :param partition_indices: A dictionary mapping client IDs to their respective dataset indices.\n",
    "        :param batch_size: The batch size for DataLoader instances.\n",
    "        \"\"\"\n",
    "        self.base_dataset = base_dataset\n",
    "        self.partition_indices = partition_indices\n",
    "        self.batch_size = batch_size\n",
    "        self.data_loaders = self._create_data_loaders()\n",
    "\n",
    "    def _create_data_loaders(self):\n",
    "        \"\"\"\n",
    "        Private method to create a DataLoader for each partition (client).\n",
    "\n",
    "        :return: A list of DataLoader instances, each corresponding to a client's dataset.\n",
    "        \"\"\"\n",
    "        data_loaders = []\n",
    "        # Ensure consistent order\n",
    "        for client_id in sorted(self.partition_indices.keys()):\n",
    "            indices = self.partition_indices[client_id]\n",
    "            subset = Subset(self.base_dataset, indices)\n",
    "            loader = DataLoader(\n",
    "                subset, batch_size=self.batch_size, shuffle=True)\n",
    "            data_loaders.append(loader)\n",
    "        return data_loaders\n",
    "\n",
    "    def get_dataloader(self, client_id, batch_size=0):\n",
    "        \"\"\"\n",
    "        Returns a DataLoader for the specified client ID.\n",
    "\n",
    "        :param client_id: The ID of the client for which to get the DataLoader.\n",
    "        :return: A DataLoader object for the specified client's dataset.\n",
    "        \"\"\"\n",
    "        return self.data_loaders[client_id]\n",
    "\n",
    "\n",
    "transform = transforms.Compose([\n",
    "    transforms.ToTensor(),\n",
    "])\n",
    "\n",
    "mnist_train = datasets.MNIST(\n",
    "    root='./data', train=True, download=True, transform=transform)\n",
    "mnist_test = datasets.MNIST(\n",
    "    root='./data', train=False, download=True, transform=transform)\n",
    "\n",
    "partitioner = MNISTPartitioner(mnist_train, 10)\n",
    "datasets = DatasetManager(base_dataset=mnist_train,\n",
    "                          partition_indices=partitioner.client_dict, batch_size=10)"
   ]
  },
  {
   "cell_type": "markdown",
   "metadata": {},
   "source": [
    "Once you load the dataset, you may use the following function to visualize the digits."
   ]
  },
  {
   "cell_type": "code",
   "execution_count": 181,
   "metadata": {},
   "outputs": [],
   "source": [
    "IMAGE_SIZE = 28\n",
    "\n",
    "\n",
    "def show_data(data_sample):\n",
    "    \"\"\"plot out data samples as images\"\"\"\n",
    "    plt.imshow(data_sample[0].numpy().reshape(\n",
    "        IMAGE_SIZE, IMAGE_SIZE), cmap='gray')\n",
    "    plt.title('y = ' + str(data_sample[1]))"
   ]
  },
  {
   "cell_type": "markdown",
   "metadata": {},
   "source": [
    "### Task 8: Visualize a single digit [2 points]\n",
    "\n",
    "Using the above function, visualize any digit in the dataset."
   ]
  },
  {
   "cell_type": "code",
   "execution_count": 182,
   "metadata": {},
   "outputs": [
    {
     "data": {
      "image/png": "[encoded data removed]",
      "text/plain": [
       "<Figure size 640x480 with 1 Axes>"
      ]
     },
     "metadata": {},
     "output_type": "display_data"
    }
   ],
   "source": [
    "# Type your code here.\n",
    "for images, labels in datasets.get_dataloader(0):\n",
    "    show_data([images[9], labels[9]])\n",
    "    break"
   ]
  },
  {
   "cell_type": "markdown",
   "metadata": {},
   "source": [
    "### Task 9: Define the model architecture [5 points]\n",
    "You should use PyTorch and the FedLab APIs to define your model architecture. \n",
    "\n",
    "*Hint: You can use a simple neural network or the `fedlab.models.mlp`.*"
   ]
  },
  {
   "cell_type": "code",
   "execution_count": 183,
   "metadata": {},
   "outputs": [],
   "source": [
    "# Type your code here\n",
    "from fedlab.models.mlp import MLP\n",
    "\n",
    "# image size is 28 * 28 = 784\n",
    "# possible number of outputs = 10\n",
    "model = MLP(784, 10)\n",
    "args = Munch\n",
    "\n",
    "args.total_client = 10\n",
    "args.alpha = 0.5\n",
    "args.seed = 42\n",
    "args.preprocess = True\n",
    "args.cuda = \"cpu\""
   ]
  },
  {
   "cell_type": "markdown",
   "metadata": {},
   "source": [
    "### Task 10: Implement the client-side training logic [5 points]\n",
    "\n",
    "Implement the client-side training logic, which should involve loading the local data, training the model on the local data, and sending the updated weights to the server. \n",
    "\n",
    "*Hint: For this task, you may use the `fedlab.contrib.algorithm.basic_client`.*"
   ]
  },
  {
   "cell_type": "code",
   "execution_count": 193,
   "metadata": {},
   "outputs": [],
   "source": [
    "# client\n",
    "from fedlab.contrib.algorithm.basic_client import SGDSerialClientTrainer, SGDClientTrainer\n",
    "\n",
    "# local train configuration\n",
    "args.epochs = 5\n",
    "args.batch_size = 128\n",
    "args.lr = 0.1\n",
    "\n",
    "trainer = SGDSerialClientTrainer(\n",
    "    model, args.total_client, cuda=False)  # serial trainer\n",
    "# trainer = SGDClientTrainer(model, cuda=True) # single trainer\n",
    "client_loader = datasets\n",
    "trainer.setup_dataset(client_loader)\n",
    "trainer.setup_optim(args.epochs, args.batch_size, args.lr)"
   ]
  },
  {
   "cell_type": "markdown",
   "metadata": {},
   "source": [
    "### Task 11: Implement the server-side aggregation logic [5 points]\n",
    "\n",
    "Implement the server-side aggregation logic, which should involve receiving the updated weights from each client, aggregating the weights, and sending the updated global model weights back to each client. \n",
    "\n",
    "*Hint: You may use the `fedlab.contrib.algorithm.basic_server`.*"
   ]
  },
  {
   "cell_type": "code",
   "execution_count": 207,
   "metadata": {},
   "outputs": [],
   "source": [
    "# server\n",
    "from fedlab.contrib.algorithm.basic_server import SyncServerHandler\n",
    "\n",
    "\n",
    "# global configuration\n",
    "args.com_round = 10\n",
    "args.sample_ratio = 0.1\n",
    "\n",
    "handler = SyncServerHandler(\n",
    "    model=model, global_round=args.com_round, sample_ratio=args.sample_ratio, cuda=False)"
   ]
  },
  {
   "cell_type": "markdown",
   "metadata": {},
   "source": [
    "### Task 12: Train the federated learning algorithm [5 points]\n",
    "\n",
    "Once you have implemented the client-side training and server-side aggregation logic, you should train the model. \n",
    "\n",
    "*Hint: We recommend creating a subclass of the `fedlab.core.standalone.StandalonePipeline` for this purpose.*"
   ]
  },
  {
   "cell_type": "code",
   "execution_count": 199,
   "metadata": {},
   "outputs": [],
   "source": [
    "from fedlab.contrib.algorithm.basic_client import SerialClientTrainer\n",
    "from fedlab.contrib.algorithm.basic_server import SyncServerHandler\n",
    "\n",
    "\n",
    "class StandalonePipeline(object):\n",
    "    def __init__(self, handler: SyncServerHandler, trainer: SerialClientTrainer):\n",
    "        \"\"\"Perform standalone simulation process.\n",
    "\n",
    "        Args:\n",
    "            handler (ServerHandler): _description_\n",
    "            trainer (SerialClientTrainer): _description_\n",
    "        \"\"\"\n",
    "        self.handler = handler\n",
    "        self.trainer = trainer\n",
    "\n",
    "        # initialization\n",
    "        self.handler.num_clients = self.trainer.num_clients\n",
    "\n",
    "    def main(self):\n",
    "        while self.handler.if_stop is False:\n",
    "            # server side\n",
    "            sampled_clients = self.handler.sample_clients()\n",
    "            broadcast = self.handler.downlink_package\n",
    "\n",
    "            # client side\n",
    "            self.trainer.local_process(broadcast, sampled_clients)\n",
    "            uploads = self.trainer.uplink_package\n",
    "\n",
    "            # server side\n",
    "            for pack in uploads:\n",
    "                self.handler.load(pack)\n",
    "\n",
    "            # evaluate\n",
    "            return self.evaluate()\n",
    "            # self.handler.evaluate()\n",
    "\n",
    "    def evaluate(self):\n",
    "        loss, acc = self.handler.evaluate()\n",
    "        return loss, acc"
   ]
  },
  {
   "cell_type": "markdown",
   "metadata": {},
   "source": [
    "### Task 13: Evaluate the federated learning algorithm [5 points]\n",
    "\n",
    "Now, evaluate the performance of the federated learning algorithm. You can do this by computing the accuracy of the global model on the test set. You can also compare the performance of the federated learning algorithm with that of a centralized learning algorithm, where the data is collected and trained on a single server.\n",
    "\n",
    "Use the convenience functions below for your evaluation."
   ]
  },
  {
   "cell_type": "code",
   "execution_count": 200,
   "metadata": {},
   "outputs": [],
   "source": [
    "import matplotlib.pyplot as plt\n",
    "\n",
    "\n",
    "def generate_loss_accuracy_charts(label, loss_list,  accuracy_list):\n",
    "\n",
    "    fig, ax1 = plt.subplots()\n",
    "\n",
    "    # create a subplot for the current key\n",
    "    # ax = fig.add_subplot(len(data1), 1, i+1)\n",
    "\n",
    "    color = 'tab:green'\n",
    "    ax1.set_xlabel('epoch', color=color)\n",
    "\n",
    "    color = 'tab:red'\n",
    "    ax1.plot(loss_list, color=color)\n",
    "    ax1.set_ylabel('total loss', color=color)\n",
    "    ax1.tick_params(axis='y', color=color)\n",
    "\n",
    "    ax2 = ax1.twinx()\n",
    "    color = 'tab:blue'\n",
    "    ax2.set_ylabel('accuracy', color=color)\n",
    "    ax2.plot(accuracy_list, color=color)\n",
    "    ax2.tick_params(axis='y', color=color)\n",
    "\n",
    "    ax1.set_title(label)\n",
    "\n",
    "    fig.tight_layout()\n",
    "\n",
    "    # show the figure\n",
    "    plt.show()"
   ]
  },
  {
   "cell_type": "markdown",
   "metadata": {},
   "source": [
    "In your analysis, you could analyze misclassified images using the following function."
   ]
  },
  {
   "cell_type": "code",
   "execution_count": 201,
   "metadata": {},
   "outputs": [],
   "source": [
    "def print_first_five_misclassified_samples(dataset, model):\n",
    "    Softmax_fn = nn.Softmax(dim=-1)\n",
    "    count = 0\n",
    "    for x, y in dataset:\n",
    "        z = model(x.unsqueeze(0))\n",
    "        _, yhat = torch.max(z, 1)\n",
    "        if yhat != y:\n",
    "            show_data((x, y))\n",
    "            plt.show()\n",
    "            print(\"yhat:\", yhat)\n",
    "            print(\"probability of class \", torch.max(Softmax_fn(z)).item())\n",
    "            count += 1\n",
    "        if count >= 5:\n",
    "            break"
   ]
  },
  {
   "cell_type": "code",
   "execution_count": 208,
   "metadata": {},
   "outputs": [],
   "source": [
    "def evaluate_local(model, criterion, data_loader, device):\n",
    "    model.eval()\n",
    "    total_loss = 0.0\n",
    "    correct = 0\n",
    "    total = 0\n",
    "\n",
    "    with torch.no_grad():\n",
    "        for data, target in data_loader:\n",
    "            data, target = data.to(device), target.to(device)\n",
    "            output = model(data)\n",
    "            loss = criterion(output, target)\n",
    "            total_loss += loss.item()\n",
    "            _, predicted = torch.max(output.data, 1)\n",
    "            total += target.size(0)\n",
    "            correct += (predicted == target).sum().item()\n",
    "\n",
    "    avg_loss = total_loss / len(data_loader)\n",
    "    accuracy = 100. * correct / total\n",
    "    return avg_loss, accuracy\n",
    "\n",
    "\n",
    "def evaluate_global(model, criterion, dataset_manager, device):\n",
    "    total_loss = 0.0\n",
    "    total_accuracy = 0.0\n",
    "    total_clients = len(dataset_manager.data_loaders)\n",
    "\n",
    "    for client_id, data_loader in enumerate(dataset_manager.data_loaders):\n",
    "        avg_loss, accuracy = evaluate_local(\n",
    "            model, criterion, data_loader, device)\n",
    "        print(\n",
    "            f\"Client {client_id}: Loss = {avg_loss:.4f}, Accuracy = {accuracy:.2f}%\")\n",
    "        total_loss += avg_loss\n",
    "        total_accuracy += accuracy\n",
    "\n",
    "    global_avg_loss = total_loss / total_clients\n",
    "    global_accuracy = total_accuracy / total_clients\n",
    "    return global_avg_loss, global_accuracy"
   ]
  },
  {
   "cell_type": "code",
   "execution_count": 202,
   "metadata": {},
   "outputs": [
    {
     "ename": "NotImplementedError",
     "evalue": "",
     "output_type": "error",
     "traceback": [
      "\u001b[0;31m---------------------------------------------------------------------------\u001b[0m",
      "\u001b[0;31mNotImplementedError\u001b[0m                       Traceback (most recent call last)",
      "Cell \u001b[0;32mIn[202], line 3\u001b[0m\n\u001b[1;32m      1\u001b[0m \u001b[38;5;66;03m# Type your code here.\u001b[39;00m\n\u001b[1;32m      2\u001b[0m pipeline \u001b[38;5;241m=\u001b[39m StandalonePipeline(handler, trainer)\n\u001b[0;32m----> 3\u001b[0m loss, acc \u001b[38;5;241m=\u001b[39m \u001b[43mpipeline\u001b[49m\u001b[38;5;241;43m.\u001b[39;49m\u001b[43mmain\u001b[49m\u001b[43m(\u001b[49m\u001b[43m)\u001b[49m\n\u001b[1;32m      4\u001b[0m generate_loss_accuracy_charts(\u001b[38;5;124m\"\u001b[39m\u001b[38;5;124mAccuracy\u001b[39m\u001b[38;5;124m\"\u001b[39m, loss, acc)\n",
      "Cell \u001b[0;32mIn[199], line 34\u001b[0m, in \u001b[0;36mStandalonePipeline.main\u001b[0;34m(self)\u001b[0m\n\u001b[1;32m     31\u001b[0m     \u001b[38;5;28mself\u001b[39m\u001b[38;5;241m.\u001b[39mhandler\u001b[38;5;241m.\u001b[39mload(pack)\n\u001b[1;32m     33\u001b[0m \u001b[38;5;66;03m# evaluate\u001b[39;00m\n\u001b[0;32m---> 34\u001b[0m \u001b[38;5;28;01mreturn\u001b[39;00m \u001b[38;5;28;43mself\u001b[39;49m\u001b[38;5;241;43m.\u001b[39;49m\u001b[43mevaluate\u001b[49m\u001b[43m(\u001b[49m\u001b[43m)\u001b[49m\n",
      "Cell \u001b[0;32mIn[199], line 38\u001b[0m, in \u001b[0;36mStandalonePipeline.evaluate\u001b[0;34m(self)\u001b[0m\n\u001b[1;32m     37\u001b[0m \u001b[38;5;28;01mdef\u001b[39;00m \u001b[38;5;21mevaluate\u001b[39m(\u001b[38;5;28mself\u001b[39m):\n\u001b[0;32m---> 38\u001b[0m     loss, acc \u001b[38;5;241m=\u001b[39m \u001b[38;5;28;43mself\u001b[39;49m\u001b[38;5;241;43m.\u001b[39;49m\u001b[43mhandler\u001b[49m\u001b[38;5;241;43m.\u001b[39;49m\u001b[43mevaluate\u001b[49m\u001b[43m(\u001b[49m\u001b[43m)\u001b[49m\n\u001b[1;32m     39\u001b[0m     \u001b[38;5;28;01mreturn\u001b[39;00m loss, acc\n",
      "File \u001b[0;32m~/anaconda3/envs/aiblock/lib/python3.8/site-packages/fedlab/core/server/handler.py:71\u001b[0m, in \u001b[0;36mServerHandler.evaluate\u001b[0;34m(self)\u001b[0m\n\u001b[1;32m     68\u001b[0m \u001b[38;5;129m@abstractmethod\u001b[39m\n\u001b[1;32m     69\u001b[0m \u001b[38;5;28;01mdef\u001b[39;00m \u001b[38;5;21mevaluate\u001b[39m(\u001b[38;5;28mself\u001b[39m):\n\u001b[1;32m     70\u001b[0m \u001b[38;5;250m    \u001b[39m\u001b[38;5;124;03m\"\"\"Override this function to define the evaluation of global model.\"\"\"\u001b[39;00m\n\u001b[0;32m---> 71\u001b[0m     \u001b[38;5;28;01mraise\u001b[39;00m \u001b[38;5;167;01mNotImplementedError\u001b[39;00m()\n",
      "\u001b[0;31mNotImplementedError\u001b[0m: "
     ]
    }
   ],
   "source": [
    "# Type your code here.\n",
    "pipeline = StandalonePipeline(handler, trainer)\n",
    "loss, acc = pipeline.main()\n",
    "generate_loss_accuracy_charts(\"Accuracy\", loss, acc)"
   ]
  },
  {
   "cell_type": "markdown",
   "metadata": {},
   "source": [
    "### Task 14: Fine-tune the hyperparameters [5 points]\n",
    "\n",
    "You should experiment with different hyperparameters to improve the performance of the federated learning algorithm. \n",
    "\n",
    "*Hint: You can try adjusting the num clients, learning rate, the batch size, or the number of communication rounds.*\n",
    "\n"
   ]
  },
  {
   "cell_type": "code",
   "execution_count": null,
   "metadata": {},
   "outputs": [],
   "source": [
    "# Type your code here."
   ]
  },
  {
   "cell_type": "markdown",
   "metadata": {},
   "source": [
    "### Task 15: A description of the federated learning algorithm you implemented. [5 points]\n"
   ]
  },
  {
   "cell_type": "markdown",
   "metadata": {},
   "source": [
    "Type your answer here (this is a written answer, use markdown syntax as necessary)."
   ]
  },
  {
   "cell_type": "markdown",
   "metadata": {},
   "source": [
    "### Task 16: A summary of the performance of the federated learning algorithm [5 points]"
   ]
  },
  {
   "cell_type": "markdown",
   "metadata": {},
   "source": [
    "Type your answer here (this is a written answer, use markdown syntax as necessary)."
   ]
  },
  {
   "cell_type": "markdown",
   "metadata": {},
   "source": [
    "### Task 17: A comparison of the performance of the federated learning algorithm with the performance of a centralized learning algorithm [5 points]\n",
    "\n",
    "*Hint: To implement centralized training you set num client to be 1 and try out a few different learning rates.*\n",
    "\n",
    "*Hint: You must also provide a written answer in markdown syntax analyzing the results you obtained.*"
   ]
  },
  {
   "cell_type": "code",
   "execution_count": null,
   "metadata": {},
   "outputs": [],
   "source": [
    "# Type your code here"
   ]
  },
  {
   "cell_type": "markdown",
   "metadata": {},
   "source": [
    "Type your answer here (this is a written answer, use markdown syntax as necessary).\n"
   ]
  },
  {
   "cell_type": "markdown",
   "metadata": {},
   "source": [
    "### Task 18: A discussion of the hyperparameters you fine-tuned and their impact on the performance of the federated learning algorithm [5 points]"
   ]
  },
  {
   "cell_type": "code",
   "execution_count": null,
   "metadata": {},
   "outputs": [],
   "source": [
    "# Type any supporting code here"
   ]
  },
  {
   "cell_type": "markdown",
   "metadata": {},
   "source": [
    "Type your answer here (this is a written answer, use markdown syntax as necessary)."
   ]
  },
  {
   "cell_type": "markdown",
   "metadata": {},
   "source": [
    "### Task 19: Implement the aggregator using a Solidity smart contract. [10 points]\n",
    "You must write Solidity code to get full points for this question. The contract should be syntactically correct (i.e., compile).\n",
    "\n",
    "Some Hints: \n",
    "* Create structs for the Participants (i.e., clients) and Global Model (i.e., the server). \n",
    "* Some useful functions to include in the smart contract: addParticipant, updateParticipantParameters, aggregate\n",
    "* The `aggregate` function should aggregate the model parameters from all the participants, and you are welcome to utilize any relevant algorithm for this purpose."
   ]
  },
  {
   "cell_type": "markdown",
   "metadata": {},
   "source": [
    "Since the code is in Solidity, place it inside the markdown cell in the \"javascript\" environment.\n",
    "\n",
    "```javascript\n",
    "//Type your code here. \n",
    "```\n"
   ]
  },
  {
   "cell_type": "markdown",
   "metadata": {},
   "source": [
    "### Task 20: Deploying and using the aggregator smart contract. [5 points]\n",
    "Please describe the steps you would take to deploy the smart contract you developed above on an Ethereum test network (you need not deploy the contract). How would the participants/clients interact with the smart contract?"
   ]
  },
  {
   "cell_type": "markdown",
   "metadata": {},
   "source": [
    "Type your answer here (this is a written answer, use markdown syntax as necessary)."
   ]
  }
 ],
 "metadata": {
  "colab": {
   "collapsed_sections": [],
   "name": "secure_private_AI.ipynb",
   "provenance": []
  },
  "kernelspec": {
   "display_name": "Python 3 (ipykernel)",
   "language": "python",
   "name": "python3"
  },
  "language_info": {
   "codemirror_mode": {
    "name": "ipython",
    "version": 3
   },
   "file_extension": ".py",
   "mimetype": "text/x-python",
   "name": "python",
   "nbconvert_exporter": "python",
   "pygments_lexer": "ipython3",
   "version": "3.8.18"
  },
  "vscode": {
   "interpreter": {
    "hash": "1fe8e4d96a285da23bbd9adf1624e7f8c0742471a586e45e4d4ad444ea6dadb4"
   }
  }
 },
 "nbformat": 4,
 "nbformat_minor": 1
}
