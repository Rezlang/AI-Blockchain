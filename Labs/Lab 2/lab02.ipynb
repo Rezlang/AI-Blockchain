{
 "cells": [
  {
   "cell_type": "markdown",
   "metadata": {
    "colab_type": "text",
    "id": "gY-Z4kKG_DKz"
   },
   "source": [
    "# AI and Blockchain: Spring 2024\n",
    "## Lab 02 : Secure and Private AI \n",
    "\n",
    "<p><b>Instructions:</b> Complete the code in the designated cells, and upload the completed python notebook on LMS prefixed with your RCS ID, i.e., \"senevo_lab02.ipynb\". </p>\n",
    "\n",
    "<p>Total points: <b>100</b></p>\n",
    "\n",
    "<p>Assigned: <b>Feb 13, 2024</b></p>\n",
    "<p>Due: <b>1:59 PM Mar 01, 2024</b></p>\n",
    "\n",
    "<hr>"
   ]
  },
  {
   "cell_type": "markdown",
   "metadata": {},
   "source": [
    "### Task 0: Please Type Your Information\n",
    "\n",
    "RCS ID: \n",
    "\n",
    "Name: \n",
    "\n",
    "Level (4000/6000): "
   ]
  },
  {
   "cell_type": "markdown",
   "metadata": {},
   "source": [
    "Moskoj\n",
    "Josh Moskoff\n",
    "4000"
   ]
  },
  {
   "cell_type": "markdown",
   "metadata": {
    "colab_type": "text",
    "id": "ZlmjxhWcGFKe"
   },
   "source": [
    "## Differential Privacy with a Toy Dataset\n",
    "\n",
    "Step one is to create our dataset, i.e., \"database\" - we will do this by initializing a random list of 1s and 0s (the entries in our database). Note - the number of entries directly corresponds to the number of people in our database."
   ]
  },
  {
   "cell_type": "code",
   "execution_count": 363,
   "metadata": {
    "colab": {
     "base_uri": "https://localhost:8080/",
     "height": 34
    },
    "colab_type": "code",
    "id": "29sKX2k0DQ2y",
    "outputId": "bf3efde6-6350-44f7-d327-ee6cd7d0d2da"
   },
   "outputs": [
    {
     "data": {
      "text/plain": [
       "tensor([0, 0, 1, 1, 0, 1, 0, 1, 0, 1], dtype=torch.int32)"
      ]
     },
     "execution_count": 363,
     "metadata": {},
     "output_type": "execute_result"
    }
   ],
   "source": [
    "import torch\n",
    "\n",
    "num_entries = 5000\n",
    "db = torch.rand(5000) > 0.5\n",
    "db.int()[:10]"
   ]
  },
  {
   "cell_type": "code",
   "execution_count": 364,
   "metadata": {
    "colab": {
     "base_uri": "https://localhost:8080/",
     "height": 34
    },
    "colab_type": "code",
    "id": "PzzzOF6hJP2L",
    "outputId": "94346801-b98d-4488-9f11-9df661bd7608"
   },
   "outputs": [
    {
     "data": {
      "text/plain": [
       "torch.Size([5000])"
      ]
     },
     "execution_count": 364,
     "metadata": {},
     "output_type": "execute_result"
    }
   ],
   "source": [
    "db.shape"
   ]
  },
  {
   "cell_type": "markdown",
   "metadata": {
    "colab_type": "text",
    "id": "5CYNCtHwGWEF"
   },
   "source": [
    "Key to the definition of differential privacy is the ability to ask the question, \"When querying a database if I removed someone from the database, would the output of the query be any different?\". To check this, we must construct what we term \"parallel databases,\" which are simply databases with one entry removed.\n",
    "\n",
    "### Task 1: Create parallel databases (2 points)\n",
    "\n",
    "Create a list of every parallel database to the one currently in the \"db\" variable. The code to create a single parallel database is provided for you."
   ]
  },
  {
   "cell_type": "code",
   "execution_count": 365,
   "metadata": {
    "colab": {},
    "colab_type": "code",
    "id": "ZLGzhm2XG0dy"
   },
   "outputs": [],
   "source": [
    "def get_parallel_db(db, remove_index):\n",
    "\n",
    "    return torch.cat((db[0:remove_index],\n",
    "                      db[remove_index+1:]))\n",
    "\n",
    "\n",
    "def get_parallel_dbs(db):\n",
    "    parallel_dbs = list()\n",
    "\n",
    "    for i in range(len(db)):\n",
    "        parallel_db = get_parallel_db(db, i)\n",
    "        parallel_dbs.append(parallel_db)\n",
    "\n",
    "    return parallel_dbs"
   ]
  },
  {
   "cell_type": "markdown",
   "metadata": {},
   "source": [
    "Now, let's create the database and the parallels."
   ]
  },
  {
   "cell_type": "code",
   "execution_count": 366,
   "metadata": {
    "colab": {},
    "colab_type": "code",
    "id": "MwAb4_8aIIa_"
   },
   "outputs": [],
   "source": [
    "def create_db_and_parallels(num_entries):\n",
    "\n",
    "    db = torch.rand(num_entries) > 0.5\n",
    "    pdbs = get_parallel_dbs(db)\n",
    "    return db, pdbs"
   ]
  },
  {
   "cell_type": "markdown",
   "metadata": {
    "colab_type": "text",
    "id": "V87lcvnskkHk"
   },
   "source": [
    "## Evaluating The Differential Privacy of a Function\n",
    "\n",
    "Let's make our first \"database query\" a simple sum by counting the number of 1s in the database."
   ]
  },
  {
   "cell_type": "code",
   "execution_count": 367,
   "metadata": {
    "colab": {},
    "colab_type": "code",
    "id": "bmVkLlqfk63j"
   },
   "outputs": [],
   "source": [
    "db, pdbs = create_db_and_parallels(5000)"
   ]
  },
  {
   "cell_type": "code",
   "execution_count": 368,
   "metadata": {
    "colab": {},
    "colab_type": "code",
    "id": "LfITf2mUlF-B"
   },
   "outputs": [],
   "source": [
    "def query(db):\n",
    "    return db.sum()"
   ]
  },
  {
   "cell_type": "code",
   "execution_count": 369,
   "metadata": {
    "colab": {
     "base_uri": "https://localhost:8080/",
     "height": 34
    },
    "colab_type": "code",
    "id": "fyBWU-PFlIba",
    "outputId": "73cf4a64-6496-40c4-f311-89cd6b320ac5"
   },
   "outputs": [
    {
     "data": {
      "text/plain": [
       "tensor(2481)"
      ]
     },
     "execution_count": 369,
     "metadata": {},
     "output_type": "execute_result"
    }
   ],
   "source": [
    "full_db_result = query(db)\n",
    "full_db_result"
   ]
  },
  {
   "cell_type": "code",
   "execution_count": 370,
   "metadata": {
    "colab": {
     "base_uri": "https://localhost:8080/",
     "height": 34
    },
    "colab_type": "code",
    "id": "1bgsCBW6m6_X",
    "outputId": "5d6f46b2-544d-4862-a21b-6358ccb2d2a2"
   },
   "outputs": [
    {
     "data": {
      "text/plain": [
       "tensor(2480)"
      ]
     },
     "execution_count": 370,
     "metadata": {},
     "output_type": "execute_result"
    }
   ],
   "source": [
    "pdb0_result = query(pdbs[0])\n",
    "pdb0_result"
   ]
  },
  {
   "cell_type": "code",
   "execution_count": 371,
   "metadata": {
    "colab": {},
    "colab_type": "code",
    "id": "iHqgQMhflLOv"
   },
   "outputs": [],
   "source": [
    "sensitivity = 0\n",
    "for pdb in pdbs:\n",
    "    pdb_result = query(pdb)\n",
    "\n",
    "    db_distance = torch.abs(pdb_result - full_db_result)\n",
    "\n",
    "    if (db_distance > sensitivity):\n",
    "        sensitivity = db_distance"
   ]
  },
  {
   "cell_type": "code",
   "execution_count": 372,
   "metadata": {
    "colab": {
     "base_uri": "https://localhost:8080/",
     "height": 34
    },
    "colab_type": "code",
    "id": "sxYYVjOilNG5",
    "outputId": "50750935-9152-4cc7-d32d-9665cb3e3370"
   },
   "outputs": [
    {
     "data": {
      "text/plain": [
       "tensor(1)"
      ]
     },
     "execution_count": 372,
     "metadata": {},
     "output_type": "execute_result"
    }
   ],
   "source": [
    "sensitivity"
   ]
  },
  {
   "cell_type": "markdown",
   "metadata": {
    "colab_type": "text",
    "id": "0gPWNoKip_A6"
   },
   "source": [
    "## Evaluating the Privacy of a Function\n",
    "\n",
    "We can measure the difference between each parallel db's query result and the query result for the entire database by calculating the max value (1). This value is called \"sensitivity,\" corresponding to the function we chose for the query. The \"sum\" query will always have a sensitivity of exactly 1. We can also calculate sensitivity for other functions. The steps for evaluating the sensitivity include the following:\n",
    "\n",
    "* Initialize a database of the correct size\n",
    "* Initialize all parallel databases\n",
    "* Run the query over all databases\n",
    "* Correctly calculate sensitivity\n",
    "* Return the sensitivity"
   ]
  },
  {
   "cell_type": "code",
   "execution_count": 373,
   "metadata": {
    "colab": {},
    "colab_type": "code",
    "id": "hRdhVoQ07utx"
   },
   "outputs": [],
   "source": [
    "def sensitivity(query, n_entries=1000):\n",
    "\n",
    "    db, pdbs = create_db_and_parallels(n_entries)\n",
    "\n",
    "    full_db_result = query(db)\n",
    "\n",
    "    max_distance = 0\n",
    "    for pdb in pdbs:\n",
    "        pdb_result = query(pdb)\n",
    "\n",
    "        db_distance = torch.abs(pdb_result - full_db_result)\n",
    "\n",
    "        if (db_distance > max_distance):\n",
    "            max_distance = db_distance\n",
    "\n",
    "    return max_distance"
   ]
  },
  {
   "cell_type": "markdown",
   "metadata": {
    "colab_type": "text",
    "id": "ke_-72Dp8KnP"
   },
   "source": [
    "### Task 2: Calculate sensitivity for the \"mean\" function (3 points)"
   ]
  },
  {
   "cell_type": "code",
   "execution_count": 374,
   "metadata": {},
   "outputs": [
    {
     "data": {
      "text/plain": [
       "tensor(0.0005)"
      ]
     },
     "execution_count": 374,
     "metadata": {},
     "output_type": "execute_result"
    }
   ],
   "source": [
    "# Type your code here. You should print the sensitivity for mean\n",
    "def meanSensitivity(db, pdbs):\n",
    "    full_db_result = torch.mean(db)\n",
    "\n",
    "    max_distance = 0\n",
    "    for pdb in pdbs:\n",
    "        pdb_result = torch.mean(pdb)\n",
    "\n",
    "        db_distance = torch.abs(pdb_result - full_db_result)\n",
    "\n",
    "        if (db_distance > max_distance):\n",
    "            max_distance = db_distance\n",
    "\n",
    "    return max_distance\n",
    "\n",
    "\n",
    "num_entries = 1000\n",
    "dbMean = torch.rand(num_entries)\n",
    "pdbsMean = get_parallel_dbs(dbMean)\n",
    "meanSensitivity(dbMean, pdbsMean)"
   ]
  },
  {
   "cell_type": "markdown",
   "metadata": {
    "colab_type": "text",
    "id": "FnSEmL8n-8T1"
   },
   "source": [
    "## A Basic Differencing Attack\n",
    "\n",
    "Let's construct a database and then demonstrate how you can use two different sum queries to expose the value of the person represented by row 10 in the database (note, you'll need to use a database with at least 10 rows)"
   ]
  },
  {
   "cell_type": "code",
   "execution_count": 375,
   "metadata": {
    "colab": {},
    "colab_type": "code",
    "id": "AGijuH4pE7PO"
   },
   "outputs": [
    {
     "name": "stdout",
     "output_type": "stream",
     "text": [
      "tensor(0)\n"
     ]
    }
   ],
   "source": [
    "db, _ = create_db_and_parallels(100)\n",
    "pdb = get_parallel_db(db, remove_index=10)\n",
    "db[10].int()\n",
    "sum(db)\n",
    "# differencing attack using sum query\n",
    "print(sum(db) - sum(pdb))"
   ]
  },
  {
   "cell_type": "markdown",
   "metadata": {},
   "source": [
    "### Task 3: Demonstrate the differencing attack using the mean query (5 points)"
   ]
  },
  {
   "cell_type": "code",
   "execution_count": 376,
   "metadata": {
    "colab": {
     "base_uri": "https://localhost:8080/",
     "height": 34
    },
    "colab_type": "code",
    "id": "VxuCC4vIFKjK",
    "outputId": "27c1814a-5ff2-4417-d9e0-8c41e0dd5502"
   },
   "outputs": [
    {
     "name": "stdout",
     "output_type": "stream",
     "text": [
      "tensor(0.0033)\n"
     ]
    }
   ],
   "source": [
    "# Type your code here\n",
    "db = torch.rand(100)\n",
    "pdb = get_parallel_db(db, remove_index=10)\n",
    "# differencing attack using sum query\n",
    "print(torch.abs(torch.mean(db) - torch.mean(pdb)))"
   ]
  },
  {
   "cell_type": "markdown",
   "metadata": {
    "colab_type": "text",
    "id": "_kprAlJYHFR2"
   },
   "source": [
    "## Local Differential Privacy\n",
    "### Randomized Response\n",
    "\n",
    "Let's say we have a group of people we wish to survey about a taboo behavior (e.g., nose picking, drug addiction, criminal behavior, cheating on their spouse) that we think they will lie about. \n",
    "We are not law enforcement; we are just trying to collect statistics to understand the higher-level trend in society using AI. \n",
    "So, how do we do this?\n",
    "\n",
    "One technique is to add randomness to each person's response by giving each person the following instructions (assuming we are asking a simple yes/no question):\n",
    "\n",
    "* Flip a coin two times.\n",
    "* If the first coin flip is heads, answer honestly\n",
    "* If the first coin flip is tails, answer according to the second coin flip (heads for yes, tails for no)!\n",
    "\n",
    "Each person is now protected with \"plausible deniability.\" If they answer \"Yes\" to the question \"Have you committed X crime?\", it might be because they actually did or because they are answering according to a random coin flip. Each person has a high degree of protection. Furthermore, we can recover the underlying statistics with some accuracy, as the \"true statistics\" are averaged with a 50% probability. Thus, if we collect a bunch of samples and it turns out that 60% of people answer yes, then we know that the TRUE distribution is centered around 70% because 70% averaged with 50% (a coin flip) is 60%, which is the result we obtained.\n",
    "\n",
    "However, it should be noted that, especially when we only have a few samples, this comes at the cost of accuracy. This tradeoff exists across all of Differential Privacy. The greater the privacy protection (plausible deniability), the less accurate the results.\n",
    "\n",
    "Let's implement this local DP for our database before!"
   ]
  },
  {
   "cell_type": "code",
   "execution_count": 377,
   "metadata": {
    "colab": {},
    "colab_type": "code",
    "id": "iTrLAJjHRHMx"
   },
   "outputs": [],
   "source": [
    "def query(db):\n",
    "    print(db)\n",
    "    true_result = torch.mean(db.float())\n",
    "\n",
    "    first_coin_flip = (torch.rand(len(db)) < 0.5).float()\n",
    "    second_coin_flip = (torch.rand(len(db)) < 0.5).float()\n",
    "\n",
    "    augmented_database = db.float() * first_coin_flip + \\\n",
    "        (1 - first_coin_flip) * second_coin_flip\n",
    "\n",
    "    print(augmented_database)\n",
    "\n",
    "    private_result = torch.mean(augmented_database.float()) * 2 - 0.5\n",
    "\n",
    "    return private_result, true_result"
   ]
  },
  {
   "cell_type": "markdown",
   "metadata": {
    "colab_type": "text",
    "id": "hoECjzMldKtR"
   },
   "source": [
    "### Task 4: Show how the private result (with noise) and the true result (without noise) change for databases of size 10, 100, 1000, and 10000. (5 points)\n",
    "*Hint: Chart the results in a histogram for easy comparison.*"
   ]
  },
  {
   "cell_type": "code",
   "execution_count": 378,
   "metadata": {},
   "outputs": [
    {
     "name": "stdout",
     "output_type": "stream",
     "text": [
      "tensor([   10,   100,  1000, 10000])\n",
      "tensor([0.2309, 0.8418, 0.9384, 0.7789, 0.6113, 0.9266, 0.0472, 0.8779, 0.2428,\n",
      "        0.2078])\n",
      "tensor([0.0000, 0.0000, 0.9384, 1.0000, 0.0000, 0.9266, 0.0472, 0.8779, 0.2428,\n",
      "        0.0000])\n",
      "tensor([0.2574, 0.9609, 0.8170, 0.9028, 0.0214, 0.6926, 0.3729, 0.8275, 0.5878,\n",
      "        0.4784, 0.0456, 0.5991, 0.5229, 0.4576, 0.5086, 0.0503, 0.2167, 0.2590,\n",
      "        0.9286, 0.8520, 0.9556, 0.7679, 0.8457, 0.6761, 0.1251, 0.3095, 0.8332,\n",
      "        0.4712, 0.1265, 0.7335, 0.8687, 0.7542, 0.7174, 0.8652, 0.5063, 0.5533,\n",
      "        0.5886, 0.2694, 0.4390, 0.7925, 0.7267, 0.2760, 0.6906, 0.4805, 0.8515,\n",
      "        0.8580, 0.6900, 0.6307, 0.3783, 0.3006, 0.9550, 0.8480, 0.2058, 0.2476,\n",
      "        0.6494, 0.4796, 0.2298, 0.3198, 0.7231, 0.2542, 0.6238, 0.7854, 0.1509,\n",
      "        0.3438, 0.3467, 0.3583, 0.7135, 0.4979, 0.6531, 0.6564, 0.2972, 0.5105,\n",
      "        0.4404, 0.5290, 0.9943, 0.0813, 0.1428, 0.4864, 0.1092, 0.7291, 0.4821,\n",
      "        0.2776, 0.2200, 0.6192, 0.8955, 0.0871, 0.3357, 0.7863, 0.9704, 0.7177,\n",
      "        0.5972, 0.0753, 0.3403, 0.9457, 0.1470, 0.4592, 0.6498, 0.6903, 0.6554,\n",
      "        0.3208])\n",
      "tensor([1.0000, 0.9609, 0.8170, 0.9028, 0.0214, 0.6926, 0.3729, 0.0000, 0.5878,\n",
      "        0.4784, 0.0456, 0.5991, 0.5229, 0.0000, 1.0000, 0.0503, 0.0000, 1.0000,\n",
      "        1.0000, 0.8520, 0.9556, 0.0000, 1.0000, 1.0000, 0.1251, 0.3095, 0.0000,\n",
      "        1.0000, 0.0000, 0.7335, 0.8687, 0.7542, 1.0000, 0.8652, 0.5063, 0.0000,\n",
      "        1.0000, 0.2694, 0.4390, 0.7925, 1.0000, 0.2760, 1.0000, 0.4805, 0.8515,\n",
      "        0.8580, 0.0000, 0.6307, 0.3783, 0.0000, 0.0000, 0.8480, 0.2058, 0.2476,\n",
      "        0.6494, 1.0000, 0.2298, 0.0000, 0.7231, 1.0000, 1.0000, 0.7854, 0.1509,\n",
      "        0.3438, 0.3467, 0.3583, 1.0000, 0.4979, 0.6531, 0.6564, 0.0000, 0.5105,\n",
      "        0.0000, 0.5290, 0.0000, 0.0000, 0.1428, 1.0000, 0.1092, 0.0000, 0.0000,\n",
      "        0.0000, 0.2200, 0.6192, 0.8955, 0.0871, 0.3357, 0.7863, 0.9704, 1.0000,\n",
      "        0.5972, 0.0753, 0.3403, 1.0000, 0.0000, 0.4592, 0.6498, 1.0000, 0.6554,\n",
      "        0.0000])\n",
      "tensor([1.7746e-01, 1.2118e-01, 7.2264e-01, 4.5562e-01, 8.0148e-01, 4.5113e-01,\n",
      "        2.8523e-01, 4.7601e-01, 4.0990e-01, 6.0989e-01, 7.5821e-01, 5.5786e-01,\n",
      "        5.2161e-01, 8.3025e-01, 3.1462e-01, 5.5721e-01, 5.6963e-01, 3.7030e-01,\n",
      "        4.1553e-01, 5.6785e-01, 6.1327e-01, 5.7581e-01, 4.6949e-01, 9.1965e-01,\n",
      "        7.4936e-01, 2.0084e-01, 5.0095e-01, 5.6191e-01, 6.2377e-01, 3.3427e-01,\n",
      "        2.1674e-01, 1.0557e-01, 3.9030e-01, 7.2808e-01, 1.5590e-03, 8.4367e-01,\n",
      "        7.9444e-01, 5.4066e-01, 1.7274e-01, 7.6383e-01, 9.6631e-02, 1.2959e-01,\n",
      "        3.1939e-01, 3.3174e-01, 1.3043e-01, 3.3635e-01, 9.4973e-01, 5.2137e-01,\n",
      "        9.0387e-01, 1.1221e-01, 2.9366e-02, 8.9738e-01, 5.5748e-01, 3.1681e-01,\n",
      "        6.8947e-01, 4.1174e-01, 5.3632e-01, 4.5339e-01, 9.2171e-01, 6.2683e-01,\n",
      "        2.2690e-01, 8.9600e-01, 8.2178e-01, 8.9786e-01, 2.6256e-01, 7.8869e-01,\n",
      "        6.1126e-03, 8.0107e-01, 6.0219e-01, 1.0246e-01, 2.1660e-01, 9.3324e-01,\n",
      "        2.6242e-01, 3.8355e-01, 6.7198e-01, 5.5419e-01, 8.6099e-01, 4.9503e-01,\n",
      "        3.5832e-01, 8.0268e-01, 1.6929e-01, 2.9075e-01, 8.9105e-01, 9.2241e-02,\n",
      "        3.0372e-01, 7.4113e-01, 7.6638e-01, 1.0275e-01, 9.3623e-01, 8.0616e-02,\n",
      "        6.7964e-01, 5.2700e-01, 9.1575e-01, 8.7091e-01, 8.6435e-01, 8.7636e-01,\n",
      "        8.8259e-01, 3.0793e-01, 8.6818e-01, 3.9024e-01, 2.8881e-01, 8.4356e-02,\n",
      "        9.9789e-01, 5.0270e-01, 9.6698e-01, 3.4517e-01, 4.4787e-01, 5.1386e-01,\n",
      "        9.7760e-01, 9.9094e-01, 8.7925e-01, 2.3286e-01, 4.3592e-01, 9.6356e-01,\n",
      "        4.3983e-01, 8.8001e-01, 7.1746e-01, 9.3193e-02, 4.3051e-01, 4.7478e-01,\n",
      "        1.0918e-01, 3.7005e-01, 6.3479e-01, 1.6598e-01, 5.7919e-02, 6.4165e-01,\n",
      "        1.1466e-01, 1.9583e-01, 5.3569e-01, 2.2165e-01, 1.5753e-01, 6.3461e-01,\n",
      "        5.5930e-01, 1.5873e-01, 2.9042e-01, 7.5955e-01, 4.6473e-01, 5.5826e-01,\n",
      "        3.4752e-01, 1.2628e-01, 6.8708e-01, 9.0977e-01, 8.7624e-01, 3.7985e-01,\n",
      "        7.7300e-01, 4.1511e-01, 7.7663e-01, 2.4602e-01, 2.9727e-01, 6.2940e-02,\n",
      "        6.3983e-01, 3.0233e-01, 1.8625e-01, 1.4409e-01, 5.8119e-02, 3.2937e-01,\n",
      "        5.8030e-01, 3.5350e-01, 8.7648e-01, 5.4786e-01, 3.6635e-01, 6.2001e-01,\n",
      "        3.8285e-01, 9.6640e-01, 1.9159e-01, 3.0953e-01, 4.0737e-01, 6.4092e-01,\n",
      "        6.1736e-01, 7.9100e-01, 4.0610e-01, 6.3596e-01, 5.3019e-01, 4.8626e-01,\n",
      "        4.2800e-01, 9.6690e-01, 9.1763e-01, 9.5272e-01, 6.2027e-01, 8.8184e-01,\n",
      "        9.4424e-01, 4.5097e-01, 3.0536e-01, 4.0074e-01, 8.7411e-02, 5.5842e-02,\n",
      "        6.6076e-01, 2.2216e-01, 3.7000e-01, 3.2241e-01, 6.9600e-01, 3.3343e-01,\n",
      "        9.2303e-01, 6.9333e-01, 6.2656e-01, 3.4402e-01, 8.1724e-01, 4.9667e-01,\n",
      "        5.9137e-01, 7.0054e-01, 4.6415e-01, 8.1074e-01, 5.0788e-01, 7.9155e-01,\n",
      "        1.2385e-01, 5.0999e-01, 5.4267e-01, 6.1004e-01, 2.0124e-01, 5.2237e-01,\n",
      "        5.8138e-01, 4.5577e-01, 2.5463e-01, 4.7922e-01, 7.1088e-01, 5.9687e-01,\n",
      "        5.2033e-01, 5.7833e-01, 3.3317e-01, 4.2146e-01, 2.5966e-01, 5.2953e-01,\n",
      "        5.4766e-01, 8.9685e-01, 7.9674e-02, 4.3199e-01, 5.9721e-01, 1.7489e-01,\n",
      "        8.8146e-01, 8.5659e-01, 7.3245e-01, 9.6147e-01, 4.0011e-01, 6.9834e-01,\n",
      "        9.7788e-01, 8.7154e-01, 7.1666e-01, 6.1068e-01, 8.1203e-01, 1.5188e-01,\n",
      "        4.5768e-01, 3.2415e-01, 4.8688e-01, 1.8703e-01, 7.7748e-01, 4.9305e-01,\n",
      "        5.2314e-01, 3.2488e-02, 8.1249e-01, 7.5274e-02, 3.2389e-01, 1.3704e-01,\n",
      "        5.3657e-01, 6.7871e-01, 4.1412e-01, 3.4745e-01, 4.2476e-01, 6.1407e-01,\n",
      "        3.5646e-02, 8.6291e-01, 4.4417e-01, 8.3188e-01, 9.8189e-01, 1.1415e-01,\n",
      "        5.5212e-02, 7.4536e-01, 4.5657e-01, 6.6741e-02, 2.8273e-01, 5.0644e-01,\n",
      "        6.0043e-01, 4.7508e-01, 9.3630e-01, 1.1783e-01, 1.9991e-01, 3.4942e-01,\n",
      "        7.5175e-01, 8.2179e-01, 7.1397e-01, 4.7233e-01, 3.0832e-01, 6.9847e-01,\n",
      "        9.5036e-01, 2.6318e-01, 4.4577e-02, 2.4965e-01, 2.6866e-01, 4.8477e-01,\n",
      "        9.6258e-01, 3.5757e-01, 5.4822e-01, 1.1190e-01, 7.4207e-01, 2.9017e-01,\n",
      "        3.1576e-01, 6.5813e-01, 8.5078e-01, 6.1868e-01, 2.8108e-01, 9.1700e-01,\n",
      "        4.1390e-01, 7.6469e-01, 9.6598e-02, 8.5856e-01, 4.8002e-02, 8.9073e-01,\n",
      "        3.4905e-02, 9.2526e-01, 2.0639e-01, 4.7765e-01, 8.3679e-01, 8.5653e-01,\n",
      "        3.4048e-01, 9.9342e-01, 2.4893e-01, 9.2909e-01, 9.7452e-01, 3.9914e-01,\n",
      "        5.3421e-01, 1.8291e-01, 9.0006e-01, 9.7689e-01, 7.0536e-01, 4.1167e-01,\n",
      "        9.2860e-01, 7.1671e-01, 2.1208e-01, 1.6636e-01, 5.7249e-01, 6.7118e-01,\n",
      "        3.1837e-02, 9.4195e-01, 3.1919e-02, 7.6141e-02, 6.3637e-01, 5.6404e-01,\n",
      "        6.5056e-01, 3.0815e-01, 8.0457e-01, 8.4628e-01, 3.9281e-01, 2.1656e-01,\n",
      "        6.2775e-01, 9.8808e-01, 4.3777e-01, 6.5093e-02, 7.7767e-01, 3.0535e-02,\n",
      "        8.2129e-01, 4.2293e-01, 4.3373e-01, 9.9063e-01, 1.6437e-01, 2.1087e-01,\n",
      "        6.1803e-01, 3.4186e-01, 6.2637e-01, 6.1359e-01, 8.9817e-02, 8.4688e-01,\n",
      "        3.3122e-01, 4.0467e-01, 4.8976e-02, 8.7669e-01, 9.9027e-01, 6.0638e-02,\n",
      "        3.6490e-01, 3.2683e-01, 9.6943e-01, 1.4340e-01, 8.0168e-03, 4.8680e-01,\n",
      "        2.5168e-01, 2.4761e-01, 7.7885e-01, 6.2301e-01, 7.5860e-01, 4.5225e-01,\n",
      "        4.9588e-01, 8.2446e-01, 2.3749e-01, 7.4752e-01, 9.4331e-01, 8.5282e-01,\n",
      "        5.0514e-01, 8.7576e-01, 9.3021e-02, 8.9098e-01, 6.7541e-01, 3.5832e-01,\n",
      "        2.4607e-02, 9.0728e-01, 5.1635e-01, 8.1469e-01, 3.8515e-01, 4.9565e-01,\n",
      "        9.4413e-01, 8.4827e-01, 6.7222e-01, 4.2353e-01, 8.5126e-01, 2.3617e-01,\n",
      "        8.8495e-01, 9.8258e-04, 1.2946e-01, 1.7548e-01, 3.6698e-01, 7.0090e-01,\n",
      "        6.2525e-01, 6.5412e-01, 8.4197e-01, 1.7795e-01, 3.5095e-01, 8.6100e-01,\n",
      "        1.1469e-02, 3.6628e-02, 6.9282e-01, 9.6738e-01, 9.7054e-01, 8.4281e-01,\n",
      "        3.8999e-01, 1.4535e-01, 7.6693e-01, 7.9619e-01, 9.6216e-01, 6.6910e-01,\n",
      "        4.5190e-01, 7.8487e-01, 2.6831e-02, 1.4671e-01, 6.2502e-01, 3.3939e-01,\n",
      "        7.3164e-01, 1.9128e-01, 7.4868e-01, 8.9619e-01, 8.7196e-02, 3.2588e-01,\n",
      "        9.6465e-01, 7.1150e-01, 7.1657e-02, 6.9691e-01, 3.1385e-01, 8.8141e-01,\n",
      "        7.7978e-01, 8.8943e-01, 4.6920e-01, 2.8024e-01, 9.3583e-02, 2.2908e-01,\n",
      "        2.2349e-01, 7.2240e-01, 6.7642e-02, 4.6598e-01, 9.4662e-01, 6.6597e-01,\n",
      "        2.4064e-01, 4.0875e-02, 3.1588e-01, 5.5118e-01, 8.4220e-01, 1.7711e-01,\n",
      "        5.8302e-02, 2.5037e-01, 9.4548e-01, 4.1351e-01, 1.0427e-01, 3.5855e-01,\n",
      "        4.4715e-02, 6.9636e-01, 7.3669e-01, 6.8956e-01, 9.9936e-01, 3.0018e-01,\n",
      "        3.4375e-01, 6.0910e-01, 1.2548e-01, 5.6383e-01, 1.8725e-01, 8.2954e-01,\n",
      "        3.4943e-01, 5.9609e-01, 1.8137e-01, 9.4184e-01, 4.8676e-02, 5.7058e-01,\n",
      "        9.2103e-01, 7.5387e-02, 9.0882e-01, 9.7514e-01, 9.3238e-01, 2.2761e-01,\n",
      "        9.4520e-01, 1.8802e-01, 2.4319e-01, 8.3330e-01, 2.9684e-01, 7.1854e-01,\n",
      "        1.6423e-01, 1.7688e-01, 1.4656e-02, 5.3391e-01, 9.7827e-01, 7.4859e-01,\n",
      "        1.3872e-03, 7.6408e-03, 8.0522e-01, 4.1219e-03, 9.5537e-01, 6.3019e-01,\n",
      "        2.5469e-01, 8.4519e-01, 5.6779e-01, 8.3791e-01, 5.6715e-01, 8.9275e-01,\n",
      "        7.7846e-01, 1.8003e-01, 2.2812e-02, 4.7680e-01, 7.6483e-01, 6.8557e-01,\n",
      "        8.0729e-01, 3.4794e-01, 9.3756e-01, 1.9398e-01, 6.7049e-01, 6.7173e-01,\n",
      "        8.2067e-01, 8.6889e-01, 9.6375e-01, 3.6356e-01, 6.2980e-01, 2.4140e-01,\n",
      "        7.9220e-01, 7.4858e-01, 5.2969e-01, 3.8982e-01, 8.7856e-01, 4.3066e-01,\n",
      "        3.0628e-01, 8.4703e-01, 9.8521e-03, 5.6708e-01, 4.9296e-01, 9.1510e-01,\n",
      "        3.6276e-01, 6.0999e-01, 9.6503e-01, 3.5954e-01, 8.3204e-01, 8.4455e-01,\n",
      "        4.0488e-01, 5.1003e-01, 9.6777e-01, 2.0617e-01, 1.7594e-01, 7.4164e-01,\n",
      "        5.5621e-02, 6.0910e-01, 7.3920e-01, 9.1821e-01, 1.2525e-01, 7.2645e-01,\n",
      "        1.1076e-01, 2.1565e-01, 4.7549e-01, 6.5377e-01, 9.9208e-01, 9.1064e-02,\n",
      "        5.1362e-01, 8.0227e-01, 2.5370e-01, 5.2605e-01, 8.6035e-01, 2.4671e-01,\n",
      "        2.9094e-01, 6.1644e-01, 6.3439e-01, 5.4604e-01, 1.3318e-01, 2.2492e-01,\n",
      "        6.8376e-01, 6.3726e-01, 9.0155e-01, 7.6650e-01, 3.5686e-01, 1.7978e-01,\n",
      "        1.8876e-01, 7.2399e-01, 8.3294e-01, 6.2048e-03, 9.4858e-02, 3.2340e-01,\n",
      "        7.9594e-01, 6.3717e-01, 9.2130e-01, 4.4648e-01, 5.7075e-01, 3.0504e-01,\n",
      "        7.5470e-01, 3.3574e-01, 2.8035e-01, 9.6101e-01, 1.2844e-01, 4.3500e-01,\n",
      "        8.9338e-01, 6.6835e-01, 6.8593e-01, 6.4677e-01, 3.8409e-01, 2.8684e-01,\n",
      "        3.3108e-01, 3.2777e-01, 7.7176e-01, 2.1332e-02, 6.9534e-01, 8.6480e-01,\n",
      "        1.4493e-01, 2.7310e-01, 3.6028e-02, 8.5627e-01, 5.3678e-01, 1.3612e-01,\n",
      "        8.2900e-01, 3.7649e-01, 3.4342e-01, 3.9359e-01, 9.8610e-01, 4.2728e-01,\n",
      "        5.4518e-01, 9.5804e-01, 9.5001e-01, 6.3785e-01, 1.5734e-01, 8.6886e-01,\n",
      "        1.2812e-02, 4.2644e-01, 2.7045e-01, 2.4314e-01, 7.6661e-01, 6.5959e-01,\n",
      "        3.0841e-01, 6.0974e-01, 2.1826e-01, 9.2482e-01, 1.1120e-01, 3.9058e-01,\n",
      "        8.8337e-01, 8.4596e-01, 1.1091e-01, 3.5021e-01, 8.7542e-01, 1.7536e-01,\n",
      "        3.3011e-01, 7.1606e-01, 4.4740e-01, 9.6748e-01, 4.3494e-01, 7.7194e-01,\n",
      "        1.1951e-02, 8.0571e-01, 3.3535e-01, 7.5124e-01, 5.4751e-01, 7.8665e-01,\n",
      "        1.3403e-01, 6.3175e-01, 1.5766e-01, 6.3937e-01, 6.1649e-01, 8.0631e-01,\n",
      "        5.9238e-01, 7.8330e-01, 3.8920e-01, 4.5422e-02, 6.7824e-01, 1.9644e-01,\n",
      "        1.5723e-01, 3.9716e-01, 1.4944e-01, 2.2219e-01, 5.0856e-01, 1.3813e-01,\n",
      "        6.9669e-01, 1.9346e-01, 6.0854e-01, 7.9002e-01, 4.0327e-01, 1.2450e-01,\n",
      "        7.1894e-01, 9.9362e-01, 8.1027e-01, 9.7871e-02, 4.4304e-01, 8.1409e-01,\n",
      "        3.6777e-01, 1.8740e-01, 2.2394e-01, 2.1085e-01, 3.3599e-01, 3.7655e-02,\n",
      "        2.7539e-01, 8.3169e-02, 9.6773e-01, 3.3955e-01, 6.2068e-01, 3.7718e-01,\n",
      "        7.2871e-01, 6.1464e-01, 1.0347e-01, 1.1649e-01, 8.9735e-01, 5.7151e-01,\n",
      "        7.5050e-01, 6.6166e-01, 3.2416e-01, 3.4713e-01, 1.0437e-01, 5.9002e-01,\n",
      "        9.4415e-01, 1.8398e-01, 1.4302e-01, 9.1582e-01, 4.0829e-02, 1.5436e-01,\n",
      "        3.2209e-02, 2.9170e-01, 3.2367e-01, 4.4090e-01, 2.1090e-01, 5.8665e-02,\n",
      "        8.5361e-01, 8.1457e-01, 2.6953e-02, 9.6215e-01, 7.3004e-01, 3.9149e-01,\n",
      "        4.7334e-01, 3.3680e-01, 9.2189e-01, 1.3633e-01, 6.8668e-01, 6.8066e-01,\n",
      "        7.3314e-02, 5.6081e-01, 8.0238e-01, 9.9032e-01, 6.1043e-01, 2.7487e-01,\n",
      "        5.5150e-01, 9.1610e-01, 7.8967e-01, 8.7513e-01, 8.6280e-01, 3.3049e-01,\n",
      "        9.3858e-01, 7.8820e-01, 8.0868e-01, 5.1733e-01, 7.6537e-01, 5.4556e-01,\n",
      "        7.0233e-01, 3.1109e-01, 2.8863e-01, 6.7688e-01, 8.7127e-01, 1.8493e-02,\n",
      "        9.5119e-01, 2.6300e-01, 1.5519e-01, 7.5433e-01, 2.2040e-01, 1.7472e-01,\n",
      "        2.2431e-01, 4.4782e-01, 5.4787e-01, 3.9734e-01, 3.1588e-01, 6.4667e-01,\n",
      "        8.5159e-01, 9.0210e-01, 9.3310e-01, 1.6362e-02, 1.3362e-01, 7.9458e-01,\n",
      "        6.1294e-01, 4.3854e-02, 7.2252e-01, 7.8719e-01, 8.2098e-01, 4.9136e-01,\n",
      "        8.2179e-01, 7.3364e-01, 8.2369e-01, 1.0095e-01, 8.0709e-01, 9.9460e-01,\n",
      "        8.4709e-01, 8.3634e-01, 7.4160e-01, 1.0374e-01, 5.1405e-01, 3.6880e-01,\n",
      "        4.9619e-01, 4.3941e-01, 3.7464e-01, 1.6271e-01, 1.0564e-01, 4.4776e-01,\n",
      "        9.6794e-01, 9.7796e-01, 9.6451e-01, 8.9738e-01, 4.7989e-01, 4.4829e-01,\n",
      "        6.1907e-01, 3.9353e-01, 6.1846e-01, 8.1734e-01, 6.4449e-02, 2.1815e-02,\n",
      "        8.1967e-02, 3.6898e-01, 3.4209e-01, 1.8277e-01, 6.4197e-01, 4.7833e-01,\n",
      "        6.0174e-01, 2.5915e-01, 4.2790e-01, 8.2908e-01, 1.8158e-01, 3.2702e-01,\n",
      "        5.8623e-01, 1.6203e-01, 3.9402e-01, 2.4009e-01, 1.7988e-01, 8.7979e-01,\n",
      "        3.7692e-01, 1.8025e-01, 9.7511e-01, 8.9156e-01, 4.3047e-01, 5.6019e-01,\n",
      "        6.3836e-01, 1.0176e-01, 3.2705e-01, 8.4851e-01, 2.2945e-02, 7.9163e-01,\n",
      "        3.9410e-01, 2.9356e-01, 9.2773e-01, 3.4344e-01, 5.6170e-01, 6.2095e-01,\n",
      "        4.6531e-01, 5.4154e-01, 2.9354e-01, 5.7557e-01, 7.3345e-01, 8.4801e-01,\n",
      "        6.6042e-01, 1.1105e-01, 6.2298e-01, 9.0853e-01, 8.0682e-01, 9.1545e-01,\n",
      "        9.5091e-01, 9.8003e-01, 5.7255e-01, 4.1400e-01, 2.2725e-01, 3.1311e-01,\n",
      "        3.7470e-01, 3.7470e-01, 8.3635e-01, 5.0821e-01, 7.9383e-01, 7.4160e-02,\n",
      "        9.3915e-02, 6.7177e-01, 1.5766e-01, 2.5768e-01, 1.0446e-01, 8.9483e-01,\n",
      "        9.4955e-01, 4.5055e-01, 7.5685e-01, 3.6177e-01, 5.8820e-01, 8.9021e-01,\n",
      "        4.4613e-01, 6.8571e-01, 5.0015e-02, 3.6788e-01, 3.6550e-01, 5.5397e-01,\n",
      "        5.4951e-01, 9.4652e-02, 3.0522e-01, 5.5107e-01, 5.3579e-01, 1.4337e-02,\n",
      "        7.6018e-01, 5.8211e-01, 6.5604e-01, 9.5080e-01, 5.2702e-01, 8.6143e-01,\n",
      "        5.3085e-01, 8.2347e-01, 9.9348e-01, 4.7009e-01, 7.2749e-02, 6.4400e-01,\n",
      "        4.8641e-01, 5.9607e-01, 6.6545e-01, 7.6356e-02, 9.4494e-01, 5.1398e-01,\n",
      "        3.5799e-01, 9.5896e-01, 2.5254e-01, 4.9613e-01, 5.6838e-01, 6.5111e-01,\n",
      "        3.2879e-01, 9.6619e-01, 1.6681e-01, 5.7751e-01, 4.7218e-01, 1.8292e-01,\n",
      "        5.9443e-01, 6.6556e-01, 4.1802e-01, 2.5671e-01, 8.4832e-01, 8.8103e-02,\n",
      "        9.1917e-01, 9.6327e-01, 8.0203e-01, 4.6686e-01, 2.1096e-01, 4.2228e-01,\n",
      "        1.4300e-01, 3.1965e-01, 2.9168e-01, 3.9402e-01, 8.2686e-01, 6.0684e-01,\n",
      "        1.3106e-01, 9.8945e-01, 3.6614e-01, 6.0002e-01, 9.2258e-01, 1.4846e-01,\n",
      "        2.7870e-01, 7.8570e-01, 8.0581e-01, 6.5650e-01, 9.9723e-02, 3.1568e-02,\n",
      "        9.0173e-01, 8.8587e-01, 3.7197e-01, 1.5360e-01, 8.6578e-01, 5.5103e-01,\n",
      "        4.4587e-01, 2.1122e-01, 9.7763e-01, 9.4506e-01, 4.5306e-01, 2.5926e-01,\n",
      "        8.3980e-01, 2.6353e-01, 9.7177e-01, 8.3644e-01, 7.1659e-01, 7.7660e-01,\n",
      "        8.0567e-01, 1.2895e-01, 8.4253e-01, 1.5092e-01, 1.5193e-01, 8.3567e-02,\n",
      "        8.7178e-02, 6.6541e-01, 8.5055e-01, 9.7257e-01, 3.7137e-01, 9.3462e-01,\n",
      "        9.2963e-01, 1.0266e-01, 8.8197e-01, 2.0225e-02])\n",
      "tensor([1.7746e-01, 1.2118e-01, 7.2264e-01, 4.5562e-01, 8.0148e-01, 0.0000e+00,\n",
      "        2.8523e-01, 1.0000e+00, 0.0000e+00, 0.0000e+00, 1.0000e+00, 5.5786e-01,\n",
      "        0.0000e+00, 0.0000e+00, 3.1462e-01, 5.5721e-01, 1.0000e+00, 3.7030e-01,\n",
      "        0.0000e+00, 5.6785e-01, 6.1327e-01, 5.7581e-01, 1.0000e+00, 1.0000e+00,\n",
      "        1.0000e+00, 1.0000e+00, 5.0095e-01, 0.0000e+00, 1.0000e+00, 3.3427e-01,\n",
      "        0.0000e+00, 0.0000e+00, 1.0000e+00, 7.2808e-01, 0.0000e+00, 0.0000e+00,\n",
      "        1.0000e+00, 5.4066e-01, 1.7274e-01, 7.6383e-01, 0.0000e+00, 0.0000e+00,\n",
      "        3.1939e-01, 1.0000e+00, 1.0000e+00, 1.0000e+00, 1.0000e+00, 5.2137e-01,\n",
      "        0.0000e+00, 1.1221e-01, 2.9366e-02, 8.9738e-01, 5.5748e-01, 1.0000e+00,\n",
      "        1.0000e+00, 4.1174e-01, 0.0000e+00, 0.0000e+00, 1.0000e+00, 0.0000e+00,\n",
      "        1.0000e+00, 8.9600e-01, 8.2178e-01, 0.0000e+00, 2.6256e-01, 7.8869e-01,\n",
      "        6.1126e-03, 0.0000e+00, 1.0000e+00, 0.0000e+00, 1.0000e+00, 1.0000e+00,\n",
      "        0.0000e+00, 3.8355e-01, 6.7198e-01, 5.5419e-01, 1.0000e+00, 4.9503e-01,\n",
      "        1.0000e+00, 8.0268e-01, 0.0000e+00, 2.9075e-01, 1.0000e+00, 1.0000e+00,\n",
      "        0.0000e+00, 1.0000e+00, 1.0000e+00, 1.0275e-01, 0.0000e+00, 8.0616e-02,\n",
      "        0.0000e+00, 0.0000e+00, 9.1575e-01, 0.0000e+00, 0.0000e+00, 1.0000e+00,\n",
      "        8.8259e-01, 1.0000e+00, 1.0000e+00, 3.9024e-01, 2.8881e-01, 1.0000e+00,\n",
      "        1.0000e+00, 1.0000e+00, 9.6698e-01, 3.4517e-01, 4.4787e-01, 1.0000e+00,\n",
      "        9.7760e-01, 9.9094e-01, 8.7925e-01, 1.0000e+00, 4.3592e-01, 9.6356e-01,\n",
      "        1.0000e+00, 8.8001e-01, 7.1746e-01, 0.0000e+00, 1.0000e+00, 4.7478e-01,\n",
      "        0.0000e+00, 3.7005e-01, 6.3479e-01, 1.0000e+00, 1.0000e+00, 6.4165e-01,\n",
      "        0.0000e+00, 1.9583e-01, 0.0000e+00, 2.2165e-01, 0.0000e+00, 6.3461e-01,\n",
      "        1.0000e+00, 1.5873e-01, 1.0000e+00, 7.5955e-01, 0.0000e+00, 5.5826e-01,\n",
      "        3.4752e-01, 1.2628e-01, 0.0000e+00, 1.0000e+00, 1.0000e+00, 1.0000e+00,\n",
      "        7.7300e-01, 4.1511e-01, 1.0000e+00, 2.4602e-01, 1.0000e+00, 0.0000e+00,\n",
      "        1.0000e+00, 3.0233e-01, 1.8625e-01, 0.0000e+00, 1.0000e+00, 3.2937e-01,\n",
      "        5.8030e-01, 1.0000e+00, 8.7648e-01, 0.0000e+00, 1.0000e+00, 1.0000e+00,\n",
      "        1.0000e+00, 0.0000e+00, 1.9159e-01, 1.0000e+00, 4.0737e-01, 6.4092e-01,\n",
      "        6.1736e-01, 7.9100e-01, 1.0000e+00, 0.0000e+00, 5.3019e-01, 0.0000e+00,\n",
      "        0.0000e+00, 0.0000e+00, 9.1763e-01, 0.0000e+00, 0.0000e+00, 1.0000e+00,\n",
      "        9.4424e-01, 4.5097e-01, 3.0536e-01, 4.0074e-01, 1.0000e+00, 0.0000e+00,\n",
      "        1.0000e+00, 2.2216e-01, 3.7000e-01, 0.0000e+00, 0.0000e+00, 1.0000e+00,\n",
      "        0.0000e+00, 6.9333e-01, 6.2656e-01, 0.0000e+00, 0.0000e+00, 4.9667e-01,\n",
      "        1.0000e+00, 7.0054e-01, 4.6415e-01, 1.0000e+00, 0.0000e+00, 7.9155e-01,\n",
      "        1.2385e-01, 0.0000e+00, 0.0000e+00, 6.1004e-01, 0.0000e+00, 5.2237e-01,\n",
      "        5.8138e-01, 4.5577e-01, 2.5463e-01, 4.7922e-01, 7.1088e-01, 5.9687e-01,\n",
      "        0.0000e+00, 5.7833e-01, 3.3317e-01, 0.0000e+00, 1.0000e+00, 1.0000e+00,\n",
      "        1.0000e+00, 0.0000e+00, 1.0000e+00, 0.0000e+00, 0.0000e+00, 0.0000e+00,\n",
      "        8.8146e-01, 8.5659e-01, 7.3245e-01, 9.6147e-01, 4.0011e-01, 6.9834e-01,\n",
      "        9.7788e-01, 8.7154e-01, 7.1666e-01, 0.0000e+00, 8.1203e-01, 0.0000e+00,\n",
      "        0.0000e+00, 1.0000e+00, 4.8688e-01, 1.8703e-01, 1.0000e+00, 1.0000e+00,\n",
      "        5.2314e-01, 3.2488e-02, 1.0000e+00, 1.0000e+00, 1.0000e+00, 1.0000e+00,\n",
      "        5.3657e-01, 6.7871e-01, 0.0000e+00, 3.4745e-01, 1.0000e+00, 6.1407e-01,\n",
      "        1.0000e+00, 8.6291e-01, 0.0000e+00, 8.3188e-01, 9.8189e-01, 1.1415e-01,\n",
      "        0.0000e+00, 1.0000e+00, 4.5657e-01, 6.6741e-02, 1.0000e+00, 5.0644e-01,\n",
      "        0.0000e+00, 4.7508e-01, 9.3630e-01, 1.1783e-01, 1.0000e+00, 3.4942e-01,\n",
      "        1.0000e+00, 8.2179e-01, 7.1397e-01, 1.0000e+00, 1.0000e+00, 0.0000e+00,\n",
      "        9.5036e-01, 0.0000e+00, 0.0000e+00, 1.0000e+00, 0.0000e+00, 0.0000e+00,\n",
      "        9.6258e-01, 3.5757e-01, 5.4822e-01, 1.1190e-01, 0.0000e+00, 0.0000e+00,\n",
      "        0.0000e+00, 6.5813e-01, 8.5078e-01, 6.1868e-01, 2.8108e-01, 0.0000e+00,\n",
      "        4.1390e-01, 0.0000e+00, 0.0000e+00, 1.0000e+00, 1.0000e+00, 1.0000e+00,\n",
      "        3.4905e-02, 0.0000e+00, 2.0639e-01, 4.7765e-01, 0.0000e+00, 0.0000e+00,\n",
      "        3.4048e-01, 9.9342e-01, 0.0000e+00, 1.0000e+00, 1.0000e+00, 3.9914e-01,\n",
      "        5.3421e-01, 0.0000e+00, 9.0006e-01, 0.0000e+00, 0.0000e+00, 4.1167e-01,\n",
      "        1.0000e+00, 1.0000e+00, 0.0000e+00, 1.6636e-01, 5.7249e-01, 1.0000e+00,\n",
      "        0.0000e+00, 9.4195e-01, 3.1919e-02, 0.0000e+00, 1.0000e+00, 5.6404e-01,\n",
      "        1.0000e+00, 0.0000e+00, 1.0000e+00, 8.4628e-01, 1.0000e+00, 1.0000e+00,\n",
      "        6.2775e-01, 1.0000e+00, 1.0000e+00, 1.0000e+00, 7.7767e-01, 0.0000e+00,\n",
      "        8.2129e-01, 0.0000e+00, 4.3373e-01, 0.0000e+00, 0.0000e+00, 0.0000e+00,\n",
      "        0.0000e+00, 1.0000e+00, 6.2637e-01, 0.0000e+00, 1.0000e+00, 0.0000e+00,\n",
      "        3.3122e-01, 4.0467e-01, 1.0000e+00, 1.0000e+00, 1.0000e+00, 0.0000e+00,\n",
      "        1.0000e+00, 3.2683e-01, 9.6943e-01, 1.4340e-01, 8.0168e-03, 1.0000e+00,\n",
      "        0.0000e+00, 1.0000e+00, 7.7885e-01, 0.0000e+00, 0.0000e+00, 0.0000e+00,\n",
      "        4.9588e-01, 0.0000e+00, 0.0000e+00, 7.4752e-01, 1.0000e+00, 8.5282e-01,\n",
      "        1.0000e+00, 8.7576e-01, 9.3021e-02, 8.9098e-01, 0.0000e+00, 1.0000e+00,\n",
      "        2.4607e-02, 9.0728e-01, 5.1635e-01, 8.1469e-01, 0.0000e+00, 1.0000e+00,\n",
      "        9.4413e-01, 8.4827e-01, 1.0000e+00, 4.2353e-01, 8.5126e-01, 1.0000e+00,\n",
      "        1.0000e+00, 9.8258e-04, 1.2946e-01, 1.0000e+00, 3.6698e-01, 0.0000e+00,\n",
      "        0.0000e+00, 6.5412e-01, 8.4197e-01, 1.7795e-01, 3.5095e-01, 1.0000e+00,\n",
      "        1.1469e-02, 1.0000e+00, 6.9282e-01, 1.0000e+00, 1.0000e+00, 8.4281e-01,\n",
      "        1.0000e+00, 1.4535e-01, 7.6693e-01, 7.9619e-01, 0.0000e+00, 6.6910e-01,\n",
      "        4.5190e-01, 1.0000e+00, 1.0000e+00, 1.4671e-01, 0.0000e+00, 1.0000e+00,\n",
      "        0.0000e+00, 1.9128e-01, 0.0000e+00, 8.9619e-01, 8.7196e-02, 1.0000e+00,\n",
      "        9.6465e-01, 0.0000e+00, 7.1657e-02, 1.0000e+00, 1.0000e+00, 1.0000e+00,\n",
      "        0.0000e+00, 0.0000e+00, 1.0000e+00, 0.0000e+00, 0.0000e+00, 0.0000e+00,\n",
      "        1.0000e+00, 7.2240e-01, 6.7642e-02, 1.0000e+00, 1.0000e+00, 6.6597e-01,\n",
      "        0.0000e+00, 0.0000e+00, 3.1588e-01, 0.0000e+00, 0.0000e+00, 1.0000e+00,\n",
      "        0.0000e+00, 0.0000e+00, 1.0000e+00, 4.1351e-01, 1.0427e-01, 3.5855e-01,\n",
      "        4.4715e-02, 6.9636e-01, 0.0000e+00, 6.8956e-01, 1.0000e+00, 0.0000e+00,\n",
      "        1.0000e+00, 0.0000e+00, 0.0000e+00, 1.0000e+00, 1.8725e-01, 1.0000e+00,\n",
      "        1.0000e+00, 5.9609e-01, 0.0000e+00, 9.4184e-01, 1.0000e+00, 5.7058e-01,\n",
      "        9.2103e-01, 7.5387e-02, 1.0000e+00, 1.0000e+00, 9.3238e-01, 0.0000e+00,\n",
      "        0.0000e+00, 1.8802e-01, 1.0000e+00, 1.0000e+00, 2.9684e-01, 0.0000e+00,\n",
      "        1.0000e+00, 1.0000e+00, 1.4656e-02, 1.0000e+00, 9.7827e-01, 7.4859e-01,\n",
      "        0.0000e+00, 7.6408e-03, 8.0522e-01, 4.1219e-03, 9.5537e-01, 0.0000e+00,\n",
      "        2.5469e-01, 8.4519e-01, 0.0000e+00, 0.0000e+00, 0.0000e+00, 8.9275e-01,\n",
      "        0.0000e+00, 0.0000e+00, 2.2812e-02, 4.7680e-01, 1.0000e+00, 6.8557e-01,\n",
      "        8.0729e-01, 3.4794e-01, 9.3756e-01, 1.0000e+00, 6.7049e-01, 0.0000e+00,\n",
      "        0.0000e+00, 8.6889e-01, 1.0000e+00, 3.6356e-01, 0.0000e+00, 2.4140e-01,\n",
      "        7.9220e-01, 7.4858e-01, 5.2969e-01, 3.8982e-01, 8.7856e-01, 0.0000e+00,\n",
      "        3.0628e-01, 1.0000e+00, 1.0000e+00, 5.6708e-01, 4.9296e-01, 0.0000e+00,\n",
      "        3.6276e-01, 0.0000e+00, 9.6503e-01, 3.5954e-01, 8.3204e-01, 8.4455e-01,\n",
      "        4.0488e-01, 1.0000e+00, 9.6777e-01, 2.0617e-01, 1.7594e-01, 1.0000e+00,\n",
      "        5.5621e-02, 6.0910e-01, 7.3920e-01, 0.0000e+00, 0.0000e+00, 7.2645e-01,\n",
      "        1.1076e-01, 0.0000e+00, 1.0000e+00, 6.5377e-01, 1.0000e+00, 1.0000e+00,\n",
      "        5.1362e-01, 8.0227e-01, 1.0000e+00, 5.2605e-01, 8.6035e-01, 0.0000e+00,\n",
      "        1.0000e+00, 6.1644e-01, 6.3439e-01, 5.4604e-01, 1.3318e-01, 1.0000e+00,\n",
      "        6.8376e-01, 0.0000e+00, 0.0000e+00, 1.0000e+00, 3.5686e-01, 1.7978e-01,\n",
      "        1.0000e+00, 7.2399e-01, 1.0000e+00, 1.0000e+00, 0.0000e+00, 3.2340e-01,\n",
      "        7.9594e-01, 6.3717e-01, 9.2130e-01, 4.4648e-01, 1.0000e+00, 3.0504e-01,\n",
      "        7.5470e-01, 3.3574e-01, 0.0000e+00, 1.0000e+00, 0.0000e+00, 4.3500e-01,\n",
      "        0.0000e+00, 0.0000e+00, 1.0000e+00, 6.4677e-01, 0.0000e+00, 2.8684e-01,\n",
      "        3.3108e-01, 0.0000e+00, 7.7176e-01, 0.0000e+00, 0.0000e+00, 0.0000e+00,\n",
      "        1.0000e+00, 2.7310e-01, 3.6028e-02, 8.5627e-01, 1.0000e+00, 1.0000e+00,\n",
      "        8.2900e-01, 0.0000e+00, 1.0000e+00, 3.9359e-01, 9.8610e-01, 1.0000e+00,\n",
      "        0.0000e+00, 9.5804e-01, 9.5001e-01, 0.0000e+00, 0.0000e+00, 0.0000e+00,\n",
      "        1.0000e+00, 4.2644e-01, 1.0000e+00, 2.4314e-01, 7.6661e-01, 1.0000e+00,\n",
      "        0.0000e+00, 0.0000e+00, 0.0000e+00, 1.0000e+00, 0.0000e+00, 3.9058e-01,\n",
      "        8.8337e-01, 1.0000e+00, 0.0000e+00, 3.5021e-01, 8.7542e-01, 1.7536e-01,\n",
      "        3.3011e-01, 7.1606e-01, 1.0000e+00, 9.6748e-01, 0.0000e+00, 7.7194e-01,\n",
      "        0.0000e+00, 8.0571e-01, 3.3535e-01, 1.0000e+00, 5.4751e-01, 1.0000e+00,\n",
      "        1.3403e-01, 0.0000e+00, 1.5766e-01, 6.3937e-01, 6.1649e-01, 0.0000e+00,\n",
      "        5.9238e-01, 7.8330e-01, 0.0000e+00, 4.5422e-02, 0.0000e+00, 1.9644e-01,\n",
      "        1.0000e+00, 0.0000e+00, 0.0000e+00, 2.2219e-01, 1.0000e+00, 1.3813e-01,\n",
      "        6.9669e-01, 1.0000e+00, 6.0854e-01, 7.9002e-01, 0.0000e+00, 1.2450e-01,\n",
      "        0.0000e+00, 9.9362e-01, 8.1027e-01, 9.7871e-02, 4.4304e-01, 1.0000e+00,\n",
      "        1.0000e+00, 1.0000e+00, 0.0000e+00, 2.1085e-01, 1.0000e+00, 1.0000e+00,\n",
      "        0.0000e+00, 0.0000e+00, 9.6773e-01, 3.3955e-01, 6.2068e-01, 0.0000e+00,\n",
      "        7.2871e-01, 0.0000e+00, 1.0347e-01, 1.1649e-01, 8.9735e-01, 1.0000e+00,\n",
      "        1.0000e+00, 6.6166e-01, 3.2416e-01, 0.0000e+00, 1.0437e-01, 5.9002e-01,\n",
      "        1.0000e+00, 1.0000e+00, 1.4302e-01, 1.0000e+00, 4.0829e-02, 1.0000e+00,\n",
      "        1.0000e+00, 2.9170e-01, 3.2367e-01, 0.0000e+00, 2.1090e-01, 5.8665e-02,\n",
      "        8.5361e-01, 8.1457e-01, 2.6953e-02, 1.0000e+00, 7.3004e-01, 3.9149e-01,\n",
      "        4.7334e-01, 3.3680e-01, 9.2189e-01, 1.0000e+00, 0.0000e+00, 6.8066e-01,\n",
      "        7.3314e-02, 1.0000e+00, 8.0238e-01, 1.0000e+00, 0.0000e+00, 2.7487e-01,\n",
      "        5.5150e-01, 9.1610e-01, 0.0000e+00, 8.7513e-01, 0.0000e+00, 0.0000e+00,\n",
      "        9.3858e-01, 1.0000e+00, 1.0000e+00, 1.0000e+00, 7.6537e-01, 5.4556e-01,\n",
      "        7.0233e-01, 0.0000e+00, 2.8863e-01, 0.0000e+00, 1.0000e+00, 0.0000e+00,\n",
      "        1.0000e+00, 1.0000e+00, 0.0000e+00, 7.5433e-01, 0.0000e+00, 0.0000e+00,\n",
      "        2.2431e-01, 0.0000e+00, 5.4787e-01, 0.0000e+00, 3.1588e-01, 6.4667e-01,\n",
      "        8.5159e-01, 9.0210e-01, 0.0000e+00, 1.6362e-02, 1.0000e+00, 7.9458e-01,\n",
      "        0.0000e+00, 4.3854e-02, 1.0000e+00, 1.0000e+00, 8.2098e-01, 1.0000e+00,\n",
      "        1.0000e+00, 7.3364e-01, 1.0000e+00, 1.0000e+00, 8.0709e-01, 9.9460e-01,\n",
      "        1.0000e+00, 0.0000e+00, 1.0000e+00, 1.0000e+00, 5.1405e-01, 3.6880e-01,\n",
      "        4.9619e-01, 4.3941e-01, 3.7464e-01, 1.6271e-01, 1.0564e-01, 1.0000e+00,\n",
      "        0.0000e+00, 0.0000e+00, 1.0000e+00, 8.9738e-01, 1.0000e+00, 4.4829e-01,\n",
      "        1.0000e+00, 3.9353e-01, 0.0000e+00, 0.0000e+00, 6.4449e-02, 2.1815e-02,\n",
      "        0.0000e+00, 3.6898e-01, 3.4209e-01, 1.0000e+00, 6.4197e-01, 4.7833e-01,\n",
      "        6.0174e-01, 0.0000e+00, 4.2790e-01, 0.0000e+00, 1.8158e-01, 3.2702e-01,\n",
      "        5.8623e-01, 1.0000e+00, 0.0000e+00, 0.0000e+00, 0.0000e+00, 8.7979e-01,\n",
      "        1.0000e+00, 1.8025e-01, 9.7511e-01, 1.0000e+00, 1.0000e+00, 5.6019e-01,\n",
      "        6.3836e-01, 1.0176e-01, 3.2705e-01, 8.4851e-01, 1.0000e+00, 7.9163e-01,\n",
      "        1.0000e+00, 0.0000e+00, 9.2773e-01, 3.4344e-01, 0.0000e+00, 0.0000e+00,\n",
      "        1.0000e+00, 5.4154e-01, 0.0000e+00, 5.7557e-01, 0.0000e+00, 0.0000e+00,\n",
      "        6.6042e-01, 1.0000e+00, 6.2298e-01, 9.0853e-01, 8.0682e-01, 1.0000e+00,\n",
      "        9.5091e-01, 9.8003e-01, 0.0000e+00, 4.1400e-01, 0.0000e+00, 3.1311e-01,\n",
      "        0.0000e+00, 0.0000e+00, 8.3635e-01, 1.0000e+00, 7.9383e-01, 1.0000e+00,\n",
      "        9.3915e-02, 6.7177e-01, 1.0000e+00, 1.0000e+00, 1.0446e-01, 8.9483e-01,\n",
      "        9.4955e-01, 0.0000e+00, 7.5685e-01, 3.6177e-01, 5.8820e-01, 8.9021e-01,\n",
      "        4.4613e-01, 1.0000e+00, 5.0015e-02, 3.6788e-01, 3.6550e-01, 0.0000e+00,\n",
      "        0.0000e+00, 9.4652e-02, 3.0522e-01, 5.5107e-01, 5.3579e-01, 1.4337e-02,\n",
      "        0.0000e+00, 0.0000e+00, 6.5604e-01, 1.0000e+00, 1.0000e+00, 8.6143e-01,\n",
      "        1.0000e+00, 8.2347e-01, 1.0000e+00, 1.0000e+00, 1.0000e+00, 6.4400e-01,\n",
      "        4.8641e-01, 0.0000e+00, 0.0000e+00, 1.0000e+00, 9.4494e-01, 0.0000e+00,\n",
      "        3.5799e-01, 9.5896e-01, 2.5254e-01, 4.9613e-01, 5.6838e-01, 0.0000e+00,\n",
      "        3.2879e-01, 1.0000e+00, 0.0000e+00, 0.0000e+00, 1.0000e+00, 1.0000e+00,\n",
      "        5.9443e-01, 6.6556e-01, 0.0000e+00, 1.0000e+00, 8.4832e-01, 1.0000e+00,\n",
      "        9.1917e-01, 9.6327e-01, 1.0000e+00, 0.0000e+00, 2.1096e-01, 4.2228e-01,\n",
      "        1.0000e+00, 0.0000e+00, 2.9168e-01, 3.9402e-01, 0.0000e+00, 1.0000e+00,\n",
      "        1.3106e-01, 9.8945e-01, 0.0000e+00, 1.0000e+00, 9.2258e-01, 1.4846e-01,\n",
      "        0.0000e+00, 0.0000e+00, 8.0581e-01, 6.5650e-01, 9.9723e-02, 3.1568e-02,\n",
      "        9.0173e-01, 8.8587e-01, 1.0000e+00, 1.5360e-01, 1.0000e+00, 5.5103e-01,\n",
      "        4.4587e-01, 0.0000e+00, 9.7763e-01, 9.4506e-01, 4.5306e-01, 1.0000e+00,\n",
      "        8.3980e-01, 2.6353e-01, 9.7177e-01, 8.3644e-01, 0.0000e+00, 7.7660e-01,\n",
      "        8.0567e-01, 0.0000e+00, 1.0000e+00, 0.0000e+00, 1.5193e-01, 8.3567e-02,\n",
      "        8.7178e-02, 6.6541e-01, 1.0000e+00, 9.7257e-01, 0.0000e+00, 0.0000e+00,\n",
      "        9.2963e-01, 1.0266e-01, 0.0000e+00, 1.0000e+00])\n",
      "tensor([0.4340, 0.3062, 0.4621,  ..., 0.2457, 0.0581, 0.5597])\n",
      "tensor([1.0000, 0.3062, 0.0000,  ..., 0.2457, 0.0581, 1.0000])\n"
     ]
    },
    {
     "data": {
      "image/png": "[encoded data removed]",
      "text/plain": [
       "<Figure size 640x480 with 1 Axes>"
      ]
     },
     "metadata": {},
     "output_type": "display_data"
    }
   ],
   "source": [
    "import numpy as np\n",
    "import matplotlib.pyplot as plt\n",
    "# Type your code here\n",
    "sizes = torch.tensor([10, 100, 1000, 10000])\n",
    "print(sizes)\n",
    "privateResults = []\n",
    "trueResults = []\n",
    "for size in sizes:\n",
    "    db = torch.rand(size)\n",
    "    privateRes, trueRes = query(db)\n",
    "    privateResults.append(privateRes)\n",
    "    trueResults.append(trueRes)\n",
    "\n",
    "x = np.arange(len(sizes))\n",
    "width = 0.35\n",
    "\n",
    "fig, ax = plt.subplots()\n",
    "rects1 = ax.bar(x - width/2, privateResults, width, label='Private Result')\n",
    "rects2 = ax.bar(x + width/2, trueResults, width, label='True Result')\n",
    "\n",
    "ax.set_xlabel('Database Size')\n",
    "ax.set_ylabel('Result Value')\n",
    "ax.set_title('Private vs. True Results by Database Size')\n",
    "ax.set_xticks(x)\n",
    "ax.set_xticklabels(sizes.numpy())\n",
    "ax.legend()\n",
    "\n",
    "ax.bar_label(rects1, padding=3)\n",
    "ax.bar_label(rects2, padding=3)\n",
    "\n",
    "fig.tight_layout()\n",
    "\n",
    "plt.show()"
   ]
  },
  {
   "cell_type": "markdown",
   "metadata": {
    "colab_type": "text",
    "id": "XWBAzQfx7CI4"
   },
   "source": [
    "## Varying Amounts of Noise\n",
    "\n",
    "Let's augment the randomized response query (the one we just wrote) to allow for varying amounts of randomness to be added. Specifically, let's bias the coin flip to be higher or lower and then run the same experiment."
   ]
  },
  {
   "cell_type": "code",
   "execution_count": 379,
   "metadata": {
    "colab": {},
    "colab_type": "code",
    "id": "ySYXrNtf7RbN"
   },
   "outputs": [],
   "source": [
    "def query(db, noise=0.2):\n",
    "\n",
    "    true_result = torch.mean(db.float())\n",
    "\n",
    "    first_coin_flip = (torch.rand(len(db)) < noise).float()\n",
    "    second_coin_flip = (torch.rand(len(db)) < 0.5).float()\n",
    "\n",
    "    augmented_database = db.float() * first_coin_flip + \\\n",
    "        (1 - first_coin_flip) * second_coin_flip\n",
    "\n",
    "    sk_result = augmented_database.float().mean()\n",
    "\n",
    "    private_result = ((sk_result / noise) - 0.5) * noise / (1 - noise)\n",
    "\n",
    "    return private_result, true_result"
   ]
  },
  {
   "cell_type": "markdown",
   "metadata": {
    "colab_type": "text",
    "id": "3a4YrQey7Wzc"
   },
   "source": [
    "### Task 5: Show how the private result (with noise) and the true result (without noise) changes for databases of size 10, 100, 1000, and 10000 with varying noise levels (noise=[0.1, 0.2, ..., 0.9]). (5 points)\n",
    "*Hint: A convenience function for plotting results is provided for you.*"
   ]
  },
  {
   "cell_type": "code",
   "execution_count": 380,
   "metadata": {},
   "outputs": [],
   "source": [
    "import matplotlib.pyplot as plt\n",
    "\n",
    "\n",
    "def plot_results(db_size, noises, private_results, true_results):\n",
    "    # plots the results on varying noise levels on a specific database size\n",
    "\n",
    "    plt.scatter(noises, private_results, color=\"blue\", label=\"With Noise\")\n",
    "    plt.scatter(noises, true_results, color=\"red\", label=\"Without Noise\")\n",
    "\n",
    "    plt.xlabel(\"Noise\")\n",
    "    plt.ylabel(\"Results\")\n",
    "    plt.title(\"DB Size : \" + str(db_size))\n",
    "\n",
    "    plt.legend()\n",
    "\n",
    "    plt.show()"
   ]
  },
  {
   "cell_type": "code",
   "execution_count": 381,
   "metadata": {
    "colab": {
     "base_uri": "https://localhost:8080/",
     "height": 51
    },
    "colab_type": "code",
    "id": "nJ76qxNr7c11",
    "outputId": "cb55a376-8fee-4238-e3a2-62e8fd72aafd",
    "scrolled": false
   },
   "outputs": [
    {
     "data": {
      "image/png": "[encoded data removed]",
      "text/plain": [
       "<Figure size 640x480 with 1 Axes>"
      ]
     },
     "metadata": {},
     "output_type": "display_data"
    },
    {
     "data": {
      "image/png": "[encoded data removed]",
      "text/plain": [
       "<Figure size 640x480 with 1 Axes>"
      ]
     },
     "metadata": {},
     "output_type": "display_data"
    },
    {
     "data": {
      "image/png": "[encoded data removed]",
      "text/plain": [
       "<Figure size 640x480 with 1 Axes>"
      ]
     },
     "metadata": {},
     "output_type": "display_data"
    },
    {
     "data": {
      "image/png": "[encoded data removed]",
      "text/plain": [
       "<Figure size 640x480 with 1 Axes>"
      ]
     },
     "metadata": {},
     "output_type": "display_data"
    }
   ],
   "source": [
    "def noise(sizes, noises):\n",
    "    for size in sizes:\n",
    "        private_results = []\n",
    "        true_results = []\n",
    "        for noise in noises:\n",
    "            db = torch.rand(size)\n",
    "            private_result, true_result = query(db, noise)\n",
    "            private_results.append(private_result)\n",
    "            true_results.append(true_result)\n",
    "        plot_results(size, noises, private_results, true_results)\n",
    "\n",
    "\n",
    "noises = [(i + 1) / 10 for i in range(9)]\n",
    "sizes = [10, 100, 1000, 10000]\n",
    "noise(sizes, noises)"
   ]
  },
  {
   "cell_type": "markdown",
   "metadata": {
    "colab_type": "text",
    "id": "TYShe_kWDoX5"
   },
   "source": [
    "## The Formal Definition of Differential Privacy\n",
    "\n",
    "The previous method of adding noise was called \"Local Differential Privacy\" because we added noise to each data point individually. This is necessary for some situations wherein the data is so sensitive that individuals do not trust noise to be added later. However, it comes at a very high cost in terms of accuracy.\n",
    "\n",
    "However, alternatively, we can add noise after a function has aggregated data. This kind of noise can allow for similar levels of protection with a lower effect on accuracy. However, participants must be able to trust that no one looked at their data points before the aggregation took place. In some situations, this works out well, but it is less realistic in others (such as an individual hand-surveying a group of people).\n",
    "\n",
    "Nevertheless, global differential privacy is incredibly important because it allows us to perform differential privacy on smaller groups of individuals with lower amounts of noise. Let's revisit our sum functions."
   ]
  },
  {
   "cell_type": "code",
   "execution_count": 382,
   "metadata": {
    "colab": {
     "base_uri": "https://localhost:8080/",
     "height": 34
    },
    "colab_type": "code",
    "id": "995NcC99EiVs",
    "outputId": "79f83543-f65a-466d-c19a-6ad99d7d304a"
   },
   "outputs": [
    {
     "data": {
      "text/plain": [
       "tensor(47.)"
      ]
     },
     "execution_count": 382,
     "metadata": {},
     "output_type": "execute_result"
    }
   ],
   "source": [
    "db, pdbs = create_db_and_parallels(100)\n",
    "\n",
    "\n",
    "def query(db):\n",
    "    return torch.sum(db.float())\n",
    "\n",
    "\n",
    "def M(db):\n",
    "    query(db) + noise\n",
    "\n",
    "\n",
    "query(db)"
   ]
  },
  {
   "cell_type": "markdown",
   "metadata": {
    "colab_type": "text",
    "id": "atL-J0V7Es7e"
   },
   "source": [
    "The idea here is that we want to add noise to the output of our function. We can add two different kinds of noise - Laplacian Noise and Gaussian Noise. However, before we do so, we need to dive into the formal definition of Differential Privacy."
   ]
  },
  {
   "cell_type": "markdown",
   "metadata": {
    "colab_type": "text",
    "id": "Zbai8k1vKaE7"
   },
   "source": [
    "### Epsilon\n",
    "Let's unpack the intuition of this for a moment.\n",
    "\n",
    "**Epsilon Zero**: If a query satisfied this inequality where epsilon was set to 0, then that would mean that the query for all parallel databases outputs the same value as the full database. \n",
    "\n",
    "**Epsilon One**: If a query satisfied this inequality with epsilon 1, then the maximum distance between all queries would be 1 - or more precisely - the maximum distance between the two random distributions M(x) and M(y) is 1 (because all these queries have some amount of randomness in them, just like we observed in the last section).\n",
    "\n",
    "### Delta\n",
    "\n",
    "Delta is the probability that epsilon breaks. Namely, sometimes the epsilon is different for some queries than others. \n",
    "\n",
    "## How To Add Noise for Global Differential Privacy\n",
    "\n",
    "Let's learn how to take a query and add varying amounts of noise to satisfy a certain degree of differential privacy. In particular, we will leave behind the previously discussed Local Differential privacy and instead focus on Global differential privacy.\n",
    "\n",
    "To sum up, this is about adding noise to our query's output to satisfy a certain epsilon-delta differential privacy threshold.\n",
    "\n",
    "We can add two kinds of noise - Gaussian Noise and Laplacian Noise. Generally speaking, Laplacian is better, but both are still valid. \n",
    "\n",
    "How much noise should we add?\n",
    "The amount of noise necessary to add to the output of a query is a function of four things:\n",
    "1. the type of noise (Gaussian/Laplacian)\n",
    "2. the sensitivity of the query/function\n",
    "3. the desired epsilon (ε)\n",
    "4. the desired delta (δ)\n",
    "\n",
    "Laplacian noise is increased/decreased according to a \"scale\" parameter b. We choose \"b\" based on the following formula.\n",
    "\n",
    "b = sensitivity(query) / epsilon\n",
    "\n",
    "In other words, if we set b to be this value, we know we will have a privacy leakage <= epsilon. Furthermore, the nice thing about Laplace is that it guarantees this with delta == 0. However, we can tune the parameters such that we have very low epsilon where the delta is non-zero, but we'll ignore them for now.\n",
    "\n",
    "If we query the database multiple times - we can add the epsilons (even if we change the amount of noise and their epsilons are not the same)."
   ]
  },
  {
   "cell_type": "markdown",
   "metadata": {
    "colab_type": "text",
    "id": "aSynwpjnONRZ"
   },
   "source": [
    "## Create a Differentially Private Query\n",
    "\n",
    "Let's create a query function that sums over the database and adds just the right amount of noise to satisfy an epsilon constraint. "
   ]
  },
  {
   "cell_type": "code",
   "execution_count": 383,
   "metadata": {
    "colab": {},
    "colab_type": "code",
    "id": "91mr9BS3OZu6"
   },
   "outputs": [],
   "source": [
    "import numpy as np\n",
    "\n",
    "epsilon = 0.0001\n",
    "\n",
    "db, pdbs = create_db_and_parallels(100)\n",
    "\n",
    "\n",
    "def sum_query(db):\n",
    "    return db.sum()\n",
    "\n",
    "\n",
    "def mean_query(db):\n",
    "    return torch.mean(db.float())\n",
    "\n",
    "\n",
    "def laplacian_mechanism(db, query, sensitivity):\n",
    "\n",
    "    beta = sensitivity / epsilon\n",
    "    noise = torch.tensor(np.random.laplace(0, beta, 1))\n",
    "\n",
    "    return query(db) + noise"
   ]
  },
  {
   "cell_type": "code",
   "execution_count": 384,
   "metadata": {
    "colab": {
     "base_uri": "https://localhost:8080/",
     "height": 34
    },
    "colab_type": "code",
    "id": "zifNq2BtOG2o",
    "outputId": "255a0fdc-4fb8-4dc3-a116-9436331d1f6f"
   },
   "outputs": [
    {
     "data": {
      "text/plain": [
       "tensor([3675.9634], dtype=torch.float64)"
      ]
     },
     "execution_count": 384,
     "metadata": {},
     "output_type": "execute_result"
    }
   ],
   "source": [
    "laplacian_mechanism(db, sum_query, 1)"
   ]
  },
  {
   "cell_type": "code",
   "execution_count": 385,
   "metadata": {
    "colab": {
     "base_uri": "https://localhost:8080/",
     "height": 34
    },
    "colab_type": "code",
    "id": "kXcNAkW0O0Zy",
    "outputId": "92c13a6f-978d-414e-cb7a-03e2f59bde83"
   },
   "outputs": [
    {
     "data": {
      "text/plain": [
       "tensor([153.0858], dtype=torch.float64)"
      ]
     },
     "execution_count": 385,
     "metadata": {},
     "output_type": "execute_result"
    }
   ],
   "source": [
    "laplacian_mechanism(db, mean_query, 1/100)"
   ]
  },
  {
   "cell_type": "markdown",
   "metadata": {
    "colab_type": "text",
    "id": "FlURPqV8O-Ux"
   },
   "source": [
    "# Differential Privacy for Deep Learning\n",
    "\n",
    "## An Example Scenario: A Health Neural Network\n",
    "\n",
    "Let's consider a scenario - you work for a hospital and have a large collection of images of your patients. However, you do not know what's in them. You would like to use these images to develop a neural network to classify them automatically. However, since your images aren't labeled, they aren't sufficient to train a classifier.\n",
    "\n",
    "However, you realize you can reach out to 10 partner hospitals with annotated data. You plan to train your new classifier on their datasets so that you can automatically label your own. While these hospitals are interested in helping, they have privacy concerns regarding patient information. Thus, you will use the following technique to train a classifier that protects patients' privacy in the other hospitals.\n",
    "\n",
    "1. You ask each of the 10 hospitals to train a model on their datasets (all of which have the same labels).\n",
    "2. Use each of the 10 partner models on your local dataset, generating 10 labels for each of your data points.\n",
    "3. For each local data point (now with 10 labels), you perform a DP query to generate the final true label. This query is a \"max\" function, where \"max\" is the most frequent label across the 10 labels. You need to add laplacian noise to make this \"Differentially Private\" to a certain epsilon/delta constraint.\n",
    "4. Finally, you retrain a new model on your local dataset, which now has labels. This trained model will be our final \"Differentially Private\" model.\n",
    "\n",
    "Assuming you're already familiar with how to train/predict a deep neural network, we'll skip steps 1 and 2 and work with example data. We'll focus instead on step 3, namely how to perform the DP query for each example using toy data.\n",
    "\n",
    "So, let's say we have 10,000 training examples, and we've got 10 labels for each example (from our 10 \"teacher models,\" which were trained directly on private data). Each label is chosen from 10 possible labels (categories) for each image."
   ]
  },
  {
   "cell_type": "code",
   "execution_count": 386,
   "metadata": {
    "colab": {},
    "colab_type": "code",
    "id": "2VHw1KI2ZpBZ"
   },
   "outputs": [],
   "source": [
    "import numpy as np\n",
    "\n",
    "num_teachers = 10  # we're working with 10 partner hospitals\n",
    "num_examples = 10000  # the size of OUR dataset\n",
    "num_labels = 10  # number of lablels for our classifier"
   ]
  },
  {
   "cell_type": "code",
   "execution_count": 387,
   "metadata": {
    "colab": {
     "base_uri": "https://localhost:8080/",
     "height": 136
    },
    "colab_type": "code",
    "id": "-WpqqnUDc88O",
    "outputId": "0bc510c8-df17-4183-896a-b08e692bf30c"
   },
   "outputs": [
    {
     "data": {
      "text/plain": [
       "array([[8, 1, 2, ..., 1, 3, 2],\n",
       "       [7, 5, 3, ..., 8, 6, 0],\n",
       "       [4, 1, 6, ..., 9, 4, 2],\n",
       "       ...,\n",
       "       [2, 0, 0, ..., 7, 7, 0],\n",
       "       [8, 5, 0, ..., 4, 0, 9],\n",
       "       [3, 0, 8, ..., 9, 7, 2]])"
      ]
     },
     "execution_count": 387,
     "metadata": {},
     "output_type": "execute_result"
    }
   ],
   "source": [
    "preds = (np.random.rand(num_teachers, num_examples) *\n",
    "         num_labels).astype(int).transpose(1, 0)  # fake predictions\n",
    "preds"
   ]
  },
  {
   "cell_type": "markdown",
   "metadata": {
    "colab_type": "text",
    "id": "QblGI2fgdmXB"
   },
   "source": [
    "Prediction for the first data item from all the teachers."
   ]
  },
  {
   "cell_type": "code",
   "execution_count": 388,
   "metadata": {
    "colab": {
     "base_uri": "https://localhost:8080/",
     "height": 34
    },
    "colab_type": "code",
    "id": "TpHEt0XydVrM",
    "outputId": "e4a40444-3eb0-4d70-a966-72f88a06dccc"
   },
   "outputs": [
    {
     "data": {
      "text/plain": [
       "array([8, 1, 2, 0, 1, 5, 5, 1, 3, 2])"
      ]
     },
     "execution_count": 388,
     "metadata": {},
     "output_type": "execute_result"
    }
   ],
   "source": [
    "preds[0]"
   ]
  },
  {
   "cell_type": "markdown",
   "metadata": {
    "colab_type": "text",
    "id": "uNEssMDKdg8d"
   },
   "source": [
    "All the predictions from the first teacher."
   ]
  },
  {
   "cell_type": "code",
   "execution_count": 389,
   "metadata": {
    "colab": {
     "base_uri": "https://localhost:8080/",
     "height": 34
    },
    "colab_type": "code",
    "id": "gODrmYyRdYLe",
    "outputId": "c66b288e-fe6e-4af8-f331-821710f5f5c2"
   },
   "outputs": [
    {
     "data": {
      "text/plain": [
       "array([8, 7, 4, ..., 2, 8, 3])"
      ]
     },
     "execution_count": 389,
     "metadata": {},
     "output_type": "execute_result"
    }
   ],
   "source": [
    "preds[:, 0]"
   ]
  },
  {
   "cell_type": "markdown",
   "metadata": {
    "colab_type": "text",
    "id": "UCoooxS7dyZv"
   },
   "source": [
    "### Task 6: Combine these label predictions in a differentially private way. You may use an epsilon value of 0.1. (10 Points)"
   ]
  },
  {
   "cell_type": "code",
   "execution_count": 390,
   "metadata": {},
   "outputs": [
    {
     "name": "stdout",
     "output_type": "stream",
     "text": [
      "[9 1 0 ... 0 0 0]\n"
     ]
    }
   ],
   "source": [
    "from numpy.random import laplace\n",
    "from scipy.stats import mode\n",
    "import numpy as np\n",
    "\n",
    "epsilon = 0.1\n",
    "modes, _ = mode(preds, axis=1)\n",
    "initial_predictions = modes.flatten()\n",
    "\n",
    "noise = laplace(loc=0, scale=1/epsilon, size=initial_predictions.shape)\n",
    "noisy_predictions = initial_predictions + noise\n",
    "noisy_predictions = np.clip(noisy_predictions, 0, num_labels - 1).astype(int)\n",
    "print(noisy_predictions)"
   ]
  },
  {
   "cell_type": "markdown",
   "metadata": {},
   "source": [
    "# Federated Learning\n",
    "\n",
    "Federated Learning is a machine learning technique that allows multiple clients to collaborate on a model training task without sharing their data with a central server. Instead, the clients train their models locally and exchange model updates with each other or with a central aggregator to improve the global model.\n",
    "\n",
    "### Learning Objectives\n",
    "\n",
    "By completing this part of the lab, you will learn:\n",
    "\n",
    "* How to use PyTorch to implement a federated learning algorithm\n",
    "* How to distribute the training process across multiple clients\n",
    "* How to aggregate model weights from multiple clients to improve the global model performance\n",
    "* How to evaluate the performance of a federated learning algorithm\n"
   ]
  },
  {
   "cell_type": "markdown",
   "metadata": {},
   "source": [
    "### Set up the environment\n",
    "\n",
    "We start by installing the required packages and importing the necessary modules.\n",
    "It is highly recommended that you check out the [FedLab GitHub](https://github.com/SMILELab-FL/FedLab) repo and use the code directly from there.\n",
    "Alternatively, using the following command, you can install fedlab and torchvision.\n",
    "\n",
    "Reference: Tutorial for FedLab users (https://github.com/SMILELab-FL/FedLab/blob/master/tutorials/pipeline_tutorial.ipynb)"
   ]
  },
  {
   "cell_type": "code",
   "execution_count": 391,
   "metadata": {},
   "outputs": [
    {
     "name": "stdout",
     "output_type": "stream",
     "text": [
      "Requirement already satisfied: fedlab in /Users/joshmoskoff/anaconda3/envs/aiblock/lib/python3.8/site-packages (1.3.0)\n",
      "Requirement already satisfied: torch>=1.7.1 in /Users/joshmoskoff/anaconda3/envs/aiblock/lib/python3.8/site-packages (from fedlab) (2.2.1)\n",
      "Requirement already satisfied: torchvision>=0.8.2 in /Users/joshmoskoff/anaconda3/envs/aiblock/lib/python3.8/site-packages (from fedlab) (0.17.1)\n",
      "Requirement already satisfied: numpy in /Users/joshmoskoff/anaconda3/envs/aiblock/lib/python3.8/site-packages (from fedlab) (1.22.4)\n",
      "Requirement already satisfied: pandas in /Users/joshmoskoff/anaconda3/envs/aiblock/lib/python3.8/site-packages (from fedlab) (2.0.3)\n",
      "Requirement already satisfied: scikit-learn in /Users/joshmoskoff/anaconda3/envs/aiblock/lib/python3.8/site-packages (from fedlab) (1.3.2)\n",
      "Requirement already satisfied: pynvml in /Users/joshmoskoff/anaconda3/envs/aiblock/lib/python3.8/site-packages (from fedlab) (11.5.0)\n",
      "Requirement already satisfied: tqdm in /Users/joshmoskoff/anaconda3/envs/aiblock/lib/python3.8/site-packages (from fedlab) (4.66.2)\n",
      "Requirement already satisfied: munch in /Users/joshmoskoff/anaconda3/envs/aiblock/lib/python3.8/site-packages (from fedlab) (4.0.0)\n",
      "Requirement already satisfied: filelock in /Users/joshmoskoff/anaconda3/envs/aiblock/lib/python3.8/site-packages (from torch>=1.7.1->fedlab) (3.13.1)\n",
      "Requirement already satisfied: typing-extensions>=4.8.0 in /Users/joshmoskoff/anaconda3/envs/aiblock/lib/python3.8/site-packages (from torch>=1.7.1->fedlab) (4.10.0)\n",
      "Requirement already satisfied: sympy in /Users/joshmoskoff/anaconda3/envs/aiblock/lib/python3.8/site-packages (from torch>=1.7.1->fedlab) (1.12)\n",
      "Requirement already satisfied: networkx in /Users/joshmoskoff/anaconda3/envs/aiblock/lib/python3.8/site-packages (from torch>=1.7.1->fedlab) (3.1)\n",
      "Requirement already satisfied: jinja2 in /Users/joshmoskoff/anaconda3/envs/aiblock/lib/python3.8/site-packages (from torch>=1.7.1->fedlab) (3.1.3)\n",
      "Requirement already satisfied: fsspec in /Users/joshmoskoff/anaconda3/envs/aiblock/lib/python3.8/site-packages (from torch>=1.7.1->fedlab) (2024.2.0)\n",
      "Requirement already satisfied: pillow!=8.3.*,>=5.3.0 in /Users/joshmoskoff/anaconda3/envs/aiblock/lib/python3.8/site-packages (from torchvision>=0.8.2->fedlab) (10.2.0)\n",
      "Requirement already satisfied: python-dateutil>=2.8.2 in /Users/joshmoskoff/anaconda3/envs/aiblock/lib/python3.8/site-packages (from pandas->fedlab) (2.8.2)\n",
      "Requirement already satisfied: pytz>=2020.1 in /Users/joshmoskoff/anaconda3/envs/aiblock/lib/python3.8/site-packages (from pandas->fedlab) (2024.1)\n",
      "Requirement already satisfied: tzdata>=2022.1 in /Users/joshmoskoff/anaconda3/envs/aiblock/lib/python3.8/site-packages (from pandas->fedlab) (2024.1)\n",
      "Requirement already satisfied: scipy>=1.5.0 in /Users/joshmoskoff/anaconda3/envs/aiblock/lib/python3.8/site-packages (from scikit-learn->fedlab) (1.7.3)\n",
      "Requirement already satisfied: joblib>=1.1.1 in /Users/joshmoskoff/anaconda3/envs/aiblock/lib/python3.8/site-packages (from scikit-learn->fedlab) (1.3.2)\n",
      "Requirement already satisfied: threadpoolctl>=2.0.0 in /Users/joshmoskoff/anaconda3/envs/aiblock/lib/python3.8/site-packages (from scikit-learn->fedlab) (3.3.0)\n",
      "Requirement already satisfied: six>=1.5 in /Users/joshmoskoff/anaconda3/envs/aiblock/lib/python3.8/site-packages (from python-dateutil>=2.8.2->pandas->fedlab) (1.16.0)\n"
     ]
    },
    {
     "name": "stdout",
     "output_type": "stream",
     "text": [
      "Requirement already satisfied: MarkupSafe>=2.0 in /Users/joshmoskoff/anaconda3/envs/aiblock/lib/python3.8/site-packages (from jinja2->torch>=1.7.1->fedlab) (2.1.5)\n",
      "Requirement already satisfied: mpmath>=0.19 in /Users/joshmoskoff/anaconda3/envs/aiblock/lib/python3.8/site-packages (from sympy->torch>=1.7.1->fedlab) (1.3.0)\n",
      "Note: you may need to restart the kernel to use updated packages.\n"
     ]
    }
   ],
   "source": [
    "%pip install fedlab"
   ]
  },
  {
   "cell_type": "markdown",
   "metadata": {},
   "source": [
    "If you clone the FedLab GitHub repo, here's an example code snippet on how you may configure your environment."
   ]
  },
  {
   "cell_type": "code",
   "execution_count": 392,
   "metadata": {},
   "outputs": [],
   "source": [
    "import sys\n",
    "# sys.path.append(\"../\")\n",
    "\n",
    "# configuration\n",
    "from munch import Munch\n",
    "from fedlab.models.mlp import MLP\n",
    "\n",
    "from fedlab.utils.functional import evaluate\n",
    "from fedlab.core.standalone import StandalonePipeline\n",
    "from fedlab.utils.dataset import MNISTPartitioner\n",
    "\n",
    "from torch import nn\n",
    "from torch.utils.data import DataLoader, Subset\n",
    "import torch\n",
    "from torchvision import datasets, transforms\n",
    "import torchvision\n",
    "\n",
    "import matplotlib.pylab as plt\n",
    "\n",
    "\n",
    "from torch.utils.data import DataLoader\n",
    "from torchvision import datasets, transforms\n",
    "\n",
    "from fedlab.contrib.algorithm.basic_client import SGDSerialClientTrainer, SGDClientTrainer\n",
    "from fedlab.contrib.algorithm.basic_server import SyncServerHandler\n",
    "from fedlab.contrib.algorithm.basic_client import SerialClientTrainer\n",
    "from fedlab.contrib.algorithm.basic_server import SyncServerHandler"
   ]
  },
  {
   "cell_type": "markdown",
   "metadata": {},
   "source": [
    "### Task 7: Load the MNIST dataset [3 points]\n",
    "\n",
    "You will be using the MNIST dataset for this lab. You may load the dataset using the TorchVision API or use Fedlab's version of the dataset.\n",
    "FedLab provides the necessary module for users to partition their datasets. Additionally, various implementations of datasets partition for federated learning are available at the [URL](https://github.com/SMILELab-FL/FedLab/tree/master/datasets)."
   ]
  },
  {
   "cell_type": "code",
   "execution_count": 393,
   "metadata": {},
   "outputs": [
    {
     "name": "stdout",
     "output_type": "stream",
     "text": [
      "mkdir: ./datasets: File exists\n"
     ]
    }
   ],
   "source": [
    "!mkdir ./datasets"
   ]
  },
  {
   "cell_type": "code",
   "execution_count": 394,
   "metadata": {},
   "outputs": [],
   "source": [
    "class DatasetManager:\n",
    "    def __init__(self, base_dataset, partition_indices, batch_size):\n",
    "        \"\"\"\n",
    "        Initializes the DatasetManager with the base dataset, partition indices, and a batch size.\n",
    "\n",
    "        :param base_dataset: The base dataset from which subsets are created.\n",
    "        :param partition_indices: A dictionary mapping client IDs to their respective dataset indices.\n",
    "        :param batch_size: The batch size for DataLoader instances.\n",
    "        \"\"\"\n",
    "        self.base_dataset = base_dataset\n",
    "        self.partition_indices = partition_indices\n",
    "        self.batch_size = batch_size\n",
    "        self.data_loaders = self._create_data_loaders()\n",
    "\n",
    "    def _create_data_loaders(self):\n",
    "        \"\"\"\n",
    "        Private method to create a DataLoader for each partition (client).\n",
    "\n",
    "        :return: A list of DataLoader instances, each corresponding to a client's dataset.\n",
    "        \"\"\"\n",
    "        data_loaders = []\n",
    "        # Ensure consistent order\n",
    "        for client_id in sorted(self.partition_indices.keys()):\n",
    "            indices = self.partition_indices[client_id]\n",
    "            subset = Subset(self.base_dataset, indices)\n",
    "            loader = DataLoader(\n",
    "                subset, batch_size=self.batch_size, shuffle=True)\n",
    "            data_loaders.append(loader)\n",
    "        return data_loaders\n",
    "\n",
    "    def get_dataloader(self, client_id, batch_size=0):\n",
    "        \"\"\"\n",
    "        Returns a DataLoader for the specified client ID.\n",
    "\n",
    "        :param client_id: The ID of the client for which to get the DataLoader.\n",
    "        :return: A DataLoader object for the specified client's dataset.\n",
    "        \"\"\"\n",
    "        return self.data_loaders[client_id]\n",
    "\n",
    "\n",
    "transform = transforms.Compose([\n",
    "    transforms.ToTensor(),\n",
    "])\n",
    "\n",
    "mnist_train = datasets.MNIST(\n",
    "    root='./data', train=True, download=True, transform=transform)\n",
    "mnist_test = datasets.MNIST(\n",
    "    root='./data', train=False, download=True, transform=transform)\n",
    "\n",
    "partitioner = MNISTPartitioner(mnist_train, 10)\n",
    "datasets = DatasetManager(base_dataset=mnist_train,\n",
    "                          partition_indices=partitioner.client_dict, batch_size=10)"
   ]
  },
  {
   "cell_type": "markdown",
   "metadata": {},
   "source": [
    "Once you load the dataset, you may use the following function to visualize the digits."
   ]
  },
  {
   "cell_type": "code",
   "execution_count": 395,
   "metadata": {},
   "outputs": [],
   "source": [
    "IMAGE_SIZE = 28\n",
    "\n",
    "\n",
    "def show_data(data_sample):\n",
    "    \"\"\"plot out data samples as images\"\"\"\n",
    "    plt.imshow(data_sample[0].numpy().reshape(\n",
    "        IMAGE_SIZE, IMAGE_SIZE), cmap='gray')\n",
    "    plt.title('y = ' + str(data_sample[1]))"
   ]
  },
  {
   "cell_type": "markdown",
   "metadata": {},
   "source": [
    "### Task 8: Visualize a single digit [2 points]\n",
    "\n",
    "Using the above function, visualize any digit in the dataset."
   ]
  },
  {
   "cell_type": "code",
   "execution_count": 396,
   "metadata": {},
   "outputs": [
    {
     "data": {
      "image/png": "[encoded data removed]",
      "text/plain": [
       "<Figure size 640x480 with 1 Axes>"
      ]
     },
     "metadata": {},
     "output_type": "display_data"
    }
   ],
   "source": [
    "# Type your code here.\n",
    "for images, labels in datasets.get_dataloader(0):\n",
    "    show_data([images[9], labels[9]])\n",
    "    break"
   ]
  },
  {
   "cell_type": "markdown",
   "metadata": {},
   "source": [
    "### Task 9: Define the model architecture [5 points]\n",
    "You should use PyTorch and the FedLab APIs to define your model architecture. \n",
    "\n",
    "*Hint: You can use a simple neural network or the `fedlab.models.mlp`.*"
   ]
  },
  {
   "cell_type": "code",
   "execution_count": 405,
   "metadata": {},
   "outputs": [],
   "source": [
    "# Type your code here\n",
    "# image size is 28 * 28 = 784\n",
    "# possible number of outputs = 10\n",
    "model = MLP(784, 10)\n",
    "args = Munch\n",
    "\n",
    "args.total_client = 10\n",
    "args.alpha = 0.5\n",
    "args.seed = 42\n",
    "args.preprocess = True\n",
    "args.cuda = \"cpu\""
   ]
  },
  {
   "cell_type": "markdown",
   "metadata": {},
   "source": [
    "### Task 10: Implement the client-side training logic [5 points]\n",
    "\n",
    "Implement the client-side training logic, which should involve loading the local data, training the model on the local data, and sending the updated weights to the server. \n",
    "\n",
    "*Hint: For this task, you may use the `fedlab.contrib.algorithm.basic_client`.*"
   ]
  },
  {
   "cell_type": "code",
   "execution_count": 406,
   "metadata": {},
   "outputs": [],
   "source": [
    "# client\n",
    "# local train configuration\n",
    "args.epochs = 5\n",
    "args.batch_size = 128\n",
    "args.lr = 0.1\n",
    "\n",
    "trainer = SGDSerialClientTrainer(\n",
    "    model, args.total_client, cuda=False)  # serial trainer\n",
    "# trainer = SGDClientTrainer(model, cuda=True) # single trainer\n",
    "client_loader = datasets\n",
    "trainer.setup_dataset(client_loader)\n",
    "trainer.setup_optim(args.epochs, args.batch_size, args.lr)"
   ]
  },
  {
   "cell_type": "markdown",
   "metadata": {},
   "source": [
    "### Task 11: Implement the server-side aggregation logic [5 points]\n",
    "\n",
    "Implement the server-side aggregation logic, which should involve receiving the updated weights from each client, aggregating the weights, and sending the updated global model weights back to each client. \n",
    "\n",
    "*Hint: You may use the `fedlab.contrib.algorithm.basic_server`.*"
   ]
  },
  {
   "cell_type": "code",
   "execution_count": 407,
   "metadata": {},
   "outputs": [],
   "source": [
    "# server\n",
    "# global configuration\n",
    "args.com_round = 10\n",
    "args.sample_ratio = 0.1\n",
    "\n",
    "handler = SyncServerHandler(\n",
    "    model=model, global_round=args.com_round, sample_ratio=args.sample_ratio, cuda=False)"
   ]
  },
  {
   "cell_type": "markdown",
   "metadata": {},
   "source": [
    "### Task 12: Train the federated learning algorithm [5 points]\n",
    "\n",
    "Once you have implemented the client-side training and server-side aggregation logic, you should train the model. \n",
    "\n",
    "*Hint: We recommend creating a subclass of the `fedlab.core.standalone.StandalonePipeline` for this purpose.*"
   ]
  },
  {
   "cell_type": "code",
   "execution_count": 408,
   "metadata": {},
   "outputs": [],
   "source": [
    "def evaluate_local(model, criterion, data_loader, device):\n",
    "    model.eval()\n",
    "    total_loss = 0.0\n",
    "    correct = 0\n",
    "    total = 0\n",
    "\n",
    "    with torch.no_grad():\n",
    "        for data, target in data_loader:\n",
    "            data, target = data.to(device), target.to(device)\n",
    "            output = model(data)\n",
    "            loss = criterion(output, target)\n",
    "            total_loss += loss.item()\n",
    "            _, predicted = torch.max(output.data, 1)\n",
    "            total += target.size(0)\n",
    "            correct += (predicted == target).sum().item()\n",
    "\n",
    "    avg_loss = total_loss / len(data_loader)\n",
    "    accuracy = 100. * correct / total\n",
    "    return avg_loss, accuracy\n",
    "\n",
    "\n",
    "def evaluate_global(model, criterion, dataset_manager, device):\n",
    "    total_loss = 0.0\n",
    "    total_accuracy = 0.0\n",
    "    totalClients = len(dataset_manager.data_loaders)\n",
    "\n",
    "    for client_id, data_loader in enumerate(dataset_manager.data_loaders):\n",
    "        avg_loss, accuracy = evaluate_local(\n",
    "            model, criterion, data_loader, device)\n",
    "        print(\n",
    "            f\"Client {client_id}: Loss = {avg_loss:.4f}, Accuracy = {accuracy:.2f}%\")\n",
    "        total_loss += avg_loss\n",
    "        total_accuracy += accuracy\n",
    "\n",
    "    global_avg_loss = total_loss / totalClients\n",
    "    global_accuracy = total_accuracy / totalClients\n",
    "    return global_avg_loss, global_accuracy"
   ]
  },
  {
   "cell_type": "code",
   "execution_count": 409,
   "metadata": {},
   "outputs": [],
   "source": [
    "criterion = nn.CrossEntropyLoss()\n",
    "\n",
    "\n",
    "class StandalonePipeline(object):\n",
    "    def __init__(self, handler: SyncServerHandler, trainer: SerialClientTrainer):\n",
    "        self.handler = handler\n",
    "        self.trainer = trainer\n",
    "        self.handler.num_clients = self.trainer.num_clients\n",
    "        self.losses = []\n",
    "        self.accuracies = []\n",
    "\n",
    "    def main(self):\n",
    "        while self.handler.if_stop is False:\n",
    "            # server side\n",
    "            sampled_clients = self.handler.sample_clients()\n",
    "            broadcast = self.handler.downlink_package\n",
    "\n",
    "            # client side\n",
    "            self.trainer.local_process(broadcast, sampled_clients)\n",
    "            uploads = self.trainer.uplink_package\n",
    "\n",
    "            # server side\n",
    "            for pack in uploads:\n",
    "                self.handler.load(pack)\n",
    "            loss, acc = evaluate_global(model, criterion, datasets, \"cpu\")\n",
    "            self.losses.append(loss)\n",
    "            self.accuracies.append(acc)\n",
    "\n",
    "            # evaluate\n",
    "            # return self.evaluate()\n",
    "            # self.handler.evaluate()"
   ]
  },
  {
   "cell_type": "markdown",
   "metadata": {},
   "source": [
    "### Task 13: Evaluate the federated learning algorithm [5 points]\n",
    "\n",
    "Now, evaluate the performance of the federated learning algorithm. You can do this by computing the accuracy of the global model on the test set. You can also compare the performance of the federated learning algorithm with that of a centralized learning algorithm, where the data is collected and trained on a single server.\n",
    "\n",
    "Use the convenience functions below for your evaluation."
   ]
  },
  {
   "cell_type": "code",
   "execution_count": 410,
   "metadata": {},
   "outputs": [],
   "source": [
    "def generate_loss_accuracy_charts(label, loss_list,  accuracy_list):\n",
    "\n",
    "    fig, ax1 = plt.subplots()\n",
    "\n",
    "    # create a subplot for the current key\n",
    "    # ax = fig.add_subplot(len(data1), 1, i+1)\n",
    "\n",
    "    color = 'tab:green'\n",
    "    ax1.set_xlabel('epoch', color=color)\n",
    "\n",
    "    color = 'tab:red'\n",
    "    ax1.plot(loss_list, color=color)\n",
    "    ax1.set_ylabel('total loss', color=color)\n",
    "    ax1.tick_params(axis='y', color=color)\n",
    "\n",
    "    ax2 = ax1.twinx()\n",
    "    color = 'tab:blue'\n",
    "    ax2.set_ylabel('accuracy', color=color)\n",
    "    ax2.plot(accuracy_list, color=color)\n",
    "    ax2.tick_params(axis='y', color=color)\n",
    "\n",
    "    ax1.set_title(label)\n",
    "\n",
    "    fig.tight_layout()\n",
    "\n",
    "    # show the figure\n",
    "    plt.show()"
   ]
  },
  {
   "cell_type": "markdown",
   "metadata": {},
   "source": [
    "In your analysis, you could analyze misclassified images using the following function."
   ]
  },
  {
   "cell_type": "code",
   "execution_count": 411,
   "metadata": {},
   "outputs": [],
   "source": [
    "def print_first_five_misclassified_samples(dataset, model):\n",
    "    Softmax_fn = nn.Softmax(dim=-1)\n",
    "    count = 0\n",
    "    for x, y in dataset:\n",
    "        z = model(x.unsqueeze(0))\n",
    "        _, yhat = torch.max(z, 1)\n",
    "        if yhat != y:\n",
    "            show_data((x, y))\n",
    "            plt.show()\n",
    "            print(\"yhat:\", yhat)\n",
    "            print(\"probability of class \", torch.max(Softmax_fn(z)).item())\n",
    "            count += 1\n",
    "        if count >= 5:\n",
    "            break"
   ]
  },
  {
   "cell_type": "code",
   "execution_count": null,
   "metadata": {},
   "outputs": [],
   "source": []
  },
  {
   "cell_type": "code",
   "execution_count": 412,
   "metadata": {},
   "outputs": [
    {
     "name": "stdout",
     "output_type": "stream",
     "text": [
      "Client 0: Loss = 2.3011, Accuracy = 10.55%\n",
      "Client 1: Loss = 2.2996, Accuracy = 10.78%\n",
      "Client 2: Loss = 2.3015, Accuracy = 10.80%\n",
      "Client 3: Loss = 2.3015, Accuracy = 10.23%\n",
      "Client 4: Loss = 2.2991, Accuracy = 11.47%\n",
      "Client 5: Loss = 2.3007, Accuracy = 10.20%\n",
      "Client 6: Loss = 2.3013, Accuracy = 10.23%\n",
      "Client 7: Loss = 2.3016, Accuracy = 10.45%\n",
      "Client 8: Loss = 2.3014, Accuracy = 10.52%\n",
      "Client 9: Loss = 2.3010, Accuracy = 10.97%\n",
      "Client 0: Loss = 2.3011, Accuracy = 10.55%\n",
      "Client 1: Loss = 2.2996, Accuracy = 10.78%\n",
      "Client 2: Loss = 2.3015, Accuracy = 10.80%\n",
      "Client 3: Loss = 2.3015, Accuracy = 10.23%\n",
      "Client 4: Loss = 2.2991, Accuracy = 11.47%\n",
      "Client 5: Loss = 2.3007, Accuracy = 10.20%\n",
      "Client 6: Loss = 2.3013, Accuracy = 10.23%\n",
      "Client 7: Loss = 2.3016, Accuracy = 10.45%\n",
      "Client 8: Loss = 2.3014, Accuracy = 10.52%\n",
      "Client 9: Loss = 2.3010, Accuracy = 10.97%\n",
      "Client 0: Loss = 2.3011, Accuracy = 10.55%\n",
      "Client 1: Loss = 2.2996, Accuracy = 10.78%\n",
      "Client 2: Loss = 2.3015, Accuracy = 10.80%\n",
      "Client 3: Loss = 2.3015, Accuracy = 10.23%\n",
      "Client 4: Loss = 2.2991, Accuracy = 11.47%\n",
      "Client 5: Loss = 2.3007, Accuracy = 10.20%\n",
      "Client 6: Loss = 2.3013, Accuracy = 10.23%\n",
      "Client 7: Loss = 2.3016, Accuracy = 10.45%\n",
      "Client 8: Loss = 2.3014, Accuracy = 10.52%\n",
      "Client 9: Loss = 2.3010, Accuracy = 10.97%\n",
      "Client 0: Loss = 2.3011, Accuracy = 10.55%\n",
      "Client 1: Loss = 2.2996, Accuracy = 10.78%\n",
      "Client 2: Loss = 2.3015, Accuracy = 10.80%\n",
      "Client 3: Loss = 2.3015, Accuracy = 10.23%\n",
      "Client 4: Loss = 2.2991, Accuracy = 11.47%\n",
      "Client 5: Loss = 2.3007, Accuracy = 10.20%\n",
      "Client 6: Loss = 2.3013, Accuracy = 10.23%\n",
      "Client 7: Loss = 2.3016, Accuracy = 10.45%\n",
      "Client 8: Loss = 2.3014, Accuracy = 10.52%\n",
      "Client 9: Loss = 2.3010, Accuracy = 10.97%\n",
      "Client 0: Loss = 2.3011, Accuracy = 10.55%\n",
      "Client 1: Loss = 2.2996, Accuracy = 10.78%\n",
      "Client 2: Loss = 2.3015, Accuracy = 10.80%\n",
      "Client 3: Loss = 2.3015, Accuracy = 10.23%\n",
      "Client 4: Loss = 2.2991, Accuracy = 11.47%\n",
      "Client 5: Loss = 2.3007, Accuracy = 10.20%\n",
      "Client 6: Loss = 2.3013, Accuracy = 10.23%\n",
      "Client 7: Loss = 2.3016, Accuracy = 10.45%\n",
      "Client 8: Loss = 2.3014, Accuracy = 10.52%\n",
      "Client 9: Loss = 2.3010, Accuracy = 10.97%\n",
      "Client 0: Loss = 2.3011, Accuracy = 10.55%\n",
      "Client 1: Loss = 2.2996, Accuracy = 10.78%\n",
      "Client 2: Loss = 2.3015, Accuracy = 10.80%\n",
      "Client 3: Loss = 2.3015, Accuracy = 10.23%\n",
      "Client 4: Loss = 2.2991, Accuracy = 11.47%\n",
      "Client 5: Loss = 2.3007, Accuracy = 10.20%\n",
      "Client 6: Loss = 2.3013, Accuracy = 10.23%\n",
      "Client 7: Loss = 2.3016, Accuracy = 10.45%\n",
      "Client 8: Loss = 2.3014, Accuracy = 10.52%\n",
      "Client 9: Loss = 2.3010, Accuracy = 10.97%\n",
      "Client 0: Loss = 2.3011, Accuracy = 10.55%\n",
      "Client 1: Loss = 2.2996, Accuracy = 10.78%\n",
      "Client 2: Loss = 2.3015, Accuracy = 10.80%\n",
      "Client 3: Loss = 2.3015, Accuracy = 10.23%\n",
      "Client 4: Loss = 2.2991, Accuracy = 11.47%\n",
      "Client 5: Loss = 2.3007, Accuracy = 10.20%\n",
      "Client 6: Loss = 2.3013, Accuracy = 10.23%\n",
      "Client 7: Loss = 2.3016, Accuracy = 10.45%\n",
      "Client 8: Loss = 2.3014, Accuracy = 10.52%\n",
      "Client 9: Loss = 2.3010, Accuracy = 10.97%\n",
      "Client 0: Loss = 2.3011, Accuracy = 10.55%\n",
      "Client 1: Loss = 2.2996, Accuracy = 10.78%\n",
      "Client 2: Loss = 2.3015, Accuracy = 10.80%\n",
      "Client 3: Loss = 2.3015, Accuracy = 10.23%\n",
      "Client 4: Loss = 2.2991, Accuracy = 11.47%\n",
      "Client 5: Loss = 2.3007, Accuracy = 10.20%\n",
      "Client 6: Loss = 2.3013, Accuracy = 10.23%\n",
      "Client 7: Loss = 2.3016, Accuracy = 10.45%\n",
      "Client 8: Loss = 2.3014, Accuracy = 10.52%\n",
      "Client 9: Loss = 2.3010, Accuracy = 10.97%\n",
      "Client 0: Loss = 2.3011, Accuracy = 10.55%\n",
      "Client 1: Loss = 2.2996, Accuracy = 10.78%\n",
      "Client 2: Loss = 2.3015, Accuracy = 10.80%\n",
      "Client 3: Loss = 2.3015, Accuracy = 10.23%\n",
      "Client 4: Loss = 2.2991, Accuracy = 11.47%\n",
      "Client 5: Loss = 2.3007, Accuracy = 10.20%\n",
      "Client 6: Loss = 2.3013, Accuracy = 10.23%\n",
      "Client 7: Loss = 2.3016, Accuracy = 10.45%\n",
      "Client 8: Loss = 2.3014, Accuracy = 10.52%\n",
      "Client 9: Loss = 2.3010, Accuracy = 10.97%\n",
      "Client 0: Loss = 2.3011, Accuracy = 10.55%\n",
      "Client 1: Loss = 2.2996, Accuracy = 10.78%\n",
      "Client 2: Loss = 2.3015, Accuracy = 10.80%\n",
      "Client 3: Loss = 2.3015, Accuracy = 10.23%\n",
      "Client 4: Loss = 2.2991, Accuracy = 11.47%\n",
      "Client 5: Loss = 2.3007, Accuracy = 10.20%\n",
      "Client 6: Loss = 2.3013, Accuracy = 10.23%\n",
      "Client 7: Loss = 2.3016, Accuracy = 10.45%\n",
      "Client 8: Loss = 2.3014, Accuracy = 10.52%\n",
      "Client 9: Loss = 2.3010, Accuracy = 10.97%\n"
     ]
    },
    {
     "data": {
      "image/png": "[encoded data removed]",
      "text/plain": [
       "<Figure size 640x480 with 2 Axes>"
      ]
     },
     "metadata": {},
     "output_type": "display_data"
    },
    {
     "data": {
      "image/png": "[encoded data removed]",
      "text/plain": [
       "<Figure size 640x480 with 1 Axes>"
      ]
     },
     "metadata": {},
     "output_type": "display_data"
    },
    {
     "name": "stdout",
     "output_type": "stream",
     "text": [
      "yhat: tensor([8])\n",
      "probability of class  0.10838906466960907\n"
     ]
    },
    {
     "data": {
      "image/png": "[encoded data removed]",
      "text/plain": [
       "<Figure size 640x480 with 1 Axes>"
      ]
     },
     "metadata": {},
     "output_type": "display_data"
    },
    {
     "name": "stdout",
     "output_type": "stream",
     "text": [
      "yhat: tensor([8])\n",
      "probability of class  0.10915305465459824\n"
     ]
    },
    {
     "data": {
      "image/png": "[encoded data removed]",
      "text/plain": [
       "<Figure size 640x480 with 1 Axes>"
      ]
     },
     "metadata": {},
     "output_type": "display_data"
    },
    {
     "name": "stdout",
     "output_type": "stream",
     "text": [
      "yhat: tensor([8])\n",
      "probability of class  0.1089107021689415\n"
     ]
    },
    {
     "data": {
      "image/png": "[encoded data removed]",
      "text/plain": [
       "<Figure size 640x480 with 1 Axes>"
      ]
     },
     "metadata": {},
     "output_type": "display_data"
    },
    {
     "name": "stdout",
     "output_type": "stream",
     "text": [
      "yhat: tensor([8])\n",
      "probability of class  0.11156115680932999\n"
     ]
    },
    {
     "data": {
      "image/png": "[encoded data removed]",
      "text/plain": [
       "<Figure size 640x480 with 1 Axes>"
      ]
     },
     "metadata": {},
     "output_type": "display_data"
    },
    {
     "name": "stdout",
     "output_type": "stream",
     "text": [
      "yhat: tensor([8])\n",
      "probability of class  0.10893209278583527\n"
     ]
    }
   ],
   "source": [
    "# Type your code here.\n",
    "pipeline = StandalonePipeline(handler, trainer)\n",
    "pipeline.main()\n",
    "generate_loss_accuracy_charts(\"Accuracy\", pipeline.losses, pipeline.accuracies)\n",
    "print_first_five_misclassified_samples(mnist_test, model)"
   ]
  },
  {
   "cell_type": "markdown",
   "metadata": {},
   "source": [
    "### Task 14: Fine-tune the hyperparameters [5 points]\n",
    "\n",
    "You should experiment with different hyperparameters to improve the performance of the federated learning algorithm. \n",
    "\n",
    "*Hint: You can try adjusting the num clients, learning rate, the batch size, or the number of communication rounds.*\n",
    "\n"
   ]
  },
  {
   "cell_type": "code",
   "execution_count": 416,
   "metadata": {},
   "outputs": [],
   "source": [
    "def parameterVariation(totalClients, learning_rates, batch_sizes):\n",
    "    for clients in totalClients:\n",
    "        for lr in learning_rates:\n",
    "            for batch_size in batch_sizes:\n",
    "                print(\n",
    "                    f\"Running experiment with {clients} clients, LR={lr}, Batch Size={batch_size}\")\n",
    "\n",
    "                # Partition the dataset\n",
    "                print(clients)\n",
    "                partitioner = MNISTPartitioner(mnist_train, clients)\n",
    "                dataset_manager = DatasetManager(base_dataset=mnist_train,\n",
    "                                                 partition_indices=partitioner.client_dict,\n",
    "                                                 batch_size=batch_size)\n",
    "\n",
    "                # Initialize model and trainer\n",
    "                model = MLP(784, 10)\n",
    "                args = Munch(epochs=5, lr=lr, batch_size=batch_size,\n",
    "                             total_client=clients, cuda=\"cpu\")\n",
    "                trainer = SGDSerialClientTrainer(model, clients, cuda=False)\n",
    "                trainer.setup_dataset(dataset_manager)\n",
    "                trainer.setup_optim(args.epochs, args.batch_size, args.lr)\n",
    "\n",
    "                # Initialize server handler\n",
    "                handler = SyncServerHandler(\n",
    "                    model=model, global_round=10, sample_ratio=0.1, cuda=False)\n",
    "\n",
    "                # Run standalone pipeline\n",
    "                pipeline = StandalonePipeline(handler, trainer)\n",
    "                pipeline.main()\n",
    "\n",
    "                # Evaluate the model\n",
    "                criterion = nn.CrossEntropyLoss()\n",
    "                loss, acc = evaluate_global(\n",
    "                    model, criterion, dataset_manager, \"cpu\")\n",
    "                print(f\"Global Loss: {loss}, Global Accuracy: {acc}%\")"
   ]
  },
  {
   "cell_type": "code",
   "execution_count": null,
   "metadata": {},
   "outputs": [],
   "source": [
    "# Example hyperparameter ranges\n",
    "totalClients = [10, 20]\n",
    "learning_rates = [0.01, 0.1]\n",
    "batch_sizes = [32, 64]\n",
    "\n",
    "# Run the experiment\n",
    "parameterVariation(totalClients, learning_rates, batch_sizes)"
   ]
  },
  {
   "cell_type": "markdown",
   "metadata": {},
   "source": [
    "### Task 15: A description of the federated learning algorithm you implemented. [5 points]\n"
   ]
  },
  {
   "cell_type": "markdown",
   "metadata": {},
   "source": [
    "The Federated Learning algorithm that I implemented required using FEDLab and PyTorch for the MNIST dataset with a Multi-Layer Perceptron (MLP) model. It partitions the dataset among a provided number of clients, ensuring data privacy by keeping training local and sharing only model updates with the server. This means neither the server nor other clients can see the data. The server aggregates these updates using SyncServerHandler to improve the global model across communication rounds. Client-side training uses SGDSerialClientTrainer for local model updates with Stochastic Gradient Descent, and the entire federated process is managed by StandalonePipeline. The StandalonePipeline is responsible for communication between clients and the server, as well as the final model evaluation. Because this setup can have any number of clients: it is a scalable, privacy-preserving approach to training ML models across distributed datasets. It also allows for flexible adjustments to training parameters, and of course ensures privacy by design."
   ]
  },
  {
   "cell_type": "markdown",
   "metadata": {},
   "source": [
    "### Task 16: A summary of the performance of the federated learning algorithm [5 points]"
   ]
  },
  {
   "cell_type": "markdown",
   "metadata": {},
   "source": [
    "I evaluated the performance of this algorithm by analyzing the output of the hyperparameter variation above. Regardless of the parameters, the loss is steady at 2.3. The accuracy, on the other hand, fluctuates to a minimum of 7.17% and a maximum of 14.02% an output snippet is as follows:  <br>\n",
    "Global Loss: 2.3065285139895497, Global Accuracy: 9.351666666666668% <br>\n",
    "Running experiment with 10 clients, LR=0.1, Batch Size=32 <br>\n",
    "Client 0: Loss = 2.3021, Accuracy = 11.27% <br>\n",
    "Client 1: Loss = 2.3019, Accuracy = 11.08% <br>\n",
    "Client 2: Loss = 2.3018, Accuracy = 10.88% <br>\n",
    "Client 3: Loss = 2.3021, Accuracy = 10.12% <br>\n",
    "Client 4: Loss = 2.3008, Accuracy = 11.55% <br>\n",
    "Client 5: Loss = 2.3013, Accuracy = 11.65% <br>\n",
    "Client 6: Loss = 2.3014, Accuracy = 11.22% <br>\n",
    "Client 7: Loss = 2.3018, Accuracy = 11.50% <br>\n",
    "Client 8: Loss = 2.3022, Accuracy = 10.88% <br>\n",
    "Client 9: Loss = 2.3025, Accuracy = 11.20% <br>\n",
    "Client 0: Loss = 2.3021, Accuracy = 11.27% <br>\n",
    "Client 1: Loss = 2.3019, Accuracy = 11.08% <br>\n",
    "Client 2: Loss = 2.3018, Accuracy = 10.88% <br>\n",
    "Client 3: Loss = 2.3021, Accuracy = 10.12% <br>\n",
    "Client 4: Loss = 2.3008, Accuracy = 11.55% <br>\n",
    "Client 5: Loss = 2.3013, Accuracy = 11.65% <br>\n",
    "Client 6: Loss = 2.3014, Accuracy = 11.22% <br>\n",
    "Client 7: Loss = 2.3018, Accuracy = 11.50% <br>\n",
    "Client 8: Loss = 2.3022, Accuracy = 10.88% <br>\n",
    "Client 9: Loss = 2.3025, Accuracy = 11.20% <br>\n",
    "Client 0: Loss = 2.3021, Accuracy = 11.27% <br>\n",
    "Client 1: Loss = 2.3019, Accuracy = 11.08% <br>\n",
    "Client 2: Loss = 2.3018, Accuracy = 10.88% <br>\n",
    "Client 3: Loss = 2.3021, Accuracy = 10.12% <br>\n",
    "Client 4: Loss = 2.3008, Accuracy = 11.55% <br>\n",
    "Client 5: Loss = 2.3013, Accuracy = 11.65% <br>\n",
    "Client 6: Loss = 2.3014, Accuracy = 11.22% <br>\n",
    "Client 7: Loss = 2.3018, Accuracy = 11.50% <br>\n",
    "Client 8: Loss = 2.3022, Accuracy = 10.88% <br>\n",
    "Client 9: Loss = 2.3025, Accuracy = 11.20% <br>"
   ]
  },
  {
   "cell_type": "markdown",
   "metadata": {},
   "source": [
    "### Task 17: A comparison of the performance of the federated learning algorithm with the performance of a centralized learning algorithm [5 points]\n",
    "\n",
    "*Hint: To implement centralized training you set num client to be 1 and try out a few different learning rates.*\n",
    "\n",
    "*Hint: You must also provide a written answer in markdown syntax analyzing the results you obtained.*"
   ]
  },
  {
   "cell_type": "code",
   "execution_count": 420,
   "metadata": {},
   "outputs": [
    {
     "name": "stdout",
     "output_type": "stream",
     "text": [
      "Running experiment with 1 clients, LR=10, Batch Size=64\n",
      "Client 0: Loss = 2.3011, Accuracy = 10.55%\n",
      "Client 1: Loss = 2.2996, Accuracy = 10.78%\n",
      "Client 2: Loss = 2.3015, Accuracy = 10.80%\n",
      "Client 3: Loss = 2.3015, Accuracy = 10.23%\n",
      "Client 4: Loss = 2.2991, Accuracy = 11.47%\n",
      "Client 5: Loss = 2.3007, Accuracy = 10.20%\n",
      "Client 6: Loss = 2.3013, Accuracy = 10.23%\n",
      "Client 7: Loss = 2.3016, Accuracy = 10.45%\n",
      "Client 8: Loss = 2.3014, Accuracy = 10.52%\n",
      "Client 9: Loss = 2.3010, Accuracy = 10.97%\n",
      "Client 0: Loss = 2.3011, Accuracy = 10.55%\n",
      "Client 1: Loss = 2.2996, Accuracy = 10.78%\n",
      "Client 2: Loss = 2.3015, Accuracy = 10.80%\n",
      "Client 3: Loss = 2.3015, Accuracy = 10.23%\n",
      "Client 4: Loss = 2.2991, Accuracy = 11.47%\n",
      "Client 5: Loss = 2.3007, Accuracy = 10.20%\n",
      "Client 6: Loss = 2.3013, Accuracy = 10.23%\n",
      "Client 7: Loss = 2.3016, Accuracy = 10.45%\n",
      "Client 8: Loss = 2.3014, Accuracy = 10.52%\n",
      "Client 9: Loss = 2.3010, Accuracy = 10.97%\n",
      "Client 0: Loss = 2.3011, Accuracy = 10.55%\n",
      "Client 1: Loss = 2.2996, Accuracy = 10.78%\n",
      "Client 2: Loss = 2.3015, Accuracy = 10.80%\n",
      "Client 3: Loss = 2.3015, Accuracy = 10.23%\n",
      "Client 4: Loss = 2.2991, Accuracy = 11.47%\n",
      "Client 5: Loss = 2.3007, Accuracy = 10.20%\n",
      "Client 6: Loss = 2.3013, Accuracy = 10.23%\n",
      "Client 7: Loss = 2.3016, Accuracy = 10.45%\n",
      "Client 8: Loss = 2.3014, Accuracy = 10.52%\n",
      "Client 9: Loss = 2.3010, Accuracy = 10.97%\n",
      "Client 0: Loss = 2.3011, Accuracy = 10.55%\n",
      "Client 1: Loss = 2.2996, Accuracy = 10.78%\n",
      "Client 2: Loss = 2.3015, Accuracy = 10.80%\n",
      "Client 3: Loss = 2.3015, Accuracy = 10.23%\n",
      "Client 4: Loss = 2.2991, Accuracy = 11.47%\n",
      "Client 5: Loss = 2.3007, Accuracy = 10.20%\n",
      "Client 6: Loss = 2.3013, Accuracy = 10.23%\n",
      "Client 7: Loss = 2.3016, Accuracy = 10.45%\n",
      "Client 8: Loss = 2.3014, Accuracy = 10.52%\n",
      "Client 9: Loss = 2.3010, Accuracy = 10.97%\n",
      "Client 0: Loss = 2.3011, Accuracy = 10.55%\n",
      "Client 1: Loss = 2.2996, Accuracy = 10.78%\n",
      "Client 2: Loss = 2.3015, Accuracy = 10.80%\n",
      "Client 3: Loss = 2.3015, Accuracy = 10.23%\n",
      "Client 4: Loss = 2.2991, Accuracy = 11.47%\n",
      "Client 5: Loss = 2.3007, Accuracy = 10.20%\n",
      "Client 6: Loss = 2.3013, Accuracy = 10.23%\n",
      "Client 7: Loss = 2.3016, Accuracy = 10.45%\n",
      "Client 8: Loss = 2.3014, Accuracy = 10.52%\n",
      "Client 9: Loss = 2.3010, Accuracy = 10.97%\n",
      "Client 0: Loss = 2.3011, Accuracy = 10.55%\n",
      "Client 1: Loss = 2.2996, Accuracy = 10.78%\n",
      "Client 2: Loss = 2.3015, Accuracy = 10.80%\n",
      "Client 3: Loss = 2.3015, Accuracy = 10.23%\n",
      "Client 4: Loss = 2.2991, Accuracy = 11.47%\n",
      "Client 5: Loss = 2.3007, Accuracy = 10.20%\n",
      "Client 6: Loss = 2.3013, Accuracy = 10.23%\n",
      "Client 7: Loss = 2.3016, Accuracy = 10.45%\n",
      "Client 8: Loss = 2.3014, Accuracy = 10.52%\n",
      "Client 9: Loss = 2.3010, Accuracy = 10.97%\n",
      "Client 0: Loss = 2.3011, Accuracy = 10.55%\n",
      "Client 1: Loss = 2.2996, Accuracy = 10.78%\n",
      "Client 2: Loss = 2.3015, Accuracy = 10.80%\n",
      "Client 3: Loss = 2.3015, Accuracy = 10.23%\n",
      "Client 4: Loss = 2.2991, Accuracy = 11.47%\n",
      "Client 5: Loss = 2.3007, Accuracy = 10.20%\n",
      "Client 6: Loss = 2.3013, Accuracy = 10.23%\n",
      "Client 7: Loss = 2.3016, Accuracy = 10.45%\n",
      "Client 8: Loss = 2.3014, Accuracy = 10.52%\n",
      "Client 9: Loss = 2.3010, Accuracy = 10.97%\n",
      "Client 0: Loss = 2.3011, Accuracy = 10.55%\n",
      "Client 1: Loss = 2.2996, Accuracy = 10.78%\n",
      "Client 2: Loss = 2.3015, Accuracy = 10.80%\n",
      "Client 3: Loss = 2.3015, Accuracy = 10.23%\n",
      "Client 4: Loss = 2.2991, Accuracy = 11.47%\n",
      "Client 5: Loss = 2.3007, Accuracy = 10.20%\n",
      "Client 6: Loss = 2.3013, Accuracy = 10.23%\n",
      "Client 7: Loss = 2.3016, Accuracy = 10.45%\n",
      "Client 8: Loss = 2.3014, Accuracy = 10.52%\n",
      "Client 9: Loss = 2.3010, Accuracy = 10.97%\n",
      "Client 0: Loss = 2.3011, Accuracy = 10.55%\n",
      "Client 1: Loss = 2.2996, Accuracy = 10.78%\n",
      "Client 2: Loss = 2.3015, Accuracy = 10.80%\n",
      "Client 3: Loss = 2.3015, Accuracy = 10.23%\n",
      "Client 4: Loss = 2.2991, Accuracy = 11.47%\n",
      "Client 5: Loss = 2.3007, Accuracy = 10.20%\n",
      "Client 6: Loss = 2.3013, Accuracy = 10.23%\n",
      "Client 7: Loss = 2.3016, Accuracy = 10.45%\n",
      "Client 8: Loss = 2.3014, Accuracy = 10.52%\n",
      "Client 9: Loss = 2.3010, Accuracy = 10.97%\n",
      "Client 0: Loss = 2.3011, Accuracy = 10.55%\n",
      "Client 1: Loss = 2.2996, Accuracy = 10.78%\n",
      "Client 2: Loss = 2.3015, Accuracy = 10.80%\n",
      "Client 3: Loss = 2.3015, Accuracy = 10.23%\n",
      "Client 4: Loss = 2.2991, Accuracy = 11.47%\n",
      "Client 5: Loss = 2.3007, Accuracy = 10.20%\n",
      "Client 6: Loss = 2.3013, Accuracy = 10.23%\n",
      "Client 7: Loss = 2.3016, Accuracy = 10.45%\n",
      "Client 8: Loss = 2.3014, Accuracy = 10.52%\n",
      "Client 9: Loss = 2.3010, Accuracy = 10.97%\n",
      "Client 0: Loss = 2.3034, Accuracy = 11.49%\n",
      "Global Loss: 2.3034259073261514, Global Accuracy: 11.495%\n"
     ]
    }
   ],
   "source": [
    "totalClients = [1]\n",
    "learning_rates = [10]\n",
    "batch_sizes = [64]\n",
    "\n",
    "# Run the experiment\n",
    "parameterVariation(totalClients, learning_rates, batch_sizes)"
   ]
  },
  {
   "cell_type": "markdown",
   "metadata": {},
   "source": [
    "Type your answer here (this is a written answer, use markdown syntax as necessary).\n",
    "The algorithm performs different with different numbers of participants. Because there is theoretically more data from broader sources the accuracy should increase as the number of participants increases. the loss would decrease as it has more data assuming the data is good. if there is a lot of noise in the data this could cause the loss to slightly increase with more participants/data."
   ]
  },
  {
   "cell_type": "markdown",
   "metadata": {},
   "source": [
    "### Task 18: A discussion of the hyperparameters you fine-tuned and their impact on the performance of the federated learning algorithm [5 points]"
   ]
  },
  {
   "cell_type": "markdown",
   "metadata": {},
   "source": [
    "I fine tuned 3 different parameters, the first is the number of clients, second is the learning rate, and third is the batch size. Batch size had the least affect on performance with number of clients being the most effective. The sample output file shows the variation in accuracy and loss with changes to the hyperparameters."
   ]
  },
  {
   "cell_type": "markdown",
   "metadata": {},
   "source": [
    "### Task 19: Implement the aggregator using a Solidity smart contract. [10 points]\n",
    "You must write Solidity code to get full points for this question. The contract should be syntactically correct (i.e., compile).\n",
    "\n",
    "Some Hints: \n",
    "* Create structs for the Participants (i.e., clients) and Global Model (i.e., the server). \n",
    "* Some useful functions to include in the smart contract: addParticipant, updateParticipantParameters, aggregate\n",
    "* The `aggregate` function should aggregate the model parameters from all the participants, and you are welcome to utilize any relevant algorithm for this purpose."
   ]
  },
  {
   "cell_type": "markdown",
   "metadata": {},
   "source": [
    "Since the code is in Solidity, place it inside the markdown cell in the \"javascript\" environment.\n",
    "\n",
    "```javascript\n",
    "// SPDX-License-Identifier: MIT\n",
    "pragma solidity ^0.8.0;\n",
    "\n",
    "contract FederatedLearningAggregator {\n",
    "    struct Participant {\n",
    "        uint256[] contributions;\n",
    "    }\n",
    "\n",
    "    mapping(address => Participant) private participants;\n",
    "    address[] private participantAddresses;\n",
    "    address private owner;\n",
    "\n",
    "    event ParticipantAdded(address participant);\n",
    "    event ParametersUpdated(address participant);\n",
    "    event ContributionsConcatenated(uint256[] concatenatedContributions);\n",
    "\n",
    "    constructor() {\n",
    "        owner = msg.sender;\n",
    "    }\n",
    "\n",
    "    modifier ownerOnly() {\n",
    "        require(msg.sender == owner, \"Owner only\");\n",
    "        _;\n",
    "    }\n",
    "\n",
    "    function addParticipant() external {\n",
    "        require(participants[msg.sender].contributions.length == 0, \"Participant already exists.\");\n",
    "        participantAddresses.push(msg.sender);\n",
    "        emit ParticipantAdded(msg.sender);\n",
    "    }\n",
    "\n",
    "    function updateParticipantParameters(uint256[] calldata _contributions) external {\n",
    "        require(participants[msg.sender].contributions.length != 0, \"Participant does not exist.\");\n",
    "        participants[msg.sender].contributions = _contributions;\n",
    "        emit ParametersUpdated(msg.sender);\n",
    "    }\n",
    "\n",
    "    function getParticipantContributions(address participant) external view returns (uint256[] memory) {\n",
    "        return participants[participant].contributions;\n",
    "    }\n",
    "\n",
    "    function aggregateContributions() external ownerOnly returns (uint256[] memory){\n",
    "        uint256 totalLength = 0;\n",
    "\n",
    "        for (uint256 i = 0; i < participantAddresses.length; i++) {\n",
    "            totalLength += participants[participantAddresses[i]].contributions.length;\n",
    "        }\n",
    "\n",
    "        uint256[] memory concatenatedContributions = new uint256[](totalLength);\n",
    "        uint256 currentIndex = 0;\n",
    "        for (uint256 i = 0; i < participantAddresses.length; i++) {\n",
    "            uint256[] memory currentContributions = participants[participantAddresses[i]].contributions;\n",
    "            for (uint256 j = 0; j < currentContributions.length; j++) {\n",
    "                concatenatedContributions[currentIndex++] = currentContributions[j];\n",
    "            }\n",
    "        }\n",
    "\n",
    "        emit ContributionsConcatenated(concatenatedContributions);\n",
    "        return concatenatedContributions;\n",
    "    }\n",
    "}\n",
    "\n",
    "```\n"
   ]
  },
  {
   "cell_type": "markdown",
   "metadata": {},
   "source": [
    "### Task 20: Deploying and using the aggregator smart contract. [5 points]\n",
    "Please describe the steps you would take to deploy the smart contract you developed above on an Ethereum test network (you need not deploy the contract). How would the participants/clients interact with the smart contract?"
   ]
  },
  {
   "cell_type": "markdown",
   "metadata": {},
   "source": [
    "Type your answer here (this is a written answer, use markdown syntax as necessary).\n",
    "\n",
    "The owner of the contract would deploy it on the test network. Then each participant would run the addParticipant function. this would allow them to submit to the aggregator. Then once they have run the model locally they will update their parameters by submitting them in an array (assuming the parameters are integers) to the updateParticipantParameters. the owner can then aggregate the participants parameters and get the concatenated contributions."
   ]
  }
 ],
 "metadata": {
  "colab": {
   "collapsed_sections": [],
   "name": "secure_private_AI.ipynb",
   "provenance": []
  },
  "kernelspec": {
   "display_name": "Python 3 (ipykernel)",
   "language": "python",
   "name": "python3"
  },
  "language_info": {
   "codemirror_mode": {
    "name": "ipython",
    "version": 3
   },
   "file_extension": ".py",
   "mimetype": "text/x-python",
   "name": "python",
   "nbconvert_exporter": "python",
   "pygments_lexer": "ipython3",
   "version": "3.8.18"
  },
  "vscode": {
   "interpreter": {
    "hash": "1fe8e4d96a285da23bbd9adf1624e7f8c0742471a586e45e4d4ad444ea6dadb4"
   }
  }
 },
 "nbformat": 4,
 "nbformat_minor": 1
}
